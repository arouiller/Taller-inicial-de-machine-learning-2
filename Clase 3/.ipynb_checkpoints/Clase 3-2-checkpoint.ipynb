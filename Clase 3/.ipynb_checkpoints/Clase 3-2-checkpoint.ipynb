{
 "cells": [
  {
   "cell_type": "markdown",
   "id": "d9dc0353-ef5e-4aad-95c2-c385737c7bb4",
   "metadata": {},
   "source": [
    "## Optimización de hiper-parámetros"
   ]
  },
  {
   "cell_type": "markdown",
   "id": "b8e9dce2-8521-4153-8945-f867b2937826",
   "metadata": {},
   "source": [
    "### Recapitulando"
   ]
  },
  {
   "cell_type": "code",
   "execution_count": 10,
   "id": "519999f7-a621-4b32-8be5-63c5f01d4298",
   "metadata": {
    "tags": []
   },
   "outputs": [],
   "source": [
    "import pandas as pd\n",
    "#import numpy as np\n",
    "\n",
    "import matplotlib.pyplot as plt\n",
    "\n",
    "from sklearn.model_selection import train_test_split\n",
    "from sklearn.metrics import ConfusionMatrixDisplay\n",
    "from sklearn.metrics import confusion_matrix\n",
    "from sklearn import tree\n",
    "\n",
    "from sklearn.tree import DecisionTreeClassifier\n",
    "\n",
    "from skopt import gp_minimize\n",
    "from skopt.space import Categorical, Dimension, Integer, Real  # noqa\n",
    "\n",
    "#from IPython.display import Image  "
   ]
  },
  {
   "cell_type": "code",
   "execution_count": 2,
   "id": "fd34f3c5-d2a2-440e-9c37-c735f4f36aed",
   "metadata": {
    "tags": []
   },
   "outputs": [],
   "source": [
    "directorio_data = '../data/'\n",
    "\n",
    "x_training_file = directorio_data + 'x_traininig.csv'\n",
    "y_training_file = directorio_data + 'y_traininig.csv'\n",
    "\n",
    "x_testing_file = directorio_data + 'x_testing.csv'\n",
    "y_testing_file = directorio_data + 'y_testing.csv'"
   ]
  },
  {
   "cell_type": "code",
   "execution_count": 3,
   "id": "dd490368-df32-4281-ba54-e5ebe84aa169",
   "metadata": {
    "tags": []
   },
   "outputs": [],
   "source": [
    "df_x_training_validacion = pd.read_csv(x_training_file)\n",
    "df_y_training_validacion = pd.read_csv(y_training_file)\n",
    "\n",
    "X_testing = pd.read_csv(x_testing_file)\n",
    "Y_testing = pd.read_csv(y_testing_file)"
   ]
  },
  {
   "cell_type": "markdown",
   "id": "24057195-5ab6-49a7-9a60-e02086a0b906",
   "metadata": {},
   "source": [
    "### Separamos nuestro dataset training-validación en training y validación"
   ]
  },
  {
   "cell_type": "code",
   "execution_count": 4,
   "id": "6ceb0c32-3524-43cf-ae51-cfd125654f10",
   "metadata": {
    "tags": []
   },
   "outputs": [],
   "source": [
    "random_state = 661\n",
    "test_size = 0.3\n",
    "\n",
    "X_training, X_validacion, Y_training, Y_validacion = train_test_split(\n",
    "    df_x_training_validacion, \n",
    "    df_y_training_validacion, \n",
    "    test_size=test_size, \n",
    "    random_state=random_state,\n",
    "    stratify=df_y_training_validacion\n",
    ")"
   ]
  },
  {
   "cell_type": "markdown",
   "id": "f90726c9-24d4-4e0f-8c0f-fa025645f9a5",
   "metadata": {},
   "source": [
    "### Dejamos solo las columnas que queremos"
   ]
  },
  {
   "cell_type": "code",
   "execution_count": 5,
   "id": "0138cf4d-c491-4068-bf6e-b3b32bb4a2c8",
   "metadata": {
    "tags": []
   },
   "outputs": [],
   "source": [
    "columnas = [\n",
    "    \"review_overall\",\n",
    "    \"review_aroma\",\n",
    "    \"review_appearance\",\n",
    "    \"review_palate\",\n",
    "    \"review_taste\",\n",
    "    \"beer_abv\"\n",
    "]"
   ]
  },
  {
   "cell_type": "code",
   "execution_count": 6,
   "id": "316061dc-0f59-42c9-8e1a-ee449f8e2ae0",
   "metadata": {
    "tags": []
   },
   "outputs": [],
   "source": [
    "X_training = X_training[columnas]\n",
    "X_validacion = X_validacion[columnas]\n",
    "X_testing = X_testing[columnas]"
   ]
  },
  {
   "cell_type": "markdown",
   "id": "10645057-ffe7-4a6c-92be-86ba55bba61d",
   "metadata": {},
   "source": [
    "## Optimización con grid search"
   ]
  },
  {
   "cell_type": "code",
   "execution_count": 7,
   "id": "ce0b1488-f724-4c00-a608-1b978574fe1d",
   "metadata": {
    "tags": []
   },
   "outputs": [
    {
     "name": "stdout",
     "output_type": "stream",
     "text": [
      "1 0.0\n",
      "2 0.0\n",
      "3 16.736401673640167\n",
      "4 43.93305439330544\n",
      "5 334.72803347280336\n",
      "6 345.1882845188284\n",
      "7 207.11297071129707\n",
      "8 309.6234309623431\n",
      "9 303.34728033472805\n",
      "10 372.3849372384937\n",
      "11 364.01673640167365\n",
      "12 309.6234309623431\n"
     ]
    }
   ],
   "source": [
    "punto_de_corte = 0.11111111\n",
    "\n",
    "max_depth_grid_search = [1,2,3,4,5,6,7,8,9,10,11,12]\n",
    "\n",
    "for max_depth in max_depth_grid_search:\n",
    "    #Creamos el árbol con los parámeros\n",
    "    criterion='gini'\n",
    "    clf = DecisionTreeClassifier(\n",
    "                criterion = criterion,\n",
    "                max_depth=max_depth,\n",
    "                random_state=random_state\n",
    "            )\n",
    "    _ = clf.fit(X_training, Y_training)\n",
    "    \n",
    "    #Predecimos en validación\n",
    "    Y_validacion_pred_proba = clf.predict_proba(X_validacion)\n",
    "    Y_validacion_pred_proba = pd.DataFrame(Y_validacion_pred_proba, columns = ['NO_prob', 'SI_prob'])\n",
    "    Y_validacion_pred_proba['prediccion'] = 'NO'\n",
    "    Y_validacion_pred_proba.loc[Y_validacion_pred_proba['SI_prob']>punto_de_corte,'prediccion'] = 'SI'\n",
    "    cm = confusion_matrix(Y_validacion, Y_validacion_pred_proba['prediccion'], labels=['SI', 'NO'])\n",
    "    true_positives = cm[0,0]\n",
    "    true_negatives = cm[1,1]\n",
    "    false_positives = cm[1, 0]\n",
    "    false_negatives = cm[0,1]\n",
    "    metrica_negocio = ((4000*true_positives) - (500*false_positives))/(true_positives + false_negatives)\n",
    "    print(max_depth, metrica_negocio)\n",
    "    "
   ]
  },
  {
   "cell_type": "markdown",
   "id": "b17852dc-e9b7-4144-9549-dceaaae048cc",
   "metadata": {},
   "source": [
    "## Optimización con grid search, dos parámetros"
   ]
  },
  {
   "cell_type": "code",
   "execution_count": 8,
   "id": "17fc6aa0-3c21-4a44-9beb-8a10532bedf9",
   "metadata": {
    "tags": []
   },
   "outputs": [
    {
     "name": "stdout",
     "output_type": "stream",
     "text": [
      "1 1 0.0\n",
      "2 1 0.0\n",
      "3 1 16.736401673640167\n",
      "4 1 43.93305439330544\n",
      "5 1 334.72803347280336\n",
      "6 1 345.1882845188284\n",
      "7 1 207.11297071129707\n",
      "8 1 309.6234309623431\n",
      "9 1 303.34728033472805\n",
      "10 1 372.3849372384937\n",
      "11 1 364.01673640167365\n",
      "12 1 309.6234309623431\n",
      "1 2 0.0\n",
      "2 2 0.0\n",
      "3 2 16.736401673640167\n",
      "4 2 43.93305439330544\n",
      "5 2 311.7154811715481\n",
      "6 2 343.0962343096234\n",
      "7 2 177.82426778242677\n",
      "8 2 288.7029288702929\n",
      "9 2 269.8744769874477\n",
      "10 2 223.84937238493723\n",
      "11 2 269.8744769874477\n",
      "12 2 198.744769874477\n",
      "1 3 0.0\n",
      "2 3 0.0\n",
      "3 3 16.736401673640167\n",
      "4 3 43.93305439330544\n",
      "5 3 311.7154811715481\n",
      "6 3 364.01673640167365\n",
      "7 3 232.21757322175733\n",
      "8 3 269.8744769874477\n",
      "9 3 278.2426778242678\n",
      "10 3 152.71966527196653\n",
      "11 3 207.11297071129707\n",
      "12 3 274.05857740585776\n",
      "1 4 0.0\n",
      "2 4 0.0\n",
      "3 4 16.736401673640167\n",
      "4 4 43.93305439330544\n",
      "5 4 311.7154811715481\n",
      "6 4 393.30543933054395\n",
      "7 4 288.7029288702929\n",
      "8 4 328.45188284518827\n",
      "9 4 341.0041841004184\n",
      "10 4 255.23012552301256\n",
      "11 4 244.76987447698744\n",
      "12 4 336.8200836820084\n",
      "1 5 0.0\n",
      "2 5 0.0\n",
      "3 5 16.736401673640167\n",
      "4 5 43.93305439330544\n",
      "5 5 311.7154811715481\n",
      "6 5 391.21338912133893\n",
      "7 5 278.2426778242678\n",
      "8 5 309.6234309623431\n",
      "9 5 399.581589958159\n",
      "10 5 230.1255230125523\n",
      "11 5 345.1882845188284\n",
      "12 5 330.5439330543933\n",
      "1 6 0.0\n",
      "2 6 0.0\n",
      "3 6 16.736401673640167\n",
      "4 6 39.7489539748954\n",
      "5 6 307.5313807531381\n",
      "6 6 382.8451882845188\n",
      "7 6 244.76987447698744\n",
      "8 6 255.23012552301256\n",
      "9 6 374.4769874476987\n",
      "10 6 271.9665271966527\n",
      "11 6 397.489539748954\n",
      "12 6 384.93723849372384\n",
      "1 7 0.0\n",
      "2 7 0.0\n",
      "3 7 16.736401673640167\n",
      "4 7 39.7489539748954\n",
      "5 7 309.6234309623431\n",
      "6 7 368.2008368200837\n",
      "7 7 219.6652719665272\n",
      "8 7 255.23012552301256\n",
      "9 7 259.4142259414226\n",
      "10 7 119.24686192468619\n",
      "11 7 213.38912133891213\n",
      "12 7 161.0878661087866\n",
      "1 8 0.0\n",
      "2 8 0.0\n",
      "3 8 16.736401673640167\n",
      "4 8 39.7489539748954\n",
      "5 8 309.6234309623431\n",
      "6 8 361.92468619246864\n",
      "7 8 219.6652719665272\n",
      "8 8 211.29707112970712\n",
      "9 8 228.03347280334728\n",
      "10 8 66.94560669456067\n",
      "11 8 127.61506276150628\n",
      "12 8 146.44351464435147\n",
      "1 9 0.0\n",
      "2 9 0.0\n",
      "3 9 16.736401673640167\n",
      "4 9 39.7489539748954\n",
      "5 9 309.6234309623431\n",
      "6 9 361.92468619246864\n",
      "7 9 225.94142259414227\n",
      "8 9 198.744769874477\n",
      "9 9 200.836820083682\n",
      "10 9 175.73221757322176\n",
      "11 9 211.29707112970712\n",
      "12 9 161.0878661087866\n",
      "1 10 0.0\n",
      "2 10 0.0\n",
      "3 10 16.736401673640167\n",
      "4 10 39.7489539748954\n",
      "5 10 297.07112970711296\n",
      "6 10 366.10878661087867\n",
      "7 10 232.21757322175733\n",
      "8 10 213.38912133891213\n",
      "9 10 207.11297071129707\n",
      "10 10 209.20502092050208\n",
      "11 10 297.07112970711296\n",
      "12 10 351.4644351464435\n",
      "1 11 0.0\n",
      "2 11 0.0\n",
      "3 11 16.736401673640167\n",
      "4 11 39.7489539748954\n",
      "5 11 297.07112970711296\n",
      "6 11 366.10878661087867\n",
      "7 11 251.0460251046025\n",
      "8 11 211.29707112970712\n",
      "9 11 230.1255230125523\n",
      "10 11 238.49372384937237\n",
      "11 11 288.7029288702929\n",
      "12 11 341.0041841004184\n",
      "1 12 0.0\n",
      "2 12 0.0\n",
      "3 12 16.736401673640167\n",
      "4 12 39.7489539748954\n",
      "5 12 297.07112970711296\n",
      "6 12 353.55648535564853\n",
      "7 12 246.86192468619248\n",
      "8 12 225.94142259414227\n",
      "9 12 238.49372384937237\n",
      "10 12 257.32217573221754\n",
      "11 12 303.34728033472805\n",
      "12 12 328.45188284518827\n"
     ]
    }
   ],
   "source": [
    "punto_de_corte = 0.11111111\n",
    "\n",
    "max_depth_grid_search = [1,2,3,4,5,6,7,8,9,10,11,12]\n",
    "\n",
    "min_samples_leaf_search = [1,2,3,4,5,6,7,8,9,10,11,12]\n",
    "\n",
    "for min_samples_leaf in min_samples_leaf_search:\n",
    "    for max_depth in max_depth_grid_search:\n",
    "        #Creamos el árbol con los parámeros\n",
    "        criterion='gini'\n",
    "        clf = DecisionTreeClassifier(\n",
    "                    criterion = criterion,\n",
    "                    max_depth=max_depth,\n",
    "                    min_samples_leaf = min_samples_leaf,\n",
    "                    random_state=random_state\n",
    "                )\n",
    "        _ = clf.fit(X_training, Y_training)\n",
    "\n",
    "        #Predecimos en validación\n",
    "        Y_validacion_pred_proba = clf.predict_proba(X_validacion)\n",
    "        Y_validacion_pred_proba = pd.DataFrame(Y_validacion_pred_proba, columns = ['NO_prob', 'SI_prob'])\n",
    "        Y_validacion_pred_proba['prediccion'] = 'NO'\n",
    "        Y_validacion_pred_proba.loc[Y_validacion_pred_proba['SI_prob']>punto_de_corte,'prediccion'] = 'SI'\n",
    "        cm = confusion_matrix(Y_validacion, Y_validacion_pred_proba['prediccion'], labels=['SI', 'NO'])\n",
    "        true_positives = cm[0,0]\n",
    "        true_negatives = cm[1,1]\n",
    "        false_positives = cm[1, 0]\n",
    "        false_negatives = cm[0,1]\n",
    "        metrica_negocio = ((4000*true_positives) - (500*false_positives))/(true_positives + false_negatives)\n",
    "        print(max_depth, min_samples_leaf, metrica_negocio)\n",
    "    "
   ]
  },
  {
   "cell_type": "markdown",
   "id": "d31083c2-d3e4-44af-9338-1a21bab4a843",
   "metadata": {},
   "source": [
    "### Otras estrategias - Optimización bayesiana"
   ]
  },
  {
   "cell_type": "code",
   "execution_count": null,
   "id": "d29872eb-774f-4708-9046-2949f33d902f",
   "metadata": {},
   "outputs": [],
   "source": []
  },
  {
   "cell_type": "markdown",
   "id": "bd1776ad-6e4d-4246-907a-2d8a7e7cb616",
   "metadata": {},
   "source": [
    "### Probamos con testing"
   ]
  },
  {
   "cell_type": "code",
   "execution_count": 40,
   "id": "4682cc1e-278f-4eaa-9b09-d54b1c8b3a86",
   "metadata": {
    "tags": []
   },
   "outputs": [],
   "source": [
    "directorio_data = '../data/'\n",
    "\n",
    "x_training_file = directorio_data + 'x_traininig.csv'\n",
    "y_training_file = directorio_data + 'y_traininig.csv'\n",
    "\n",
    "x_testing_file = directorio_data + 'x_testing.csv'\n",
    "y_testing_file = directorio_data + 'y_testing.csv'"
   ]
  },
  {
   "cell_type": "code",
   "execution_count": 41,
   "id": "0ed60baa-b9d3-4f1d-b095-c06556d613c6",
   "metadata": {
    "tags": []
   },
   "outputs": [],
   "source": [
    "df_x_training_validacion = pd.read_csv(x_training_file)\n",
    "df_y_training_validacion = pd.read_csv(y_training_file)\n",
    "\n",
    "X_testing = pd.read_csv(x_testing_file)\n",
    "Y_testing = pd.read_csv(y_testing_file)"
   ]
  },
  {
   "cell_type": "code",
   "execution_count": 42,
   "id": "98227aad-fe83-4542-a526-a0aef9feedee",
   "metadata": {
    "tags": []
   },
   "outputs": [],
   "source": [
    "columnas = [\n",
    "    \"review_overall\",\n",
    "    \"review_aroma\",\n",
    "    \"review_appearance\",\n",
    "    \"review_palate\",\n",
    "    \"review_taste\",\n",
    "    \"beer_abv\"\n",
    "]"
   ]
  },
  {
   "cell_type": "code",
   "execution_count": 43,
   "id": "a18304dd-da9c-4887-b40c-b57d8531ea33",
   "metadata": {
    "tags": []
   },
   "outputs": [],
   "source": [
    "X_training_validacion = df_x_training_validacion[columnas]\n",
    "X_testing = X_testing[columnas]"
   ]
  },
  {
   "cell_type": "code",
   "execution_count": 47,
   "id": "be7b3f68-09bb-4c3a-bbbf-34f87b9b5bfc",
   "metadata": {
    "tags": []
   },
   "outputs": [],
   "source": [
    "max_depth = 6\n",
    "criterion='gini'\n",
    "clf = DecisionTreeClassifier(\n",
    "            criterion = criterion,\n",
    "            max_depth=max_depth,\n",
    "            random_state=random_state\n",
    "        )\n",
    "_ = clf.fit(X_training_validacion, df_y_training_validacion)"
   ]
  },
  {
   "cell_type": "code",
   "execution_count": 48,
   "id": "30352e6f-5784-4d5a-9327-efea248f077c",
   "metadata": {
    "tags": []
   },
   "outputs": [
    {
     "data": {
      "text/plain": [
       "365.0"
      ]
     },
     "execution_count": 48,
     "metadata": {},
     "output_type": "execute_result"
    }
   ],
   "source": [
    "umbral_de_corte = 0.11111111\n",
    "\n",
    "Y_testing_pred_proba = clf.predict_proba(X_testing)\n",
    "Y_testing_pred_proba = pd.DataFrame(Y_testing_pred_proba, columns = ['NO_prob', 'SI_prob'])\n",
    "\n",
    "Y_testing_pred_proba['prediccion'] = 'NO'\n",
    "Y_testing_pred_proba.loc[Y_testing_pred_proba['SI_prob']>umbral_de_corte,'prediccion'] = 'SI'\n",
    "\n",
    "cm = confusion_matrix(Y_testing, Y_testing_pred_proba['prediccion'], labels=['SI', 'NO'])\n",
    "true_positives = cm[0,0]\n",
    "true_negatives = cm[1,1]\n",
    "false_positives = cm[1, 0]\n",
    "false_negatives = cm[0,1]\n",
    "\n",
    "metrica_negocio = ((4000*true_positives) - (500*false_positives))/(true_positives + false_negatives)\n",
    "metrica_negocio"
   ]
  },
  {
   "cell_type": "markdown",
   "id": "3dce96c7-251a-49ee-bfa6-4ed24bcb99fd",
   "metadata": {},
   "source": [
    "### Optimización con Grid search: max_depth + min_samples_split"
   ]
  },
  {
   "cell_type": "code",
   "execution_count": null,
   "id": "b01658a8-98c4-4641-bfdd-1c81cd903733",
   "metadata": {},
   "outputs": [],
   "source": []
  }
 ],
 "metadata": {
  "kernelspec": {
   "display_name": "Python 3 (ipykernel)",
   "language": "python",
   "name": "python3"
  },
  "language_info": {
   "codemirror_mode": {
    "name": "ipython",
    "version": 3
   },
   "file_extension": ".py",
   "mimetype": "text/x-python",
   "name": "python",
   "nbconvert_exporter": "python",
   "pygments_lexer": "ipython3",
   "version": "3.9.16"
  }
 },
 "nbformat": 4,
 "nbformat_minor": 5
}
