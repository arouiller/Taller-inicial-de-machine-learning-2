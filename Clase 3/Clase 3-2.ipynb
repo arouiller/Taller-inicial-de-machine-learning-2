{
 "cells": [
  {
   "cell_type": "markdown",
   "id": "d9dc0353-ef5e-4aad-95c2-c385737c7bb4",
   "metadata": {},
   "source": [
    "## Optimización de hiper-parámetros"
   ]
  },
  {
   "cell_type": "markdown",
   "id": "b8e9dce2-8521-4153-8945-f867b2937826",
   "metadata": {},
   "source": [
    "### Recapitulando"
   ]
  },
  {
   "cell_type": "code",
   "execution_count": 1,
   "id": "519999f7-a621-4b32-8be5-63c5f01d4298",
   "metadata": {
    "tags": []
   },
   "outputs": [],
   "source": [
    "import pandas as pd\n",
    "#import numpy as np\n",
    "\n",
    "import matplotlib.pyplot as plt\n",
    "\n",
    "from sklearn.model_selection import train_test_split\n",
    "from sklearn.metrics import ConfusionMatrixDisplay\n",
    "from sklearn.metrics import confusion_matrix\n",
    "from sklearn import tree\n",
    "\n",
    "from sklearn.tree import DecisionTreeClassifier\n",
    "\n",
    "#from IPython.display import Image  "
   ]
  },
  {
   "cell_type": "code",
   "execution_count": 2,
   "id": "fd34f3c5-d2a2-440e-9c37-c735f4f36aed",
   "metadata": {
    "tags": []
   },
   "outputs": [],
   "source": [
    "directorio_data = '../data/'\n",
    "\n",
    "x_training_file = directorio_data + 'x_traininig.csv'\n",
    "y_training_file = directorio_data + 'y_traininig.csv'\n",
    "\n",
    "x_testing_file = directorio_data + 'x_testing.csv'\n",
    "y_testing_file = directorio_data + 'y_testing.csv'"
   ]
  },
  {
   "cell_type": "code",
   "execution_count": 3,
   "id": "dd490368-df32-4281-ba54-e5ebe84aa169",
   "metadata": {
    "tags": []
   },
   "outputs": [],
   "source": [
    "df_x_training_validacion = pd.read_csv(x_training_file)\n",
    "df_y_training_validacion = pd.read_csv(y_training_file)\n",
    "\n",
    "X_testing = pd.read_csv(x_testing_file)\n",
    "Y_testing = pd.read_csv(y_testing_file)"
   ]
  },
  {
   "cell_type": "markdown",
   "id": "24057195-5ab6-49a7-9a60-e02086a0b906",
   "metadata": {},
   "source": [
    "### Separamos nuestro dataset training-validación en training y validación"
   ]
  },
  {
   "cell_type": "code",
   "execution_count": 4,
   "id": "6ceb0c32-3524-43cf-ae51-cfd125654f10",
   "metadata": {
    "tags": []
   },
   "outputs": [],
   "source": [
    "random_state = 661\n",
    "test_size = 0.3\n",
    "\n",
    "X_training, X_validacion, Y_training, Y_validacion = train_test_split(\n",
    "    df_x_training_validacion, \n",
    "    df_y_training_validacion, \n",
    "    test_size=test_size, \n",
    "    random_state=random_state,\n",
    "    stratify=df_y_training_validacion\n",
    ")"
   ]
  },
  {
   "cell_type": "markdown",
   "id": "f90726c9-24d4-4e0f-8c0f-fa025645f9a5",
   "metadata": {},
   "source": [
    "### Dejamos solo las columnas que queremos"
   ]
  },
  {
   "cell_type": "code",
   "execution_count": 5,
   "id": "0138cf4d-c491-4068-bf6e-b3b32bb4a2c8",
   "metadata": {
    "tags": []
   },
   "outputs": [],
   "source": [
    "columnas = [\n",
    "    \"review_overall\",\n",
    "    \"review_aroma\",\n",
    "    \"review_appearance\",\n",
    "    \"review_palate\",\n",
    "    \"review_taste\",\n",
    "    \"beer_abv\"\n",
    "]"
   ]
  },
  {
   "cell_type": "code",
   "execution_count": 6,
   "id": "316061dc-0f59-42c9-8e1a-ee449f8e2ae0",
   "metadata": {
    "tags": []
   },
   "outputs": [],
   "source": [
    "X_training = X_training[columnas]\n",
    "X_validacion = X_validacion[columnas]\n",
    "X_testing = X_testing[columnas]"
   ]
  },
  {
   "cell_type": "markdown",
   "id": "10645057-ffe7-4a6c-92be-86ba55bba61d",
   "metadata": {},
   "source": [
    "## Optimización con grid search"
   ]
  },
  {
   "cell_type": "code",
   "execution_count": 35,
   "id": "ce0b1488-f724-4c00-a608-1b978574fe1d",
   "metadata": {
    "tags": []
   },
   "outputs": [
    {
     "name": "stdout",
     "output_type": "stream",
     "text": [
      "1 0.0\n",
      "2 0.0\n",
      "3 16.736401673640167\n",
      "4 43.93305439330544\n",
      "5 334.72803347280336\n",
      "6 345.1882845188284\n",
      "7 207.11297071129707\n",
      "8 309.6234309623431\n",
      "9 303.34728033472805\n",
      "10 372.3849372384937\n",
      "11 364.01673640167365\n",
      "12 309.6234309623431\n"
     ]
    }
   ],
   "source": [
    "punto_de_corte = 0.11111111\n",
    "\n",
    "max_depth_grid_search = [1,2,3,4,5,6,7,8,9,10,11,12]\n",
    "\n",
    "for max_depth in max_depth_grid_search:\n",
    "    criterion='gini'\n",
    "    clf = DecisionTreeClassifier(\n",
    "                criterion = criterion,\n",
    "                max_depth=max_depth,\n",
    "                random_state=random_state\n",
    "            )\n",
    "    _ = clf.fit(X_training, Y_training)\n",
    "    Y_validacion_pred_proba = clf.predict_proba(X_validacion)\n",
    "    Y_validacion_pred_proba = pd.DataFrame(Y_validacion_pred_proba, columns = ['NO_prob', 'SI_prob'])\n",
    "    Y_validacion_pred_proba['prediccion'] = 'NO'\n",
    "    Y_validacion_pred_proba.loc[Y_validacion_pred_proba['SI_prob']>punto_de_corte,'prediccion'] = 'SI'\n",
    "    cm = confusion_matrix(Y_validacion, Y_validacion_pred_proba['prediccion'], labels=['SI', 'NO'])\n",
    "    true_positives = cm[0,0]\n",
    "    true_negatives = cm[1,1]\n",
    "    false_positives = cm[1, 0]\n",
    "    false_negatives = cm[0,1]\n",
    "    metrica_negocio = ((4000*true_positives) - (500*false_positives))/(true_positives + false_negatives)\n",
    "    print(max_depth, metrica_negocio)\n",
    "    "
   ]
  },
  {
   "cell_type": "markdown",
   "id": "d31083c2-d3e4-44af-9338-1a21bab4a843",
   "metadata": {},
   "source": [
    "### Probamos con testing"
   ]
  },
  {
   "cell_type": "code",
   "execution_count": 40,
   "id": "4682cc1e-278f-4eaa-9b09-d54b1c8b3a86",
   "metadata": {
    "tags": []
   },
   "outputs": [],
   "source": [
    "directorio_data = '../data/'\n",
    "\n",
    "x_training_file = directorio_data + 'x_traininig.csv'\n",
    "y_training_file = directorio_data + 'y_traininig.csv'\n",
    "\n",
    "x_testing_file = directorio_data + 'x_testing.csv'\n",
    "y_testing_file = directorio_data + 'y_testing.csv'"
   ]
  },
  {
   "cell_type": "code",
   "execution_count": 41,
   "id": "0ed60baa-b9d3-4f1d-b095-c06556d613c6",
   "metadata": {
    "tags": []
   },
   "outputs": [],
   "source": [
    "df_x_training_validacion = pd.read_csv(x_training_file)\n",
    "df_y_training_validacion = pd.read_csv(y_training_file)\n",
    "\n",
    "X_testing = pd.read_csv(x_testing_file)\n",
    "Y_testing = pd.read_csv(y_testing_file)"
   ]
  },
  {
   "cell_type": "code",
   "execution_count": 42,
   "id": "98227aad-fe83-4542-a526-a0aef9feedee",
   "metadata": {
    "tags": []
   },
   "outputs": [],
   "source": [
    "columnas = [\n",
    "    \"review_overall\",\n",
    "    \"review_aroma\",\n",
    "    \"review_appearance\",\n",
    "    \"review_palate\",\n",
    "    \"review_taste\",\n",
    "    \"beer_abv\"\n",
    "]"
   ]
  },
  {
   "cell_type": "code",
   "execution_count": 43,
   "id": "a18304dd-da9c-4887-b40c-b57d8531ea33",
   "metadata": {
    "tags": []
   },
   "outputs": [],
   "source": [
    "X_training_validacion = df_x_training_validacion[columnas]\n",
    "X_testing = X_testing[columnas]"
   ]
  },
  {
   "cell_type": "code",
   "execution_count": 47,
   "id": "be7b3f68-09bb-4c3a-bbbf-34f87b9b5bfc",
   "metadata": {
    "tags": []
   },
   "outputs": [],
   "source": [
    "max_depth = 6\n",
    "criterion='gini'\n",
    "clf = DecisionTreeClassifier(\n",
    "            criterion = criterion,\n",
    "            max_depth=max_depth,\n",
    "            random_state=random_state\n",
    "        )\n",
    "_ = clf.fit(X_training_validacion, df_y_training_validacion)"
   ]
  },
  {
   "cell_type": "code",
   "execution_count": 48,
   "id": "30352e6f-5784-4d5a-9327-efea248f077c",
   "metadata": {
    "tags": []
   },
   "outputs": [
    {
     "data": {
      "text/plain": [
       "365.0"
      ]
     },
     "execution_count": 48,
     "metadata": {},
     "output_type": "execute_result"
    }
   ],
   "source": [
    "umbral_de_corte = 0.11111111\n",
    "\n",
    "Y_testing_pred_proba = clf.predict_proba(X_testing)\n",
    "Y_testing_pred_proba = pd.DataFrame(Y_testing_pred_proba, columns = ['NO_prob', 'SI_prob'])\n",
    "\n",
    "Y_testing_pred_proba['prediccion'] = 'NO'\n",
    "Y_testing_pred_proba.loc[Y_testing_pred_proba['SI_prob']>umbral_de_corte,'prediccion'] = 'SI'\n",
    "\n",
    "cm = confusion_matrix(Y_testing, Y_testing_pred_proba['prediccion'], labels=['SI', 'NO'])\n",
    "true_positives = cm[0,0]\n",
    "true_negatives = cm[1,1]\n",
    "false_positives = cm[1, 0]\n",
    "false_negatives = cm[0,1]\n",
    "\n",
    "metrica_negocio = ((4000*true_positives) - (500*false_positives))/(true_positives + false_negatives)\n",
    "metrica_negocio"
   ]
  },
  {
   "cell_type": "markdown",
   "id": "3dce96c7-251a-49ee-bfa6-4ed24bcb99fd",
   "metadata": {},
   "source": [
    "### Optimización con Grid search: max_depth + min_samples_split"
   ]
  },
  {
   "cell_type": "code",
   "execution_count": null,
   "id": "b01658a8-98c4-4641-bfdd-1c81cd903733",
   "metadata": {},
   "outputs": [],
   "source": []
  }
 ],
 "metadata": {
  "kernelspec": {
   "display_name": "Python 3 (ipykernel)",
   "language": "python",
   "name": "python3"
  },
  "language_info": {
   "codemirror_mode": {
    "name": "ipython",
    "version": 3
   },
   "file_extension": ".py",
   "mimetype": "text/x-python",
   "name": "python",
   "nbconvert_exporter": "python",
   "pygments_lexer": "ipython3",
   "version": "3.9.16"
  }
 },
 "nbformat": 4,
 "nbformat_minor": 5
}
