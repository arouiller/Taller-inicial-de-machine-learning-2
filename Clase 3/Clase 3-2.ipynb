{
 "cells": [
  {
   "cell_type": "markdown",
   "id": "b6901438-9ef8-4413-8504-814aff8e7082",
   "metadata": {},
   "source": [
    "### Un poco de lectura\n",
    "\n",
    "Los hiperparámetros que utiliza el Decision tree classifier\n",
    "https://scikit-learn.org/stable/modules/generated/sklearn.tree.DecisionTreeClassifier.html"
   ]
  },
  {
   "cell_type": "markdown",
   "id": "d9dc0353-ef5e-4aad-95c2-c385737c7bb4",
   "metadata": {},
   "source": [
    "## Optimización de hiper-parámetros"
   ]
  },
  {
   "cell_type": "markdown",
   "id": "b8e9dce2-8521-4153-8945-f867b2937826",
   "metadata": {},
   "source": [
    "### Recapitulando"
   ]
  },
  {
   "cell_type": "code",
   "execution_count": 1,
   "id": "519999f7-a621-4b32-8be5-63c5f01d4298",
   "metadata": {
    "tags": []
   },
   "outputs": [],
   "source": [
    "import pandas as pd\n",
    "import numpy as np\n",
    "import seaborn as sns\n",
    "\n",
    "import matplotlib.pyplot as plt\n",
    "\n",
    "from sklearn.model_selection import train_test_split\n",
    "from sklearn.metrics import ConfusionMatrixDisplay\n",
    "from sklearn.metrics import confusion_matrix\n",
    "from sklearn import tree\n",
    "\n",
    "from sklearn.tree import DecisionTreeClassifier\n",
    "from sklearn.model_selection import KFold\n",
    "from sklearn.model_selection import cross_val_score\n",
    "from sklearn.model_selection import cross_validate\n",
    "from sklearn.tree import DecisionTreeClassifier\n",
    "\n",
    "from skopt import gp_minimize\n",
    "from skopt.space import Categorical, Dimension, Integer, Real  # noqa\n",
    "\n",
    "#from IPython.display import Image  "
   ]
  },
  {
   "cell_type": "code",
   "execution_count": 2,
   "id": "fd34f3c5-d2a2-440e-9c37-c735f4f36aed",
   "metadata": {
    "tags": []
   },
   "outputs": [],
   "source": [
    "directorio_data = '../data/'\n",
    "\n",
    "x_training_file = directorio_data + 'x_traininig.csv'\n",
    "y_training_file = directorio_data + 'y_traininig.csv'\n",
    "\n",
    "x_testing_file = directorio_data + 'x_testing.csv'\n",
    "y_testing_file = directorio_data + 'y_testing.csv'"
   ]
  },
  {
   "cell_type": "code",
   "execution_count": 3,
   "id": "dd490368-df32-4281-ba54-e5ebe84aa169",
   "metadata": {
    "tags": []
   },
   "outputs": [],
   "source": [
    "df_x_training_validacion = pd.read_csv(x_training_file)\n",
    "df_y_training_validacion = pd.read_csv(y_training_file)\n",
    "\n",
    "X_testing = pd.read_csv(x_testing_file)\n",
    "Y_testing = pd.read_csv(y_testing_file)"
   ]
  },
  {
   "cell_type": "markdown",
   "id": "24057195-5ab6-49a7-9a60-e02086a0b906",
   "metadata": {},
   "source": [
    "### Separamos nuestro dataset training-validación en training y validación"
   ]
  },
  {
   "cell_type": "code",
   "execution_count": 4,
   "id": "6ceb0c32-3524-43cf-ae51-cfd125654f10",
   "metadata": {
    "tags": []
   },
   "outputs": [],
   "source": [
    "random_state = 661\n",
    "test_size = 0.3\n",
    "\n",
    "X_training, X_validacion, Y_training, Y_validacion = train_test_split(\n",
    "    df_x_training_validacion, \n",
    "    df_y_training_validacion, \n",
    "    test_size=test_size, \n",
    "    random_state=random_state,\n",
    "    stratify=df_y_training_validacion\n",
    ")"
   ]
  },
  {
   "cell_type": "markdown",
   "id": "f90726c9-24d4-4e0f-8c0f-fa025645f9a5",
   "metadata": {},
   "source": [
    "### Dejamos solo las columnas que queremos"
   ]
  },
  {
   "cell_type": "code",
   "execution_count": 5,
   "id": "0138cf4d-c491-4068-bf6e-b3b32bb4a2c8",
   "metadata": {
    "tags": []
   },
   "outputs": [],
   "source": [
    "columnas = [\n",
    "    \"review_overall\",\n",
    "    \"review_aroma\",\n",
    "    \"review_appearance\",\n",
    "    \"review_palate\",\n",
    "    \"review_taste\",\n",
    "    \"beer_abv\"\n",
    "]"
   ]
  },
  {
   "cell_type": "code",
   "execution_count": 6,
   "id": "316061dc-0f59-42c9-8e1a-ee449f8e2ae0",
   "metadata": {
    "tags": []
   },
   "outputs": [],
   "source": [
    "X_training_validacion = df_x_training_validacion.copy()[columnas]\n",
    "X_training = X_training[columnas]\n",
    "X_validacion = X_validacion[columnas]\n",
    "X_testing = X_testing[columnas]"
   ]
  },
  {
   "cell_type": "markdown",
   "id": "10645057-ffe7-4a6c-92be-86ba55bba61d",
   "metadata": {},
   "source": [
    "## Optimización con grid search\n",
    "\n",
    "Vamos a optimizar el parámetro \"max_depth\" probando con diferentes valores"
   ]
  },
  {
   "cell_type": "code",
   "execution_count": 7,
   "id": "ce0b1488-f724-4c00-a608-1b978574fe1d",
   "metadata": {
    "tags": []
   },
   "outputs": [
    {
     "name": "stdout",
     "output_type": "stream",
     "text": [
      "max depth: 1\n",
      "    metrica:  0.0\n",
      "max depth: 2\n",
      "    metrica:  0.0\n",
      "max depth: 3\n",
      "    metrica:  16.736401673640167\n",
      "max depth: 4\n",
      "    metrica:  43.93305439330544\n",
      "max depth: 5\n",
      "    metrica:  334.72803347280336\n",
      "max depth: 6\n",
      "    metrica:  345.1882845188284\n",
      "max depth: 7\n",
      "    metrica:  207.11297071129707\n",
      "max depth: 8\n",
      "    metrica:  309.6234309623431\n",
      "max depth: 9\n",
      "    metrica:  303.34728033472805\n",
      "max depth: 10\n",
      "    metrica:  372.3849372384937\n",
      "max depth: 11\n",
      "    metrica:  364.01673640167365\n",
      "max depth: 12\n",
      "    metrica:  309.6234309623431\n"
     ]
    }
   ],
   "source": [
    "punto_de_corte = 0.11111111\n",
    "\n",
    "max_depth_grid_search = [1,2,3,4,5,6,7,8,9,10,11,12]\n",
    "\n",
    "for max_depth in max_depth_grid_search:\n",
    "    print(\"max depth:\", max_depth)\n",
    "    #Creamos el árbol con los parámeros\n",
    "    criterion='gini'\n",
    "    clf = DecisionTreeClassifier(\n",
    "                criterion = criterion,\n",
    "                max_depth=max_depth,\n",
    "                random_state=random_state\n",
    "            )\n",
    "    _ = clf.fit(X_training, Y_training)\n",
    "    \n",
    "    #Predecimos en validación\n",
    "    Y_validacion_pred_proba = clf.predict_proba(X_validacion)\n",
    "    Y_validacion_pred_proba = pd.DataFrame(Y_validacion_pred_proba, columns = ['NO_prob', 'SI_prob'])\n",
    "    Y_validacion_pred_proba['prediccion'] = 'NO'\n",
    "    Y_validacion_pred_proba.loc[Y_validacion_pred_proba['SI_prob']>punto_de_corte,'prediccion'] = 'SI'\n",
    "    cm = confusion_matrix(Y_validacion, Y_validacion_pred_proba['prediccion'], labels=['SI', 'NO'])\n",
    "    true_positives = cm[0,0]\n",
    "    true_negatives = cm[1,1]\n",
    "    false_positives = cm[1, 0]\n",
    "    false_negatives = cm[0,1]\n",
    "    metrica_negocio = ((4000*true_positives) - (500*false_positives))/(true_positives + false_negatives)\n",
    "    print(\"    metrica: \", metrica_negocio)\n",
    "    "
   ]
  },
  {
   "cell_type": "markdown",
   "id": "b17852dc-e9b7-4144-9549-dceaaae048cc",
   "metadata": {},
   "source": [
    "## Optimización con grid search, dos parámetros\n",
    "Vamos a optimizar el parámetro \"max_depth\" y \"min_samples_leaf\""
   ]
  },
  {
   "cell_type": "code",
   "execution_count": 8,
   "id": "dab01af5-43bc-4e06-a12b-f48cb02bb313",
   "metadata": {
    "tags": []
   },
   "outputs": [
    {
     "data": {
      "text/plain": [
       "144"
      ]
     },
     "execution_count": 8,
     "metadata": {},
     "output_type": "execute_result"
    }
   ],
   "source": [
    "12*12"
   ]
  },
  {
   "cell_type": "code",
   "execution_count": 9,
   "id": "17fc6aa0-3c21-4a44-9beb-8a10532bedf9",
   "metadata": {
    "tags": []
   },
   "outputs": [
    {
     "name": "stdout",
     "output_type": "stream",
     "text": [
      "max depth: 1\n",
      "    min samples leaf: 1\n",
      "        metrica:  0.0\n",
      "    min samples leaf: 2\n",
      "        metrica:  0.0\n",
      "    min samples leaf: 3\n",
      "        metrica:  0.0\n",
      "    min samples leaf: 4\n",
      "        metrica:  0.0\n",
      "    min samples leaf: 5\n",
      "        metrica:  0.0\n",
      "    min samples leaf: 6\n",
      "        metrica:  0.0\n",
      "    min samples leaf: 7\n",
      "        metrica:  0.0\n",
      "    min samples leaf: 8\n",
      "        metrica:  0.0\n",
      "    min samples leaf: 9\n",
      "        metrica:  0.0\n",
      "    min samples leaf: 10\n",
      "        metrica:  0.0\n",
      "    min samples leaf: 11\n",
      "        metrica:  0.0\n",
      "    min samples leaf: 12\n",
      "        metrica:  0.0\n",
      "max depth: 2\n",
      "    min samples leaf: 1\n",
      "        metrica:  0.0\n",
      "    min samples leaf: 2\n",
      "        metrica:  0.0\n",
      "    min samples leaf: 3\n",
      "        metrica:  0.0\n",
      "    min samples leaf: 4\n",
      "        metrica:  0.0\n",
      "    min samples leaf: 5\n",
      "        metrica:  0.0\n",
      "    min samples leaf: 6\n",
      "        metrica:  0.0\n",
      "    min samples leaf: 7\n",
      "        metrica:  0.0\n",
      "    min samples leaf: 8\n",
      "        metrica:  0.0\n",
      "    min samples leaf: 9\n",
      "        metrica:  0.0\n",
      "    min samples leaf: 10\n",
      "        metrica:  0.0\n",
      "    min samples leaf: 11\n",
      "        metrica:  0.0\n",
      "    min samples leaf: 12\n",
      "        metrica:  0.0\n",
      "max depth: 3\n",
      "    min samples leaf: 1\n",
      "        metrica:  16.736401673640167\n",
      "    min samples leaf: 2\n",
      "        metrica:  16.736401673640167\n",
      "    min samples leaf: 3\n",
      "        metrica:  16.736401673640167\n",
      "    min samples leaf: 4\n",
      "        metrica:  16.736401673640167\n",
      "    min samples leaf: 5\n",
      "        metrica:  16.736401673640167\n",
      "    min samples leaf: 6\n",
      "        metrica:  16.736401673640167\n",
      "    min samples leaf: 7\n",
      "        metrica:  16.736401673640167\n",
      "    min samples leaf: 8\n",
      "        metrica:  16.736401673640167\n",
      "    min samples leaf: 9\n",
      "        metrica:  16.736401673640167\n",
      "    min samples leaf: 10\n",
      "        metrica:  16.736401673640167\n",
      "    min samples leaf: 11\n",
      "        metrica:  16.736401673640167\n",
      "    min samples leaf: 12\n",
      "        metrica:  16.736401673640167\n",
      "max depth: 4\n",
      "    min samples leaf: 1\n",
      "        metrica:  43.93305439330544\n",
      "    min samples leaf: 2\n",
      "        metrica:  43.93305439330544\n",
      "    min samples leaf: 3\n",
      "        metrica:  43.93305439330544\n",
      "    min samples leaf: 4\n",
      "        metrica:  43.93305439330544\n",
      "    min samples leaf: 5\n",
      "        metrica:  43.93305439330544\n",
      "    min samples leaf: 6\n",
      "        metrica:  39.7489539748954\n",
      "    min samples leaf: 7\n",
      "        metrica:  39.7489539748954\n",
      "    min samples leaf: 8\n",
      "        metrica:  39.7489539748954\n",
      "    min samples leaf: 9\n",
      "        metrica:  39.7489539748954\n",
      "    min samples leaf: 10\n",
      "        metrica:  39.7489539748954\n",
      "    min samples leaf: 11\n",
      "        metrica:  39.7489539748954\n",
      "    min samples leaf: 12\n",
      "        metrica:  39.7489539748954\n",
      "max depth: 5\n",
      "    min samples leaf: 1\n",
      "        metrica:  334.72803347280336\n",
      "    min samples leaf: 2\n",
      "        metrica:  311.7154811715481\n",
      "    min samples leaf: 3\n",
      "        metrica:  311.7154811715481\n",
      "    min samples leaf: 4\n",
      "        metrica:  311.7154811715481\n",
      "    min samples leaf: 5\n",
      "        metrica:  311.7154811715481\n",
      "    min samples leaf: 6\n",
      "        metrica:  307.5313807531381\n",
      "    min samples leaf: 7\n",
      "        metrica:  309.6234309623431\n",
      "    min samples leaf: 8\n",
      "        metrica:  309.6234309623431\n",
      "    min samples leaf: 9\n",
      "        metrica:  309.6234309623431\n",
      "    min samples leaf: 10\n",
      "        metrica:  297.07112970711296\n",
      "    min samples leaf: 11\n",
      "        metrica:  297.07112970711296\n",
      "    min samples leaf: 12\n",
      "        metrica:  297.07112970711296\n",
      "max depth: 6\n",
      "    min samples leaf: 1\n",
      "        metrica:  345.1882845188284\n",
      "    min samples leaf: 2\n",
      "        metrica:  343.0962343096234\n",
      "    min samples leaf: 3\n",
      "        metrica:  364.01673640167365\n",
      "    min samples leaf: 4\n",
      "        metrica:  393.30543933054395\n",
      "    min samples leaf: 5\n",
      "        metrica:  391.21338912133893\n",
      "    min samples leaf: 6\n",
      "        metrica:  382.8451882845188\n",
      "    min samples leaf: 7\n",
      "        metrica:  368.2008368200837\n",
      "    min samples leaf: 8\n",
      "        metrica:  361.92468619246864\n",
      "    min samples leaf: 9\n",
      "        metrica:  361.92468619246864\n",
      "    min samples leaf: 10\n",
      "        metrica:  366.10878661087867\n",
      "    min samples leaf: 11\n",
      "        metrica:  366.10878661087867\n",
      "    min samples leaf: 12\n",
      "        metrica:  353.55648535564853\n",
      "max depth: 7\n",
      "    min samples leaf: 1\n",
      "        metrica:  207.11297071129707\n",
      "    min samples leaf: 2\n",
      "        metrica:  177.82426778242677\n",
      "    min samples leaf: 3\n",
      "        metrica:  232.21757322175733\n",
      "    min samples leaf: 4\n",
      "        metrica:  288.7029288702929\n",
      "    min samples leaf: 5\n",
      "        metrica:  278.2426778242678\n",
      "    min samples leaf: 6\n",
      "        metrica:  244.76987447698744\n",
      "    min samples leaf: 7\n",
      "        metrica:  219.6652719665272\n",
      "    min samples leaf: 8\n",
      "        metrica:  219.6652719665272\n",
      "    min samples leaf: 9\n",
      "        metrica:  225.94142259414227\n",
      "    min samples leaf: 10\n",
      "        metrica:  232.21757322175733\n",
      "    min samples leaf: 11\n",
      "        metrica:  251.0460251046025\n",
      "    min samples leaf: 12\n",
      "        metrica:  246.86192468619248\n",
      "max depth: 8\n",
      "    min samples leaf: 1\n",
      "        metrica:  309.6234309623431\n",
      "    min samples leaf: 2\n",
      "        metrica:  288.7029288702929\n",
      "    min samples leaf: 3\n",
      "        metrica:  269.8744769874477\n",
      "    min samples leaf: 4\n",
      "        metrica:  328.45188284518827\n",
      "    min samples leaf: 5\n",
      "        metrica:  309.6234309623431\n",
      "    min samples leaf: 6\n",
      "        metrica:  255.23012552301256\n",
      "    min samples leaf: 7\n",
      "        metrica:  255.23012552301256\n",
      "    min samples leaf: 8\n",
      "        metrica:  211.29707112970712\n",
      "    min samples leaf: 9\n",
      "        metrica:  198.744769874477\n",
      "    min samples leaf: 10\n",
      "        metrica:  213.38912133891213\n",
      "    min samples leaf: 11\n",
      "        metrica:  211.29707112970712\n",
      "    min samples leaf: 12\n",
      "        metrica:  225.94142259414227\n",
      "max depth: 9\n",
      "    min samples leaf: 1\n",
      "        metrica:  303.34728033472805\n",
      "    min samples leaf: 2\n",
      "        metrica:  269.8744769874477\n",
      "    min samples leaf: 3\n",
      "        metrica:  278.2426778242678\n",
      "    min samples leaf: 4\n",
      "        metrica:  341.0041841004184\n",
      "    min samples leaf: 5\n",
      "        metrica:  399.581589958159\n",
      "    min samples leaf: 6\n",
      "        metrica:  374.4769874476987\n",
      "    min samples leaf: 7\n",
      "        metrica:  259.4142259414226\n",
      "    min samples leaf: 8\n",
      "        metrica:  228.03347280334728\n",
      "    min samples leaf: 9\n",
      "        metrica:  200.836820083682\n",
      "    min samples leaf: 10\n",
      "        metrica:  207.11297071129707\n",
      "    min samples leaf: 11\n",
      "        metrica:  230.1255230125523\n",
      "    min samples leaf: 12\n",
      "        metrica:  238.49372384937237\n",
      "max depth: 10\n",
      "    min samples leaf: 1\n",
      "        metrica:  372.3849372384937\n",
      "    min samples leaf: 2\n",
      "        metrica:  223.84937238493723\n",
      "    min samples leaf: 3\n",
      "        metrica:  152.71966527196653\n",
      "    min samples leaf: 4\n",
      "        metrica:  255.23012552301256\n",
      "    min samples leaf: 5\n",
      "        metrica:  230.1255230125523\n",
      "    min samples leaf: 6\n",
      "        metrica:  271.9665271966527\n",
      "    min samples leaf: 7\n",
      "        metrica:  119.24686192468619\n",
      "    min samples leaf: 8\n",
      "        metrica:  66.94560669456067\n",
      "    min samples leaf: 9\n",
      "        metrica:  175.73221757322176\n",
      "    min samples leaf: 10\n",
      "        metrica:  209.20502092050208\n",
      "    min samples leaf: 11\n",
      "        metrica:  238.49372384937237\n",
      "    min samples leaf: 12\n",
      "        metrica:  257.32217573221754\n",
      "max depth: 11\n",
      "    min samples leaf: 1\n",
      "        metrica:  364.01673640167365\n",
      "    min samples leaf: 2\n",
      "        metrica:  269.8744769874477\n",
      "    min samples leaf: 3\n",
      "        metrica:  207.11297071129707\n",
      "    min samples leaf: 4\n",
      "        metrica:  244.76987447698744\n",
      "    min samples leaf: 5\n",
      "        metrica:  345.1882845188284\n",
      "    min samples leaf: 6\n",
      "        metrica:  397.489539748954\n",
      "    min samples leaf: 7\n",
      "        metrica:  213.38912133891213\n",
      "    min samples leaf: 8\n",
      "        metrica:  127.61506276150628\n",
      "    min samples leaf: 9\n",
      "        metrica:  211.29707112970712\n",
      "    min samples leaf: 10\n",
      "        metrica:  297.07112970711296\n",
      "    min samples leaf: 11\n",
      "        metrica:  288.7029288702929\n",
      "    min samples leaf: 12\n",
      "        metrica:  303.34728033472805\n",
      "max depth: 12\n",
      "    min samples leaf: 1\n",
      "        metrica:  309.6234309623431\n",
      "    min samples leaf: 2\n",
      "        metrica:  198.744769874477\n",
      "    min samples leaf: 3\n",
      "        metrica:  274.05857740585776\n",
      "    min samples leaf: 4\n",
      "        metrica:  336.8200836820084\n",
      "    min samples leaf: 5\n",
      "        metrica:  330.5439330543933\n",
      "    min samples leaf: 6\n",
      "        metrica:  384.93723849372384\n",
      "    min samples leaf: 7\n",
      "        metrica:  161.0878661087866\n",
      "    min samples leaf: 8\n",
      "        metrica:  146.44351464435147\n",
      "    min samples leaf: 9\n",
      "        metrica:  161.0878661087866\n",
      "    min samples leaf: 10\n",
      "        metrica:  351.4644351464435\n",
      "    min samples leaf: 11\n",
      "        metrica:  341.0041841004184\n",
      "    min samples leaf: 12\n",
      "        metrica:  328.45188284518827\n"
     ]
    }
   ],
   "source": [
    "punto_de_corte = 0.11111111\n",
    "\n",
    "max_depth_grid_search = [1,2,3,4,5,6,7,8,9,10,11,12]\n",
    "\n",
    "min_samples_leaf_search = [1,2,3,4,5,6,7,8,9,10,11,12]\n",
    "\n",
    "for max_depth in max_depth_grid_search:\n",
    "    print(\"max depth:\", max_depth)\n",
    "    for min_samples_leaf in min_samples_leaf_search:\n",
    "        print(\"    min samples leaf:\", min_samples_leaf)\n",
    "        #Creamos el árbol con los parámeros\n",
    "        criterion='gini'\n",
    "        clf = DecisionTreeClassifier(\n",
    "                    criterion = criterion,\n",
    "                    max_depth=max_depth,\n",
    "                    min_samples_leaf = min_samples_leaf,\n",
    "                    random_state=random_state\n",
    "                )\n",
    "        _ = clf.fit(X_training, Y_training)\n",
    "\n",
    "        #Predecimos en validación\n",
    "        Y_validacion_pred_proba = clf.predict_proba(X_validacion)\n",
    "        Y_validacion_pred_proba = pd.DataFrame(Y_validacion_pred_proba, columns = ['NO_prob', 'SI_prob'])\n",
    "        Y_validacion_pred_proba['prediccion'] = 'NO'\n",
    "        Y_validacion_pred_proba.loc[Y_validacion_pred_proba['SI_prob']>punto_de_corte,'prediccion'] = 'SI'\n",
    "        cm = confusion_matrix(Y_validacion, Y_validacion_pred_proba['prediccion'], labels=['SI', 'NO'])\n",
    "        true_positives = cm[0,0]\n",
    "        true_negatives = cm[1,1]\n",
    "        false_positives = cm[1, 0]\n",
    "        false_negatives = cm[0,1]\n",
    "        metrica_negocio = ((4000*true_positives) - (500*false_positives))/(true_positives + false_negatives)\n",
    "        print(\"        metrica: \", metrica_negocio)\n",
    "    "
   ]
  },
  {
   "cell_type": "markdown",
   "id": "d31083c2-d3e4-44af-9338-1a21bab4a843",
   "metadata": {},
   "source": [
    "### Un paréntesis - Cross validation"
   ]
  },
  {
   "cell_type": "markdown",
   "id": "bf888c1f-9ac5-4151-9c54-1ac08b6008a4",
   "metadata": {
    "tags": []
   },
   "source": [
    "![image info](../img/K-fold_cross_validation.jpg)"
   ]
  },
  {
   "cell_type": "markdown",
   "id": "34be8270-30e3-45e3-9df6-654be29c392a",
   "metadata": {},
   "source": [
    "### Otras estrategias - Optimización bayesiana"
   ]
  },
  {
   "cell_type": "markdown",
   "id": "b2ad127f-3ed9-43bc-ad1b-b4b1737bdbd2",
   "metadata": {
    "tags": []
   },
   "source": [
    "![image info](../img/optimizacion_bayesiana.gif)"
   ]
  },
  {
   "cell_type": "code",
   "execution_count": 10,
   "id": "cae5884c-dcd4-4506-8d29-87f2a89c2122",
   "metadata": {
    "tags": []
   },
   "outputs": [],
   "source": [
    "def cv_con_umbral_de_corte(params):\n",
    "    umbral_corte = params[0]\n",
    "    max_depth = params[1]\n",
    "    min_samples_split = params[2]\n",
    "    min_samples_leaf = params[3]\n",
    "    \n",
    "    X = X_training_validacion\n",
    "    y = df_y_training_validacion\n",
    "    criterion='gini'\n",
    "    clf = DecisionTreeClassifier(\n",
    "                criterion = criterion,\n",
    "                max_depth=max_depth,\n",
    "                max_features=max_features,\n",
    "                min_samples_split=min_samples_split,\n",
    "                min_samples_leaf=min_samples_leaf,\n",
    "                random_state=1\n",
    "            )\n",
    "\n",
    "    # 5-fold cross validation\n",
    "    cv = KFold(n_splits=5, shuffle=True, random_state=42)\n",
    "\n",
    "    def metrica_de_negocio(clf, X, y):\n",
    "        y_pred = clf.predict_proba(X)\n",
    "        df_y_pred_proba = pd.DataFrame(y_pred, columns = ['NO_prob', 'SI_prob'])\n",
    "        df_y_pred_proba['prediccion'] = 'NO'\n",
    "        df_y_pred_proba.loc[df_y_pred_proba['SI_prob']>umbral_corte,'prediccion'] = 'SI'\n",
    "        \n",
    "        cm = confusion_matrix(y, df_y_pred_proba['prediccion'], labels=['SI', 'NO'])\n",
    "        true_positives = cm[0,0]\n",
    "        true_negatives = cm[1,1]\n",
    "        false_positives = cm[1, 0]\n",
    "        false_negatives = cm[0,1]\n",
    "        metrica_negocio = ((4000*true_positives) - (500*false_positives))/(true_positives + false_negatives)\n",
    "        \n",
    "        return {\n",
    "            'metrica_negocio': metrica_negocio,\n",
    "        }\n",
    "    \n",
    "    scores = cross_validate(clf, X, y, scoring=metrica_de_negocio, cv=cv)\n",
    "    \n",
    "    resultados = {\n",
    "        'metrica negocio':         round(np.mean(scores['test_metrica_negocio']),2)\n",
    "    }\n",
    "    return -resultados['metrica negocio']"
   ]
  },
  {
   "cell_type": "code",
   "execution_count": 11,
   "id": "9144107b-a25e-4b81-8980-a4d7aaeb3289",
   "metadata": {
    "tags": []
   },
   "outputs": [
    {
     "ename": "SyntaxError",
     "evalue": "invalid syntax (3612911812.py, line 8)",
     "output_type": "error",
     "traceback": [
      "\u001b[1;36m  Cell \u001b[1;32mIn[11], line 8\u001b[1;36m\u001b[0m\n\u001b[1;33m    Integer(1, 10, name = 'max_depth'),10\u001b[0m\n\u001b[1;37m    ^\u001b[0m\n\u001b[1;31mSyntaxError\u001b[0m\u001b[1;31m:\u001b[0m invalid syntax\n"
     ]
    }
   ],
   "source": [
    "import warnings\n",
    "warnings.filterwarnings('ignore')\n",
    "\n",
    "[0.1622462419643353, 10, 2, 1]\n",
    "\n",
    "space  = [\n",
    "    Real(0.01, 0.2, name='umbral_corte'),0.1622462419643353\n",
    "    Integer(1, 10, name = 'max_depth'),10\n",
    "    Integer(2, 10000, name = 'min_samples_split'), 2\n",
    "    Integer(1, 10000, name = 'min_samples_leaf')1\n",
    "]\n",
    "\n",
    "res = gp_minimize(cv_con_umbral_de_corte,                  # the function to minimize\n",
    "                  space,     # the bounds on each dimension of x\n",
    "                  n_initial_points = 10,\n",
    "                  n_calls=150,         # the number of evaluations of f including at x0\n",
    "                  n_random_starts=10,  # the number of random initialization points\n",
    "                  random_state=777,\n",
    "                  x0 = [\n",
    "                      [0.11111112, 4, 2, 1]\n",
    "                  ],\n",
    "                  callback = lambda res: print([\n",
    "                          len(res.func_vals), \n",
    "                          res.x_iters[len(res.x_iters)-1], \n",
    "                          -res.func_vals[len(res.func_vals)-1]\n",
    "                      ])\n",
    "                 )"
   ]
  },
  {
   "cell_type": "code",
   "execution_count": null,
   "id": "9c631b04-a744-43fb-8538-a6424ddee07e",
   "metadata": {
    "tags": []
   },
   "outputs": [],
   "source": [
    "[res.x, -res.fun]"
   ]
  },
  {
   "cell_type": "code",
   "execution_count": null,
   "id": "7ac5b481-5aeb-4d11-b6c1-ce2e452c5c85",
   "metadata": {
    "tags": []
   },
   "outputs": [],
   "source": [
    "sns.set_style(\"ticks\",{'axes.grid' : True})\n",
    "\n",
    "chart_df = pd.DataFrame(data = -res.func_vals, columns=['y'])\n",
    "chart_df.reset_index(inplace=True)\n",
    "chart_df.columns = ['iteracion', 'metrica negocio']\n",
    "g1 = sns.lineplot(data=chart_df, x=\"iteracion\", y=\"metrica negocio\")\n",
    "g1.set(xlabel='Iteracion', ylabel='metrica del negocio')\n",
    "g1.set(ylim=(0, 400))\n",
    "plt.show()"
   ]
  },
  {
   "cell_type": "markdown",
   "id": "93fdbaee-8f73-444c-9e0d-47752532439c",
   "metadata": {},
   "source": [
    "### Los mejores parámetros hallados para construir un modelo"
   ]
  },
  {
   "cell_type": "code",
   "execution_count": null,
   "id": "0b0f8335-ab4b-4179-ac99-a530f8d9dd61",
   "metadata": {},
   "outputs": [],
   "source": [
    "umbral_corte = res.x[0]\n",
    "max_depth = res.x[1]\n",
    "min_samples_split = res.x[2]\n",
    "min_samples_leaf = res.x[3]\n",
    "\n",
    "print({\n",
    "    'umbral de corte': umbral_corte,\n",
    "    'max depth': max_depth,\n",
    "    'min samples split': min_samples_split,\n",
    "    'min samples leaf': min_samples_leaf\n",
    "})"
   ]
  },
  {
   "cell_type": "code",
   "execution_count": null,
   "id": "e4d56e3b-9f85-476e-8813-6408515c9d85",
   "metadata": {
    "tags": []
   },
   "outputs": [],
   "source": [
    "fig = plt.figure(figsize=(25,10))\n",
    "_ = tree.plot_tree(clf, \n",
    "                   feature_names=X_training.columns,  \n",
    "                   class_names=Y_training['POPULAR'].unique(),\n",
    "                   filled=True)"
   ]
  },
  {
   "cell_type": "markdown",
   "id": "a5e82e9e-675d-458f-bd15-4d1cd74fc15d",
   "metadata": {},
   "source": [
    "### Construimos nuestro modelo"
   ]
  },
  {
   "cell_type": "code",
   "execution_count": null,
   "id": "a9ce1199-081b-4753-bac4-3d3b872ca862",
   "metadata": {},
   "outputs": [],
   "source": [
    "clf = DecisionTreeClassifier(\n",
    "            criterion = criterion,\n",
    "            max_depth=max_depth,\n",
    "            min_samples_split=min_samples_split,\n",
    "            min_samples_leaf=min_samples_leaf,\n",
    "            random_state=1\n",
    "        )"
   ]
  },
  {
   "cell_type": "markdown",
   "id": "5710d15e-ea4f-4478-937a-99dc354938c0",
   "metadata": {},
   "source": [
    "### Lo entrenamos con los datos de trainining - validacion"
   ]
  },
  {
   "cell_type": "code",
   "execution_count": null,
   "id": "2d4ac68c-50b0-4cc5-8c41-58093383dd53",
   "metadata": {
    "tags": []
   },
   "outputs": [],
   "source": [
    "x = X_training_validacion\n",
    "y = df_y_training_validacion['POPULAR']\n",
    "_ = clf.fit(x, y)"
   ]
  },
  {
   "cell_type": "markdown",
   "id": "1303bb63-47c0-4984-a338-74079f9b1eff",
   "metadata": {},
   "source": [
    "### Realizamos la predicción sobre los datos de testing"
   ]
  },
  {
   "cell_type": "code",
   "execution_count": null,
   "id": "9e09ed44-8736-4261-a84f-1e56df757adc",
   "metadata": {},
   "outputs": [],
   "source": [
    "y_pred = clf.predict_proba(X_testing)\n",
    "df_y_pred_proba = pd.DataFrame(y_pred, columns = ['NO_prob', 'SI_prob'])\n",
    "df_y_pred_proba['prediccion'] = 'NO'\n",
    "df_y_pred_proba.loc[df_y_pred_proba['SI_prob']>umbral_corte,'prediccion'] = 'SI'\n",
    "df_y_pred_proba"
   ]
  },
  {
   "cell_type": "code",
   "execution_count": null,
   "id": "376b895a-6e42-491c-b057-67eb10b7ebd9",
   "metadata": {},
   "outputs": [],
   "source": [
    "cm = confusion_matrix(Y_testing, df_y_pred_proba['prediccion'], labels=['SI', 'NO'])\n",
    "true_positives = cm[0,0]\n",
    "true_negatives = cm[1,1]\n",
    "false_positives = cm[1, 0]\n",
    "false_negatives = cm[0,1]\n",
    "metrica_negocio = ((4000*true_positives) - (500*false_positives))/(true_positives + false_negatives)\n",
    "\n",
    "metrica_negocio"
   ]
  },
  {
   "cell_type": "code",
   "execution_count": null,
   "id": "f808e63d-e1ed-4976-90e5-7d6d70d4feef",
   "metadata": {},
   "outputs": [],
   "source": [
    "disp = ConfusionMatrixDisplay(confusion_matrix=cm, display_labels=['SI', 'NO'])\n",
    "disp.plot()\n",
    "plt.xlabel('Predicción')\n",
    "plt.ylabel('Real')\n",
    "plt.show()"
   ]
  },
  {
   "cell_type": "code",
   "execution_count": null,
   "id": "eed86b54-ac67-4340-bb9d-a2703cc63a6d",
   "metadata": {},
   "outputs": [],
   "source": []
  }
 ],
 "metadata": {
  "kernelspec": {
   "display_name": "Python 3 (ipykernel)",
   "language": "python",
   "name": "python3"
  },
  "language_info": {
   "codemirror_mode": {
    "name": "ipython",
    "version": 3
   },
   "file_extension": ".py",
   "mimetype": "text/x-python",
   "name": "python",
   "nbconvert_exporter": "python",
   "pygments_lexer": "ipython3",
   "version": "3.9.16"
  }
 },
 "nbformat": 4,
 "nbformat_minor": 5
}
