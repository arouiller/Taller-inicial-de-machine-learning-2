{
 "cells": [
  {
   "cell_type": "markdown",
   "id": "1294d5bb-ae46-4181-a373-8b8d82e8b87e",
   "metadata": {},
   "source": [
    "# Algoritmos disponibles en machine learning"
   ]
  },
  {
   "cell_type": "markdown",
   "id": "af0f480e-045d-4e1a-8e5f-1a0a07d85a86",
   "metadata": {},
   "source": [
    "![image info](../img/tipos_ml.png)"
   ]
  },
  {
   "cell_type": "markdown",
   "id": "d5504646-83cc-4519-9e36-53a95c38d691",
   "metadata": {},
   "source": [
    "# Análisis exploratorio de datos"
   ]
  },
  {
   "cell_type": "markdown",
   "id": "daf3eb79-a8a5-4289-abf0-c5235094e25d",
   "metadata": {},
   "source": [
    "## Importamos librerías necesarias"
   ]
  },
  {
   "cell_type": "code",
   "execution_count": 1,
   "id": "b4859732-0bd1-4732-aff5-daee00e770a9",
   "metadata": {
    "tags": []
   },
   "outputs": [],
   "source": [
    "import pandas as pd\n",
    "import numpy as np\n",
    "\n",
    "import seaborn as sns\n",
    "import matplotlib.pyplot as plt\n",
    "\n",
    "from sklearn.model_selection import train_test_split"
   ]
  },
  {
   "cell_type": "markdown",
   "id": "0899b231-4603-4be6-942b-cceafc9ad9a7",
   "metadata": {},
   "source": [
    "## Lectura de los datos iniciales"
   ]
  },
  {
   "cell_type": "code",
   "execution_count": 2,
   "id": "a9834a57-ab22-447f-9767-e9aba7ae0dc6",
   "metadata": {
    "tags": []
   },
   "outputs": [],
   "source": [
    "directorio_data = '../data/'"
   ]
  },
  {
   "cell_type": "code",
   "execution_count": 3,
   "id": "bca7b57c-0dd9-4d22-becd-021160d45fb5",
   "metadata": {
    "tags": []
   },
   "outputs": [
    {
     "ename": "FileNotFoundError",
     "evalue": "[Errno 2] No such file or directory: '../data/beer_reviews.csv'",
     "output_type": "error",
     "traceback": [
      "\u001b[1;31m---------------------------------------------------------------------------\u001b[0m",
      "\u001b[1;31mFileNotFoundError\u001b[0m                         Traceback (most recent call last)",
      "Cell \u001b[1;32mIn[3], line 3\u001b[0m\n\u001b[0;32m      1\u001b[0m file_dataset_inicial \u001b[38;5;241m=\u001b[39m directorio_data \u001b[38;5;241m+\u001b[39m \u001b[38;5;124m'\u001b[39m\u001b[38;5;124mbeer_reviews.csv\u001b[39m\u001b[38;5;124m'\u001b[39m\n\u001b[1;32m----> 3\u001b[0m df \u001b[38;5;241m=\u001b[39m \u001b[43mpd\u001b[49m\u001b[38;5;241;43m.\u001b[39;49m\u001b[43mread_csv\u001b[49m\u001b[43m(\u001b[49m\u001b[43mfile_dataset_inicial\u001b[49m\u001b[43m)\u001b[49m\n\u001b[0;32m      4\u001b[0m df\u001b[38;5;241m.\u001b[39mdrop(columns\u001b[38;5;241m=\u001b[39m[\u001b[38;5;124m'\u001b[39m\u001b[38;5;124mindex\u001b[39m\u001b[38;5;124m'\u001b[39m], inplace\u001b[38;5;241m=\u001b[39m\u001b[38;5;28;01mTrue\u001b[39;00m)\n\u001b[0;32m      5\u001b[0m df \u001b[38;5;241m=\u001b[39m df\u001b[38;5;241m.\u001b[39mloc[:, [\u001b[38;5;124m'\u001b[39m\u001b[38;5;124mbeer_beerid\u001b[39m\u001b[38;5;124m'\u001b[39m,\u001b[38;5;124m'\u001b[39m\u001b[38;5;124mbeer_name\u001b[39m\u001b[38;5;124m'\u001b[39m, \u001b[38;5;124m'\u001b[39m\u001b[38;5;124mbrewery_id\u001b[39m\u001b[38;5;124m'\u001b[39m,\u001b[38;5;124m'\u001b[39m\u001b[38;5;124mbrewery_name\u001b[39m\u001b[38;5;124m'\u001b[39m, \u001b[38;5;124m'\u001b[39m\u001b[38;5;124mbeer_style\u001b[39m\u001b[38;5;124m'\u001b[39m,\u001b[38;5;124m'\u001b[39m\u001b[38;5;124mbeer_abv\u001b[39m\u001b[38;5;124m'\u001b[39m, \u001b[38;5;124m'\u001b[39m\u001b[38;5;124mreview_profilename\u001b[39m\u001b[38;5;124m'\u001b[39m,\u001b[38;5;124m'\u001b[39m\u001b[38;5;124mreview_time\u001b[39m\u001b[38;5;124m'\u001b[39m,\u001b[38;5;124m'\u001b[39m\u001b[38;5;124mreview_overall\u001b[39m\u001b[38;5;124m'\u001b[39m,\u001b[38;5;124m'\u001b[39m\u001b[38;5;124mreview_aroma\u001b[39m\u001b[38;5;124m'\u001b[39m,\u001b[38;5;124m'\u001b[39m\u001b[38;5;124mreview_appearance\u001b[39m\u001b[38;5;124m'\u001b[39m,\u001b[38;5;124m'\u001b[39m\u001b[38;5;124mreview_palate\u001b[39m\u001b[38;5;124m'\u001b[39m,\u001b[38;5;124m'\u001b[39m\u001b[38;5;124mreview_taste\u001b[39m\u001b[38;5;124m'\u001b[39m]]\n",
      "File \u001b[1;32m~\\AppData\\Local\\miniconda3\\envs\\analisis_cervezas\\lib\\site-packages\\pandas\\io\\parsers\\readers.py:912\u001b[0m, in \u001b[0;36mread_csv\u001b[1;34m(filepath_or_buffer, sep, delimiter, header, names, index_col, usecols, dtype, engine, converters, true_values, false_values, skipinitialspace, skiprows, skipfooter, nrows, na_values, keep_default_na, na_filter, verbose, skip_blank_lines, parse_dates, infer_datetime_format, keep_date_col, date_parser, date_format, dayfirst, cache_dates, iterator, chunksize, compression, thousands, decimal, lineterminator, quotechar, quoting, doublequote, escapechar, comment, encoding, encoding_errors, dialect, on_bad_lines, delim_whitespace, low_memory, memory_map, float_precision, storage_options, dtype_backend)\u001b[0m\n\u001b[0;32m    899\u001b[0m kwds_defaults \u001b[38;5;241m=\u001b[39m _refine_defaults_read(\n\u001b[0;32m    900\u001b[0m     dialect,\n\u001b[0;32m    901\u001b[0m     delimiter,\n\u001b[1;32m   (...)\u001b[0m\n\u001b[0;32m    908\u001b[0m     dtype_backend\u001b[38;5;241m=\u001b[39mdtype_backend,\n\u001b[0;32m    909\u001b[0m )\n\u001b[0;32m    910\u001b[0m kwds\u001b[38;5;241m.\u001b[39mupdate(kwds_defaults)\n\u001b[1;32m--> 912\u001b[0m \u001b[38;5;28;01mreturn\u001b[39;00m \u001b[43m_read\u001b[49m\u001b[43m(\u001b[49m\u001b[43mfilepath_or_buffer\u001b[49m\u001b[43m,\u001b[49m\u001b[43m \u001b[49m\u001b[43mkwds\u001b[49m\u001b[43m)\u001b[49m\n",
      "File \u001b[1;32m~\\AppData\\Local\\miniconda3\\envs\\analisis_cervezas\\lib\\site-packages\\pandas\\io\\parsers\\readers.py:577\u001b[0m, in \u001b[0;36m_read\u001b[1;34m(filepath_or_buffer, kwds)\u001b[0m\n\u001b[0;32m    574\u001b[0m _validate_names(kwds\u001b[38;5;241m.\u001b[39mget(\u001b[38;5;124m\"\u001b[39m\u001b[38;5;124mnames\u001b[39m\u001b[38;5;124m\"\u001b[39m, \u001b[38;5;28;01mNone\u001b[39;00m))\n\u001b[0;32m    576\u001b[0m \u001b[38;5;66;03m# Create the parser.\u001b[39;00m\n\u001b[1;32m--> 577\u001b[0m parser \u001b[38;5;241m=\u001b[39m TextFileReader(filepath_or_buffer, \u001b[38;5;241m*\u001b[39m\u001b[38;5;241m*\u001b[39mkwds)\n\u001b[0;32m    579\u001b[0m \u001b[38;5;28;01mif\u001b[39;00m chunksize \u001b[38;5;129;01mor\u001b[39;00m iterator:\n\u001b[0;32m    580\u001b[0m     \u001b[38;5;28;01mreturn\u001b[39;00m parser\n",
      "File \u001b[1;32m~\\AppData\\Local\\miniconda3\\envs\\analisis_cervezas\\lib\\site-packages\\pandas\\io\\parsers\\readers.py:1407\u001b[0m, in \u001b[0;36mTextFileReader.__init__\u001b[1;34m(self, f, engine, **kwds)\u001b[0m\n\u001b[0;32m   1404\u001b[0m     \u001b[38;5;28mself\u001b[39m\u001b[38;5;241m.\u001b[39moptions[\u001b[38;5;124m\"\u001b[39m\u001b[38;5;124mhas_index_names\u001b[39m\u001b[38;5;124m\"\u001b[39m] \u001b[38;5;241m=\u001b[39m kwds[\u001b[38;5;124m\"\u001b[39m\u001b[38;5;124mhas_index_names\u001b[39m\u001b[38;5;124m\"\u001b[39m]\n\u001b[0;32m   1406\u001b[0m \u001b[38;5;28mself\u001b[39m\u001b[38;5;241m.\u001b[39mhandles: IOHandles \u001b[38;5;241m|\u001b[39m \u001b[38;5;28;01mNone\u001b[39;00m \u001b[38;5;241m=\u001b[39m \u001b[38;5;28;01mNone\u001b[39;00m\n\u001b[1;32m-> 1407\u001b[0m \u001b[38;5;28mself\u001b[39m\u001b[38;5;241m.\u001b[39m_engine \u001b[38;5;241m=\u001b[39m \u001b[38;5;28;43mself\u001b[39;49m\u001b[38;5;241;43m.\u001b[39;49m\u001b[43m_make_engine\u001b[49m\u001b[43m(\u001b[49m\u001b[43mf\u001b[49m\u001b[43m,\u001b[49m\u001b[43m \u001b[49m\u001b[38;5;28;43mself\u001b[39;49m\u001b[38;5;241;43m.\u001b[39;49m\u001b[43mengine\u001b[49m\u001b[43m)\u001b[49m\n",
      "File \u001b[1;32m~\\AppData\\Local\\miniconda3\\envs\\analisis_cervezas\\lib\\site-packages\\pandas\\io\\parsers\\readers.py:1661\u001b[0m, in \u001b[0;36mTextFileReader._make_engine\u001b[1;34m(self, f, engine)\u001b[0m\n\u001b[0;32m   1659\u001b[0m     \u001b[38;5;28;01mif\u001b[39;00m \u001b[38;5;124m\"\u001b[39m\u001b[38;5;124mb\u001b[39m\u001b[38;5;124m\"\u001b[39m \u001b[38;5;129;01mnot\u001b[39;00m \u001b[38;5;129;01min\u001b[39;00m mode:\n\u001b[0;32m   1660\u001b[0m         mode \u001b[38;5;241m+\u001b[39m\u001b[38;5;241m=\u001b[39m \u001b[38;5;124m\"\u001b[39m\u001b[38;5;124mb\u001b[39m\u001b[38;5;124m\"\u001b[39m\n\u001b[1;32m-> 1661\u001b[0m \u001b[38;5;28mself\u001b[39m\u001b[38;5;241m.\u001b[39mhandles \u001b[38;5;241m=\u001b[39m \u001b[43mget_handle\u001b[49m\u001b[43m(\u001b[49m\n\u001b[0;32m   1662\u001b[0m \u001b[43m    \u001b[49m\u001b[43mf\u001b[49m\u001b[43m,\u001b[49m\n\u001b[0;32m   1663\u001b[0m \u001b[43m    \u001b[49m\u001b[43mmode\u001b[49m\u001b[43m,\u001b[49m\n\u001b[0;32m   1664\u001b[0m \u001b[43m    \u001b[49m\u001b[43mencoding\u001b[49m\u001b[38;5;241;43m=\u001b[39;49m\u001b[38;5;28;43mself\u001b[39;49m\u001b[38;5;241;43m.\u001b[39;49m\u001b[43moptions\u001b[49m\u001b[38;5;241;43m.\u001b[39;49m\u001b[43mget\u001b[49m\u001b[43m(\u001b[49m\u001b[38;5;124;43m\"\u001b[39;49m\u001b[38;5;124;43mencoding\u001b[39;49m\u001b[38;5;124;43m\"\u001b[39;49m\u001b[43m,\u001b[49m\u001b[43m \u001b[49m\u001b[38;5;28;43;01mNone\u001b[39;49;00m\u001b[43m)\u001b[49m\u001b[43m,\u001b[49m\n\u001b[0;32m   1665\u001b[0m \u001b[43m    \u001b[49m\u001b[43mcompression\u001b[49m\u001b[38;5;241;43m=\u001b[39;49m\u001b[38;5;28;43mself\u001b[39;49m\u001b[38;5;241;43m.\u001b[39;49m\u001b[43moptions\u001b[49m\u001b[38;5;241;43m.\u001b[39;49m\u001b[43mget\u001b[49m\u001b[43m(\u001b[49m\u001b[38;5;124;43m\"\u001b[39;49m\u001b[38;5;124;43mcompression\u001b[39;49m\u001b[38;5;124;43m\"\u001b[39;49m\u001b[43m,\u001b[49m\u001b[43m \u001b[49m\u001b[38;5;28;43;01mNone\u001b[39;49;00m\u001b[43m)\u001b[49m\u001b[43m,\u001b[49m\n\u001b[0;32m   1666\u001b[0m \u001b[43m    \u001b[49m\u001b[43mmemory_map\u001b[49m\u001b[38;5;241;43m=\u001b[39;49m\u001b[38;5;28;43mself\u001b[39;49m\u001b[38;5;241;43m.\u001b[39;49m\u001b[43moptions\u001b[49m\u001b[38;5;241;43m.\u001b[39;49m\u001b[43mget\u001b[49m\u001b[43m(\u001b[49m\u001b[38;5;124;43m\"\u001b[39;49m\u001b[38;5;124;43mmemory_map\u001b[39;49m\u001b[38;5;124;43m\"\u001b[39;49m\u001b[43m,\u001b[49m\u001b[43m \u001b[49m\u001b[38;5;28;43;01mFalse\u001b[39;49;00m\u001b[43m)\u001b[49m\u001b[43m,\u001b[49m\n\u001b[0;32m   1667\u001b[0m \u001b[43m    \u001b[49m\u001b[43mis_text\u001b[49m\u001b[38;5;241;43m=\u001b[39;49m\u001b[43mis_text\u001b[49m\u001b[43m,\u001b[49m\n\u001b[0;32m   1668\u001b[0m \u001b[43m    \u001b[49m\u001b[43merrors\u001b[49m\u001b[38;5;241;43m=\u001b[39;49m\u001b[38;5;28;43mself\u001b[39;49m\u001b[38;5;241;43m.\u001b[39;49m\u001b[43moptions\u001b[49m\u001b[38;5;241;43m.\u001b[39;49m\u001b[43mget\u001b[49m\u001b[43m(\u001b[49m\u001b[38;5;124;43m\"\u001b[39;49m\u001b[38;5;124;43mencoding_errors\u001b[39;49m\u001b[38;5;124;43m\"\u001b[39;49m\u001b[43m,\u001b[49m\u001b[43m \u001b[49m\u001b[38;5;124;43m\"\u001b[39;49m\u001b[38;5;124;43mstrict\u001b[39;49m\u001b[38;5;124;43m\"\u001b[39;49m\u001b[43m)\u001b[49m\u001b[43m,\u001b[49m\n\u001b[0;32m   1669\u001b[0m \u001b[43m    \u001b[49m\u001b[43mstorage_options\u001b[49m\u001b[38;5;241;43m=\u001b[39;49m\u001b[38;5;28;43mself\u001b[39;49m\u001b[38;5;241;43m.\u001b[39;49m\u001b[43moptions\u001b[49m\u001b[38;5;241;43m.\u001b[39;49m\u001b[43mget\u001b[49m\u001b[43m(\u001b[49m\u001b[38;5;124;43m\"\u001b[39;49m\u001b[38;5;124;43mstorage_options\u001b[39;49m\u001b[38;5;124;43m\"\u001b[39;49m\u001b[43m,\u001b[49m\u001b[43m \u001b[49m\u001b[38;5;28;43;01mNone\u001b[39;49;00m\u001b[43m)\u001b[49m\u001b[43m,\u001b[49m\n\u001b[0;32m   1670\u001b[0m \u001b[43m\u001b[49m\u001b[43m)\u001b[49m\n\u001b[0;32m   1671\u001b[0m \u001b[38;5;28;01massert\u001b[39;00m \u001b[38;5;28mself\u001b[39m\u001b[38;5;241m.\u001b[39mhandles \u001b[38;5;129;01mis\u001b[39;00m \u001b[38;5;129;01mnot\u001b[39;00m \u001b[38;5;28;01mNone\u001b[39;00m\n\u001b[0;32m   1672\u001b[0m f \u001b[38;5;241m=\u001b[39m \u001b[38;5;28mself\u001b[39m\u001b[38;5;241m.\u001b[39mhandles\u001b[38;5;241m.\u001b[39mhandle\n",
      "File \u001b[1;32m~\\AppData\\Local\\miniconda3\\envs\\analisis_cervezas\\lib\\site-packages\\pandas\\io\\common.py:859\u001b[0m, in \u001b[0;36mget_handle\u001b[1;34m(path_or_buf, mode, encoding, compression, memory_map, is_text, errors, storage_options)\u001b[0m\n\u001b[0;32m    854\u001b[0m \u001b[38;5;28;01melif\u001b[39;00m \u001b[38;5;28misinstance\u001b[39m(handle, \u001b[38;5;28mstr\u001b[39m):\n\u001b[0;32m    855\u001b[0m     \u001b[38;5;66;03m# Check whether the filename is to be opened in binary mode.\u001b[39;00m\n\u001b[0;32m    856\u001b[0m     \u001b[38;5;66;03m# Binary mode does not support 'encoding' and 'newline'.\u001b[39;00m\n\u001b[0;32m    857\u001b[0m     \u001b[38;5;28;01mif\u001b[39;00m ioargs\u001b[38;5;241m.\u001b[39mencoding \u001b[38;5;129;01mand\u001b[39;00m \u001b[38;5;124m\"\u001b[39m\u001b[38;5;124mb\u001b[39m\u001b[38;5;124m\"\u001b[39m \u001b[38;5;129;01mnot\u001b[39;00m \u001b[38;5;129;01min\u001b[39;00m ioargs\u001b[38;5;241m.\u001b[39mmode:\n\u001b[0;32m    858\u001b[0m         \u001b[38;5;66;03m# Encoding\u001b[39;00m\n\u001b[1;32m--> 859\u001b[0m         handle \u001b[38;5;241m=\u001b[39m \u001b[38;5;28;43mopen\u001b[39;49m\u001b[43m(\u001b[49m\n\u001b[0;32m    860\u001b[0m \u001b[43m            \u001b[49m\u001b[43mhandle\u001b[49m\u001b[43m,\u001b[49m\n\u001b[0;32m    861\u001b[0m \u001b[43m            \u001b[49m\u001b[43mioargs\u001b[49m\u001b[38;5;241;43m.\u001b[39;49m\u001b[43mmode\u001b[49m\u001b[43m,\u001b[49m\n\u001b[0;32m    862\u001b[0m \u001b[43m            \u001b[49m\u001b[43mencoding\u001b[49m\u001b[38;5;241;43m=\u001b[39;49m\u001b[43mioargs\u001b[49m\u001b[38;5;241;43m.\u001b[39;49m\u001b[43mencoding\u001b[49m\u001b[43m,\u001b[49m\n\u001b[0;32m    863\u001b[0m \u001b[43m            \u001b[49m\u001b[43merrors\u001b[49m\u001b[38;5;241;43m=\u001b[39;49m\u001b[43merrors\u001b[49m\u001b[43m,\u001b[49m\n\u001b[0;32m    864\u001b[0m \u001b[43m            \u001b[49m\u001b[43mnewline\u001b[49m\u001b[38;5;241;43m=\u001b[39;49m\u001b[38;5;124;43m\"\u001b[39;49m\u001b[38;5;124;43m\"\u001b[39;49m\u001b[43m,\u001b[49m\n\u001b[0;32m    865\u001b[0m \u001b[43m        \u001b[49m\u001b[43m)\u001b[49m\n\u001b[0;32m    866\u001b[0m     \u001b[38;5;28;01melse\u001b[39;00m:\n\u001b[0;32m    867\u001b[0m         \u001b[38;5;66;03m# Binary mode\u001b[39;00m\n\u001b[0;32m    868\u001b[0m         handle \u001b[38;5;241m=\u001b[39m \u001b[38;5;28mopen\u001b[39m(handle, ioargs\u001b[38;5;241m.\u001b[39mmode)\n",
      "\u001b[1;31mFileNotFoundError\u001b[0m: [Errno 2] No such file or directory: '../data/beer_reviews.csv'"
     ]
    }
   ],
   "source": [
    "file_dataset_inicial = directorio_data + 'beer_reviews.csv'\n",
    "\n",
    "df = pd.read_csv(file_dataset_inicial)\n",
    "df.drop(columns=['index'], inplace=True)\n",
    "df = df.loc[:, ['beer_beerid','beer_name', 'brewery_id','brewery_name', 'beer_style','beer_abv', 'review_profilename','review_time','review_overall','review_aroma','review_appearance','review_palate','review_taste']]\n",
    "df.head(5)"
   ]
  },
  {
   "cell_type": "markdown",
   "id": "1d8aa904-1af9-4a5f-91d4-29dc69e95082",
   "metadata": {},
   "source": [
    "## Entendiendo nuestros datos"
   ]
  },
  {
   "cell_type": "markdown",
   "id": "54d58d42-689e-4cba-9367-0124bc47961f",
   "metadata": {},
   "source": [
    "#### ¿Qué significa cada campo?\n",
    "\n",
    "(https://www.singingboysbrewing.com/blog/tasting-and-evaluating-your-beer-an-introduction)\n",
    "\n",
    "1. **beer_beerid** a unique ID indicating the beer reviewed\n",
    "\n",
    "1. **beer_name** name of the beer\n",
    "\n",
    "1. **brewery_id** a unique ID indicating the brewery\n",
    "\n",
    "1. **brewery_name** the brewery name\n",
    "\n",
    "1. **beer_style** the style of the beer\n",
    "\n",
    "1. **beer_abv** the alcohol by volume of the beer\n",
    "\n",
    "1. **review_profilename** profile name of the user\n",
    "\n",
    "1. **review_time** the date/time of the review\n",
    "\n",
    "1. **review_aroma** <br> Smell first - there are volatile compounds that may quickly dissipate. Plus, aroma helps set up our sense of taste. You can help concentrate the aromas by covering the top of the glass with your hand and gently swirling the beer. Short, quick sniffs are most effective, usually. Look for: <br>\n",
    "    1. malt and grain aromas (bread, caramel, biscuit, toast, chocolate, roasted, coffee)\n",
    "    1. hop aromas (earthiness, citrus, spice, pine, floral, herbal)\n",
    "    1. esters (pit fruits, plums, cherries, apples, pears)\n",
    "    1. other (spices like pepperiness or other additions like fruit the brewer may have used)\n",
    "\n",
    "\n",
    "    Aromas trigger memories - linger on those memories, use them to help you describe the aroma. \n",
    "\n",
    "1. **review_appearance** <br> The color of the beer, the clarity of the beer, and the color/size/retention of the head.\n",
    "\n",
    "1. **review_palate** <br> Take a sip of the beer and hold it in your mouth for a moment before swallowing. Just as you did when evaluating the aroma, look for malt, grain and hop flavors. <br> In addition to hop flavors, hops also add bitterness and, when tasting the beer, you can note the level of bitterness and its quality.  Another component of flavor is the balance between malt flavors and bitterness. Look for the balance of the flavors, whether the beer is malt-forward or dominated by a strong bracing bitterness, or in balance. Look for both components of hops – bitterness and flavor, they are different. <br> Similar to ester aromas, you should note esters in the flavors, which often arise from yeast and fermentation.  Other yeast and fermentation character can also present, such as spices like black pepper or coriander. <br> Some beers will have purposeful tartness or sourness. Acidity plays an important role in beer flavor. Is the beer dry or sweet? Some flavors hit your palate first and fade, others last throughout the finish and aftertaste. <br> As you taste, try a technique called 'aspiration' - either hold some of the beer in your mouth as you breathe in and out over it or immediately after swallowing the beer, breathe out through your nose. Aspiration gets aroma molecules up into your nose, which enhances your perception of flavors, as aroma and flavor are interconnected. \n",
    "\n",
    "1. **review_taste** (mouthfeel) <br> While tasting the beer, pay attention to its character and qualities on your tongue. Is the beer full-, medium-, or light-bodied? Is the carbonation effervescent, medium or low? Is there astringency or a creaminess to the beer? Alcohol warmth?\n",
    "\n",
    "1. **review_overall** <br> After you’ve looked at all the individual elements, you need to see if the components come together into an enjoyable, harmonious whole.  Were there any significant flaws or off-flavors in the beer (plastic, medicinal, unintended sourness, oxidation, etc.)?  How would this beer pair with different foods? In what contexts would you enjoy this beer - sipping by the fire on a cold winter's night or drinking by the pint on the back porch on a warm summer day?  In a competition, does the beer fit within the style?  Also, this is where you might offer a suggestion on how the brewer might improve the beer or address a flaw. "
   ]
  },
  {
   "cell_type": "markdown",
   "id": "2bed7b73-703a-4f0b-b041-c80642b0378a",
   "metadata": {
    "tags": []
   },
   "source": [
    "#### Número de reseñas"
   ]
  },
  {
   "cell_type": "code",
   "execution_count": null,
   "id": "7f1af5ff-c95b-481b-a1ac-49e10e13dd02",
   "metadata": {
    "tags": []
   },
   "outputs": [],
   "source": [
    "total_resenias = len(df)\n",
    "total_resenias"
   ]
  },
  {
   "cell_type": "markdown",
   "id": "d793bbd4-7b74-4010-b5c6-740104ba5051",
   "metadata": {},
   "source": [
    "## Trabajando con múltiples reseñas"
   ]
  },
  {
   "cell_type": "markdown",
   "id": "e074d9b7-84ff-4bd1-910f-d93c6db63690",
   "metadata": {},
   "source": [
    "#### ¿Existen usuarios que hayan hecho más de un review a una misma cerveza?"
   ]
  },
  {
   "cell_type": "code",
   "execution_count": null,
   "id": "4ba3e5ef-f6e7-4a74-b33e-02ab2761261d",
   "metadata": {
    "tags": []
   },
   "outputs": [],
   "source": [
    "df_resenias = df[['beer_beerid', 'review_profilename', 'review_time']].copy().drop_duplicates()\n",
    "df_resenias.groupby(['beer_beerid', 'review_profilename'])['review_time'].size().reset_index(name='counts').sort_values(by=['counts'], ascending=False)"
   ]
  },
  {
   "cell_type": "markdown",
   "id": "f638e1a8-c4e7-4f0a-bf38-7f0de46e751e",
   "metadata": {},
   "source": [
    "#### ¿Qué hacemos cuando un usuario realiza más de una reseña? ¿Qué estrategias podemos utilizar?"
   ]
  },
  {
   "cell_type": "markdown",
   "id": "a16e8c56-95ec-4478-af25-f59c5d658b06",
   "metadata": {},
   "source": [
    "1. ¿Nos quedamos con todas las reseña que hizo?\n",
    "1. ¿Generamos un promedio sobre las reseña que hizo?\n",
    "1. ¿Nos quedamos con la primera reseña?\n",
    "1. ¿Nos quedamos con la última reseña?\n",
    "1. ¿Descartamos todas las reseñas que un catador hizo sobre una misma cerveza?\n",
    "\n",
    "¿Cuál son los pros y los contras de cada estrategia?"
   ]
  },
  {
   "cell_type": "markdown",
   "id": "192463c7-e5fd-4b30-81c3-32be7c67c043",
   "metadata": {},
   "source": [
    "#### Estrategia elegida: quedarnos con la última reseña de cada usuario"
   ]
  },
  {
   "cell_type": "code",
   "execution_count": null,
   "id": "b25856bb-77e2-44f2-916b-ee2e6fbc8118",
   "metadata": {
    "tags": []
   },
   "outputs": [],
   "source": [
    "idx = df.groupby(['beer_beerid', 'review_profilename'])['review_time'].transform(max) == df['review_time']\n",
    "df_resenias_unicas = df[idx]\n",
    "df_resenias_unicas.head(5)"
   ]
  },
  {
   "cell_type": "markdown",
   "id": "cc5ef153-5203-452f-a0f3-db5777b7590f",
   "metadata": {},
   "source": [
    "#### ¿Cómo afecta al dataset quedarnos con una única reseña por usuario?"
   ]
  },
  {
   "cell_type": "code",
   "execution_count": null,
   "id": "328d4315-551e-4eb2-a8c8-c6ed1b0ff2d8",
   "metadata": {
    "tags": []
   },
   "outputs": [],
   "source": [
    "resenias_unicas = len (df_resenias_unicas)\n",
    "resenias_duplicadas = total_resenias - resenias_unicas\n",
    "\n",
    "data = [resenias_unicas, resenias_duplicadas]\n",
    "labels = ['Reseñas únicas', 'Reseñas duplicadas']\n",
    "\n",
    "y=np.array(data)\n",
    "porcent = 100.*y/y.sum()\n",
    "\n",
    "labels = ['{0} - ({2:,}) {1:1.2f} %'.format(i,j,h) for i,j,h in zip(labels, porcent, data)]\n",
    "\n",
    "colors = sns.color_palette('pastel')[0:5]\n",
    "plt.title('Distribución de reseñas')\n",
    "plt.pie(data, colors = colors, startangle=90)\n",
    "plt.legend(labels, loc='lower left', bbox_to_anchor=(-0.1, 0.1), fontsize=8)\n",
    "plt.show()"
   ]
  },
  {
   "cell_type": "markdown",
   "id": "b94f4be6-596c-49db-8499-9c4731985021",
   "metadata": {},
   "source": [
    "#### Guardamos el nuevo dataset"
   ]
  },
  {
   "cell_type": "code",
   "execution_count": null,
   "id": "481e9b83-fa2f-4090-96ac-c90b0c339992",
   "metadata": {
    "tags": []
   },
   "outputs": [],
   "source": [
    "file_resenias_unicas = directorio_data + 'cervezas_resenias_unicas.csv'\n",
    "\n",
    "df_resenias_unicas.to_csv(file_resenias_unicas, index=False)"
   ]
  },
  {
   "cell_type": "code",
   "execution_count": null,
   "id": "550037a9-f758-4cf2-9f69-25661e653453",
   "metadata": {
    "tags": []
   },
   "outputs": [],
   "source": [
    "df = pd.read_csv(file_resenias_unicas)\n",
    "df.head(5)"
   ]
  },
  {
   "cell_type": "markdown",
   "id": "1903518c-88ee-4b99-ae40-2010be6b6d3a",
   "metadata": {},
   "source": [
    "## Valores nulos"
   ]
  },
  {
   "cell_type": "markdown",
   "id": "a92a5c12-80ba-4bfe-94da-0a9e12dddc93",
   "metadata": {},
   "source": [
    "### ¿Existen valores nulos?"
   ]
  },
  {
   "cell_type": "code",
   "execution_count": null,
   "id": "7ce78cb2-b5c6-47f8-aa82-46aa893698d0",
   "metadata": {
    "tags": []
   },
   "outputs": [],
   "source": [
    "df.loc[:, ['review_overall', 'review_aroma', 'review_appearance', 'review_palate', 'review_taste', 'beer_abv']].isna().sum()"
   ]
  },
  {
   "cell_type": "markdown",
   "id": "c0bcda47-a4c6-432b-b9dc-79fd6d104b03",
   "metadata": {},
   "source": [
    "#### ¿Qué estrategias tenemos disponibles?\n",
    "\n",
    "1. Interpor: Estimar valores faltanes en función de los valores observados en las filas cercanas\n",
    "1. Rellenar: \n",
    "    1. Valor por fijo por defecto.\n",
    "    1. Valor calculado (p.e. media)\n",
    "1. Imputar (un algoritmo que prediga el valor faltante)\n",
    "\n",
    "Pros y contras de cada estrategia\n"
   ]
  },
  {
   "cell_type": "markdown",
   "id": "d14440f1-9a40-42ef-8726-e711e16a7924",
   "metadata": {},
   "source": [
    "#### Nuestra estrategia: eliminar si la cantidad de registros eliminados no es significativa"
   ]
  },
  {
   "cell_type": "code",
   "execution_count": null,
   "id": "36023705-a59b-4536-bddf-c9da5b96952b",
   "metadata": {
    "tags": []
   },
   "outputs": [],
   "source": [
    "df.loc[:, ['review_overall', 'review_aroma', 'review_appearance', 'review_palate', 'review_taste', 'beer_abv']].isna().sum()"
   ]
  },
  {
   "cell_type": "code",
   "execution_count": null,
   "id": "ad97b872-e7b2-4964-8afd-b4e92c0d3023",
   "metadata": {
    "tags": []
   },
   "outputs": [],
   "source": [
    "resenias_unicas"
   ]
  },
  {
   "cell_type": "markdown",
   "id": "6ecd1eaf-a43d-46a1-811f-aad6b104ced1",
   "metadata": {},
   "source": [
    "Porcentaje perdido de registros\n",
    "\n",
    "67429 / 1571487 * 100 = 4.29%"
   ]
  },
  {
   "cell_type": "markdown",
   "id": "1fc97298-964d-4b1c-b8b0-438f9ac8897a",
   "metadata": {},
   "source": [
    "#### Marcamos los registros que se deben eliminar"
   ]
  },
  {
   "cell_type": "code",
   "execution_count": null,
   "id": "cc2da950-20e0-4633-aa66-580caca06ede",
   "metadata": {
    "tags": []
   },
   "outputs": [],
   "source": [
    "df['eliminar'] = 'NO'"
   ]
  },
  {
   "cell_type": "code",
   "execution_count": null,
   "id": "a0ccce11-e260-4dc8-a30f-ba8e91d5e3ab",
   "metadata": {
    "tags": []
   },
   "outputs": [],
   "source": [
    "df.loc[df['beer_abv'].isnull(), ('eliminar')] = 'SI'"
   ]
  },
  {
   "cell_type": "code",
   "execution_count": null,
   "id": "4661386a-1f92-40d3-826a-2c2b0a006c2d",
   "metadata": {
    "tags": []
   },
   "outputs": [],
   "source": [
    "df.groupby(['eliminar'])['eliminar'].count()"
   ]
  },
  {
   "cell_type": "markdown",
   "id": "36f7e1f9-2b18-4055-84c3-e2effdbac6a4",
   "metadata": {},
   "source": [
    "## Valores atipicos"
   ]
  },
  {
   "cell_type": "markdown",
   "id": "403f2ac6-ce89-4492-a58a-1c35deceab92",
   "metadata": {},
   "source": [
    "#### ¿Qué es un valor atípico?"
   ]
  },
  {
   "cell_type": "markdown",
   "id": "6280ad0b-8c2d-4298-a1a6-ea51b0f542a7",
   "metadata": {},
   "source": [
    "(tomado de wikipedia sin permiso)\n",
    "\n",
    "En estadística, tales como muestras estratificadas, un valor atípico (en inglés outlier) es una observación que es numéricamente distante del resto de los datos"
   ]
  },
  {
   "cell_type": "markdown",
   "id": "0b84a4f8-c924-4fd7-b430-3fefdcad7341",
   "metadata": {},
   "source": [
    "Los valores atípicos son en ocasiones una cuestión subjetiva, y existen numerosos métodos para clasificarlos. El método más impartido académicamente por su sencillez y resultados es el test de Tukey, que toma como referencia la diferencia entre el primer cuartil y el tercer cuartil, o rango intercuartílico. En un diagrama de caja se considera un valor atípico el que se encuentra 1,5 veces esa distancia de uno de esos cuartiles (atípico leve) o a 3 veces esa distancia (atípico extremo)."
   ]
  },
  {
   "cell_type": "markdown",
   "id": "e633a403-77ab-4e9d-aa1b-14c59311e724",
   "metadata": {},
   "source": [
    "#### ¿Está bien o mal que haya valores atípicos?\n",
    "\n",
    "1. Edades\n",
    "1. Pesos\n",
    "1. Temperaturas"
   ]
  },
  {
   "cell_type": "markdown",
   "id": "a0b43132-ef8d-4847-8ba2-f1d0ca99ae9a",
   "metadata": {},
   "source": [
    "#### Ejemplo de cálculo de valores atípicos o outliers"
   ]
  },
  {
   "cell_type": "code",
   "execution_count": null,
   "id": "0ce610ac-ecde-4b07-b4a0-f2365f47812d",
   "metadata": {
    "tags": []
   },
   "outputs": [],
   "source": [
    "tmp_data = np.array([1, 4, 5, 7, 20, 25, 26, 30, 35, 37, 39, 145, 1200])"
   ]
  },
  {
   "cell_type": "markdown",
   "id": "c30510e0-c44a-4663-b7b0-a6a6729a4a85",
   "metadata": {},
   "source": [
    "#### Q1: cuartil 1 (25% de los datos)"
   ]
  },
  {
   "cell_type": "code",
   "execution_count": null,
   "id": "54f39718-9823-4d8f-a7c5-2735870b2a07",
   "metadata": {
    "tags": []
   },
   "outputs": [],
   "source": [
    "q1 = np.quantile(tmp_data, 0.25)\n",
    "q1"
   ]
  },
  {
   "cell_type": "markdown",
   "id": "d775ff3b-5db7-44cf-b631-0b88861747a8",
   "metadata": {},
   "source": [
    "#### Q2: cuartil 2 (50% de los datos, tambien llamado mediana)"
   ]
  },
  {
   "cell_type": "code",
   "execution_count": null,
   "id": "f23cd47a-1541-4d73-9ae1-0d7a838b196c",
   "metadata": {
    "tags": []
   },
   "outputs": [],
   "source": [
    "q2 = np.quantile(tmp_data, 0.5)\n",
    "q2"
   ]
  },
  {
   "cell_type": "markdown",
   "id": "bbe17b88-08dc-42dc-9697-f7551ff03160",
   "metadata": {},
   "source": [
    "#### Q3: cuartil 3 (75% de los datos)"
   ]
  },
  {
   "cell_type": "code",
   "execution_count": null,
   "id": "edabe54a-f71d-40c4-806a-e1d47f1d2058",
   "metadata": {
    "tags": []
   },
   "outputs": [],
   "source": [
    "q3 = np.quantile(tmp_data, 0.75)\n",
    "q3"
   ]
  },
  {
   "cell_type": "markdown",
   "id": "74a8ecc2-426a-4a21-b745-32f308a3e568",
   "metadata": {},
   "source": [
    "#### Rango intercuartílico (Q3 - Q1)"
   ]
  },
  {
   "cell_type": "code",
   "execution_count": null,
   "id": "0f572d6d-2d7b-49f3-9184-b70776c2a8df",
   "metadata": {
    "tags": []
   },
   "outputs": [],
   "source": [
    "ri = q3 - q1\n",
    "ri"
   ]
  },
  {
   "cell_type": "markdown",
   "id": "0459185a-dfa2-4e92-9461-b110f7de3208",
   "metadata": {},
   "source": [
    "#### Valores atipicos leves (valores entre  Q1 - 1.5*ri)"
   ]
  },
  {
   "cell_type": "code",
   "execution_count": null,
   "id": "6ed6cfb6-69c9-47ba-83dd-064c692d6b56",
   "metadata": {
    "tags": []
   },
   "outputs": [],
   "source": [
    "q1 - 1.5*ri"
   ]
  },
  {
   "cell_type": "code",
   "execution_count": null,
   "id": "9da60202-2481-4eb8-ac4b-49737e8db597",
   "metadata": {
    "tags": []
   },
   "outputs": [],
   "source": [
    "tmp_data[np.where(tmp_data < q1 - 1.5*ri)]"
   ]
  },
  {
   "cell_type": "markdown",
   "id": "0b1c009a-68a1-4cc4-abf3-0856af9ce9ee",
   "metadata": {},
   "source": [
    "#### Bigote superior (valores superiores a  Q3 - 1.5*ri )"
   ]
  },
  {
   "cell_type": "code",
   "execution_count": null,
   "id": "c5e3757f-3a72-4eba-a587-d9fd39f88b6e",
   "metadata": {
    "tags": []
   },
   "outputs": [],
   "source": [
    "q3 + 1.5*ri"
   ]
  },
  {
   "cell_type": "code",
   "execution_count": null,
   "id": "e09ba17e-cf62-444e-b4a3-e540aa9cd62c",
   "metadata": {
    "tags": []
   },
   "outputs": [],
   "source": [
    "tmp_data[np.where(tmp_data > q3 + 1.5*ri)]"
   ]
  },
  {
   "cell_type": "markdown",
   "id": "7e5e7d4e-8b1b-449c-9e54-7db149122c51",
   "metadata": {},
   "source": [
    "#### Review overall"
   ]
  },
  {
   "cell_type": "code",
   "execution_count": null,
   "id": "5e4741b1-a056-4fbb-8148-062d4ed21b59",
   "metadata": {
    "tags": []
   },
   "outputs": [],
   "source": [
    "data = df['review_overall']\n",
    "titulo = 'Review overall'\n",
    "g1 = sns.boxplot(data=data, orient='h')\n",
    "g1.set(title=titulo)\n",
    "plt.show()"
   ]
  },
  {
   "cell_type": "markdown",
   "id": "686b5597-1aa3-4837-b414-d130d64b0d8c",
   "metadata": {},
   "source": [
    "#### Review aroma"
   ]
  },
  {
   "cell_type": "code",
   "execution_count": null,
   "id": "f7efa636-dbc5-4bdd-9fb6-5e73151174cb",
   "metadata": {
    "tags": []
   },
   "outputs": [],
   "source": [
    "data = df['review_aroma']\n",
    "titulo = 'Review aroma'\n",
    "g1 = sns.boxplot(data=data, orient='h')\n",
    "g1.set(title=titulo)\n",
    "plt.show()"
   ]
  },
  {
   "cell_type": "markdown",
   "id": "851b1b19-2428-4ce1-8a7f-ae4fd62c1473",
   "metadata": {},
   "source": [
    "#### Review appearance"
   ]
  },
  {
   "cell_type": "code",
   "execution_count": null,
   "id": "d62623ff-1d5c-4c51-88af-c04e8e79bdc4",
   "metadata": {
    "tags": []
   },
   "outputs": [],
   "source": [
    "data = df['review_appearance']\n",
    "titulo = 'Review appearance'\n",
    "g1 = sns.boxplot(data=data, orient='h')\n",
    "g1.set(title=titulo)\n",
    "plt.show()"
   ]
  },
  {
   "cell_type": "markdown",
   "id": "267b6114-7135-4327-9977-8e89d211fa05",
   "metadata": {},
   "source": [
    "#### Review palate"
   ]
  },
  {
   "cell_type": "code",
   "execution_count": null,
   "id": "066b90d6-0d2d-4220-a3d7-3a9bd2392a9c",
   "metadata": {
    "tags": []
   },
   "outputs": [],
   "source": [
    "data = df['review_palate']\n",
    "titulo = 'Review palate'\n",
    "g1 = sns.boxplot(data=data, orient='h')\n",
    "g1.set(title=titulo)\n",
    "plt.show()"
   ]
  },
  {
   "cell_type": "markdown",
   "id": "3a3b5d83-760e-4741-8a6b-3a3b18eea8fe",
   "metadata": {},
   "source": [
    "#### Review taste"
   ]
  },
  {
   "cell_type": "code",
   "execution_count": null,
   "id": "cef53e0f-0c6f-4f86-a91e-824a4ecac9fc",
   "metadata": {
    "tags": []
   },
   "outputs": [],
   "source": [
    "data = df['review_taste']\n",
    "titulo = 'Review taste'\n",
    "g1 = sns.boxplot(data=data, orient='h')\n",
    "g1.set(title=titulo)\n",
    "plt.show()"
   ]
  },
  {
   "cell_type": "markdown",
   "id": "e5cf121b-6762-4a1e-9f28-592e7709bb74",
   "metadata": {},
   "source": [
    "#### Review abv"
   ]
  },
  {
   "cell_type": "code",
   "execution_count": null,
   "id": "75db6df9-2e3a-46b9-8630-bee31141a946",
   "metadata": {
    "tags": []
   },
   "outputs": [],
   "source": [
    "data = df.loc[:, ('beer_beerid', 'beer_abv')].drop_duplicates()['beer_abv']\n",
    "titulo = 'Alcohol by volume'\n",
    "g1 = sns.boxplot(data=data, orient='h')\n",
    "g1.set(title=titulo)\n",
    "plt.show()"
   ]
  },
  {
   "cell_type": "code",
   "execution_count": null,
   "id": "4c2ed956",
   "metadata": {},
   "outputs": [],
   "source": [
    "data_sin_nan = data[np.logical_not(np.isnan(data))]\n",
    "q_1_2_3 = np.quantile(data_sin_nan, [0.25, 0.5, 0.75])\n",
    "q_1_2_3"
   ]
  },
  {
   "cell_type": "code",
   "execution_count": null,
   "id": "0027d866",
   "metadata": {},
   "outputs": [],
   "source": [
    "ri = q_1_2_3[2] - q_1_2_3[0]\n",
    "ri"
   ]
  },
  {
   "cell_type": "code",
   "execution_count": null,
   "id": "e2b33fb1",
   "metadata": {},
   "outputs": [],
   "source": [
    "outliers_superiores = q_1_2_3[2] + 1.5*ri\n",
    "outliers_superiores"
   ]
  },
  {
   "cell_type": "code",
   "execution_count": null,
   "id": "2ea7a71c",
   "metadata": {},
   "outputs": [],
   "source": [
    "data_sin_nan[data_sin_nan > outliers_superiores]"
   ]
  },
  {
   "cell_type": "code",
   "execution_count": null,
   "id": "a6c6eeaa",
   "metadata": {},
   "outputs": [],
   "source": [
    "tmp_data = df[['beer_beerid', 'beer_name', 'brewery_id', 'brewery_name', 'beer_style', 'beer_abv']].drop_duplicates()\n",
    "\n",
    "tmp_data[(~tmp_data['beer_abv'].isnull()) & (tmp_data['beer_abv']>outliers_superiores)].sort_values(by=['beer_abv'], ascending=False)"
   ]
  },
  {
   "cell_type": "markdown",
   "id": "a4d412b9-b675-4af3-a31b-2b641a36e4ce",
   "metadata": {},
   "source": [
    "### Definiendo la popularidad"
   ]
  },
  {
   "cell_type": "markdown",
   "id": "c38fbe59",
   "metadata": {},
   "source": [
    "#### Numero de catadores"
   ]
  },
  {
   "cell_type": "code",
   "execution_count": null,
   "id": "b71295d5",
   "metadata": {},
   "outputs": [],
   "source": [
    "numero_de_catadores = len(pd.unique(df['review_profilename']))\n",
    "numero_de_catadores"
   ]
  },
  {
   "cell_type": "markdown",
   "id": "a78c6313",
   "metadata": {},
   "source": [
    "  #### Nos quedamos solo con las cervezas que no hay que eliminar"
   ]
  },
  {
   "cell_type": "code",
   "execution_count": null,
   "id": "08167ba7-f50b-4cd9-8262-259cb82b53d5",
   "metadata": {
    "tags": []
   },
   "outputs": [],
   "source": [
    "df2 = df[df['eliminar'] == 'NO'].copy().drop(['eliminar'], axis=1)\n",
    "df2"
   ]
  },
  {
   "cell_type": "markdown",
   "id": "e85c8099",
   "metadata": {},
   "source": [
    "#### Agrupamos por cerveza para obtener la cantidad de puntuaciones y calculo de promedios en las puntuaciones"
   ]
  },
  {
   "cell_type": "code",
   "execution_count": null,
   "id": "05e3094f",
   "metadata": {},
   "outputs": [],
   "source": [
    "df = df2.groupby(['beer_beerid', 'beer_name', 'brewery_id', 'brewery_name', 'beer_style', 'beer_abv']).agg(\n",
    "    votaciones = pd.NamedAgg(column='review_profilename', aggfunc='count'),\n",
    "    review_overall = pd.NamedAgg(column='review_overall', aggfunc='mean'),\n",
    "    review_aroma = pd.NamedAgg(column='review_aroma', aggfunc='mean'),\n",
    "    review_appearance = pd.NamedAgg(column='review_appearance', aggfunc='mean'),\n",
    "    review_palate = pd.NamedAgg(column='review_palate', aggfunc='mean'),\n",
    "    review_taste = pd.NamedAgg(column='review_taste', aggfunc='mean'),\n",
    ")\n",
    "\n",
    "df['porcentaje_catadores'] = df['votaciones'] / numero_de_catadores * 100\n",
    "df.drop(['votaciones'], axis=1)\n",
    "df = df.reset_index()\n",
    "df.sort_values(by=['porcentaje_catadores'], ascending=False)"
   ]
  },
  {
   "cell_type": "code",
   "execution_count": null,
   "id": "4762227e-8239-480f-99fd-c73f7400faa6",
   "metadata": {},
   "outputs": [],
   "source": []
  },
  {
   "cell_type": "code",
   "execution_count": null,
   "id": "47096ca2",
   "metadata": {},
   "outputs": [],
   "source": [
    "total_de_cervezas =len(df)\n",
    "total_de_cervezas"
   ]
  },
  {
   "cell_type": "code",
   "execution_count": null,
   "id": "91402cc5",
   "metadata": {},
   "outputs": [],
   "source": [
    "txt = \"{porcentaje_de_cervezas:.2f}% de cervezas fueron probadas por al menos el {porcentaje_catadores:.2f}% de los catadores\"\n",
    "\n",
    "for porcentaje_de_cata in [10,9.5,9,8.5,8,7.5,7,6.5,6,5.5,5,4.5,4,3.5,3,2.5,2,1.5,1,0.9,0.8,0.7,0.6,0.5,0.4,0.3,0.2,0.1,0.05]:\n",
    "    porcentaje_de_cervezas =len(df[df['porcentaje_catadores'] > porcentaje_de_cata]) / total_de_cervezas * 100\n",
    "    print(txt.format(porcentaje_catadores = porcentaje_de_cata, porcentaje_de_cervezas = porcentaje_de_cervezas))"
   ]
  },
  {
   "cell_type": "code",
   "execution_count": null,
   "id": "8b52c520",
   "metadata": {},
   "outputs": [],
   "source": [
    "porcentaje_de_cata = 1\n",
    "\n",
    "df['POPULAR'] = 'NO'\n",
    "df.loc[df['porcentaje_catadores']>porcentaje_de_cata, 'POPULAR'] = 'SI'\n",
    "\n",
    "df.groupby(['POPULAR'])['POPULAR'].size().reset_index(name='counts').sort_values(by=['counts'], ascending=False)"
   ]
  },
  {
   "cell_type": "code",
   "execution_count": null,
   "id": "35966228",
   "metadata": {
    "tags": []
   },
   "outputs": [],
   "source": [
    "file_puntuacion_agrupada = directorio_data + 'cerveza_puntuacion_agrupada_total.csv'\n",
    "\n",
    "df.to_csv(file_puntuacion_agrupada, index=False)\n",
    "df"
   ]
  },
  {
   "cell_type": "markdown",
   "id": "81fdcf02-a409-4d69-a49a-6e58ea348db7",
   "metadata": {},
   "source": [
    "### ¿Qué es training, qué es testing y qué es validación?\n",
    "\n",
    "* Training: un conjunto de datos que utilizamos para generar el modelo\n",
    "* Validation: un conjunto de datos que utilizamos para obtener las métricas de nuestro modelo\n",
    "* Testing: un conjunto de datos del que se desconoce la clase objetivo, generalmente este es el dataset final sobre el que nuestro modelo debe generar las predicciones\n",
    "\n",
    "Usualmente, los términos testing y validación se suelen utilizar indistintamente."
   ]
  },
  {
   "cell_type": "markdown",
   "id": "28d12189-13a0-4e53-b883-86e569dca789",
   "metadata": {},
   "source": [
    "![image info](../img/Sets.png)"
   ]
  },
  {
   "cell_type": "code",
   "execution_count": null,
   "id": "e7eb0145",
   "metadata": {
    "tags": []
   },
   "outputs": [],
   "source": [
    "X = df[[\"review_overall\", \"review_aroma\", \"review_appearance\", \"review_palate\", \"review_taste\"]]\n",
    "y = df[\"POPULAR\"]\n",
    "X_training, X_testing, y_traininig, y_testing = train_test_split(X, y, train_size=0.8, stratify=y)\n",
    "\n",
    "x_training_file = directorio_data + 'x_traininig.csv'\n",
    "y_training_file = directorio_data + 'y_traininig.csv'\n",
    "x_testing_file = directorio_data + 'x_testing.csv'\n",
    "y_testing_file = directorio_data + 'y_testing.csv'\n",
    "\n",
    "X_training.to_csv(x_training_file, index=False)\n",
    "y_traininig.to_csv(y_training_file, index=False)\n",
    "\n",
    "X_testing.to_csv(x_testing_file, index=False)\n",
    "y_testing.to_csv(y_testing_file, index=False)"
   ]
  },
  {
   "cell_type": "code",
   "execution_count": null,
   "id": "7af4559e-85a6-47fc-8041-20b7ec732d70",
   "metadata": {
    "tags": []
   },
   "outputs": [],
   "source": [
    "y_traininig.value_counts(normalize=True)"
   ]
  },
  {
   "cell_type": "code",
   "execution_count": null,
   "id": "fcec755e-3756-46c1-afb9-13e7178d9fc2",
   "metadata": {
    "tags": []
   },
   "outputs": [],
   "source": [
    "y_testing.value_counts(normalize=True)"
   ]
  }
 ],
 "metadata": {
  "kernelspec": {
   "display_name": "Python 3 (ipykernel)",
   "language": "python",
   "name": "python3"
  },
  "language_info": {
   "codemirror_mode": {
    "name": "ipython",
    "version": 3
   },
   "file_extension": ".py",
   "mimetype": "text/x-python",
   "name": "python",
   "nbconvert_exporter": "python",
   "pygments_lexer": "ipython3",
   "version": "3.9.16"
  }
 },
 "nbformat": 4,
 "nbformat_minor": 5
}
