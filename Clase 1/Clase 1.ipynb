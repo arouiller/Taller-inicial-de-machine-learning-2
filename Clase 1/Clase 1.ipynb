{
 "cells": [
  {
   "cell_type": "markdown",
   "id": "1294d5bb-ae46-4181-a373-8b8d82e8b87e",
   "metadata": {},
   "source": [
    "# Algoritmos disponibles en machine learning"
   ]
  },
  {
   "cell_type": "markdown",
   "id": "af0f480e-045d-4e1a-8e5f-1a0a07d85a86",
   "metadata": {},
   "source": [
    "![image info](../img/tipos_ml.png)"
   ]
  },
  {
   "cell_type": "markdown",
   "id": "d5504646-83cc-4519-9e36-53a95c38d691",
   "metadata": {},
   "source": [
    "# Análisis exploratorio de datos"
   ]
  },
  {
   "cell_type": "markdown",
   "id": "daf3eb79-a8a5-4289-abf0-c5235094e25d",
   "metadata": {},
   "source": [
    "## Importamos librerías necesarias"
   ]
  },
  {
   "cell_type": "code",
   "execution_count": 1,
   "id": "b4859732-0bd1-4732-aff5-daee00e770a9",
   "metadata": {
    "tags": []
   },
   "outputs": [],
   "source": [
    "import pandas as pd\n",
    "import numpy as np\n",
    "\n",
    "import seaborn as sns\n",
    "import matplotlib.pyplot as plt\n",
    "\n",
    "from sklearn.model_selection import train_test_split"
   ]
  },
  {
   "cell_type": "markdown",
   "id": "0899b231-4603-4be6-942b-cceafc9ad9a7",
   "metadata": {},
   "source": [
    "## Lectura de los datos iniciales"
   ]
  },
  {
   "cell_type": "code",
   "execution_count": 2,
   "id": "a9834a57-ab22-447f-9767-e9aba7ae0dc6",
   "metadata": {
    "tags": []
   },
   "outputs": [],
   "source": [
    "directorio_data = '../data/'"
   ]
  },
  {
   "cell_type": "code",
   "execution_count": 3,
   "id": "bca7b57c-0dd9-4d22-becd-021160d45fb5",
   "metadata": {
    "tags": []
   },
   "outputs": [
    {
     "data": {
      "text/html": [
       "<div>\n",
       "<style scoped>\n",
       "    .dataframe tbody tr th:only-of-type {\n",
       "        vertical-align: middle;\n",
       "    }\n",
       "\n",
       "    .dataframe tbody tr th {\n",
       "        vertical-align: top;\n",
       "    }\n",
       "\n",
       "    .dataframe thead th {\n",
       "        text-align: right;\n",
       "    }\n",
       "</style>\n",
       "<table border=\"1\" class=\"dataframe\">\n",
       "  <thead>\n",
       "    <tr style=\"text-align: right;\">\n",
       "      <th></th>\n",
       "      <th>beer_beerid</th>\n",
       "      <th>beer_name</th>\n",
       "      <th>brewery_id</th>\n",
       "      <th>brewery_name</th>\n",
       "      <th>beer_style</th>\n",
       "      <th>beer_abv</th>\n",
       "      <th>review_profilename</th>\n",
       "      <th>review_time</th>\n",
       "      <th>review_overall</th>\n",
       "      <th>review_aroma</th>\n",
       "      <th>review_appearance</th>\n",
       "      <th>review_palate</th>\n",
       "      <th>review_taste</th>\n",
       "    </tr>\n",
       "  </thead>\n",
       "  <tbody>\n",
       "    <tr>\n",
       "      <th>0</th>\n",
       "      <td>47986</td>\n",
       "      <td>Sausa Weizen</td>\n",
       "      <td>10325</td>\n",
       "      <td>Vecchio Birraio</td>\n",
       "      <td>Hefeweizen</td>\n",
       "      <td>5.0</td>\n",
       "      <td>stcules</td>\n",
       "      <td>1234817823</td>\n",
       "      <td>1.5</td>\n",
       "      <td>2.0</td>\n",
       "      <td>2.5</td>\n",
       "      <td>1.5</td>\n",
       "      <td>1.5</td>\n",
       "    </tr>\n",
       "    <tr>\n",
       "      <th>1</th>\n",
       "      <td>48213</td>\n",
       "      <td>Red Moon</td>\n",
       "      <td>10325</td>\n",
       "      <td>Vecchio Birraio</td>\n",
       "      <td>English Strong Ale</td>\n",
       "      <td>6.2</td>\n",
       "      <td>stcules</td>\n",
       "      <td>1235915097</td>\n",
       "      <td>3.0</td>\n",
       "      <td>2.5</td>\n",
       "      <td>3.0</td>\n",
       "      <td>3.0</td>\n",
       "      <td>3.0</td>\n",
       "    </tr>\n",
       "    <tr>\n",
       "      <th>2</th>\n",
       "      <td>48215</td>\n",
       "      <td>Black Horse Black Beer</td>\n",
       "      <td>10325</td>\n",
       "      <td>Vecchio Birraio</td>\n",
       "      <td>Foreign / Export Stout</td>\n",
       "      <td>6.5</td>\n",
       "      <td>stcules</td>\n",
       "      <td>1235916604</td>\n",
       "      <td>3.0</td>\n",
       "      <td>2.5</td>\n",
       "      <td>3.0</td>\n",
       "      <td>3.0</td>\n",
       "      <td>3.0</td>\n",
       "    </tr>\n",
       "    <tr>\n",
       "      <th>3</th>\n",
       "      <td>47969</td>\n",
       "      <td>Sausa Pils</td>\n",
       "      <td>10325</td>\n",
       "      <td>Vecchio Birraio</td>\n",
       "      <td>German Pilsener</td>\n",
       "      <td>5.0</td>\n",
       "      <td>stcules</td>\n",
       "      <td>1234725145</td>\n",
       "      <td>3.0</td>\n",
       "      <td>3.0</td>\n",
       "      <td>3.5</td>\n",
       "      <td>2.5</td>\n",
       "      <td>3.0</td>\n",
       "    </tr>\n",
       "    <tr>\n",
       "      <th>4</th>\n",
       "      <td>64883</td>\n",
       "      <td>Cauldron DIPA</td>\n",
       "      <td>1075</td>\n",
       "      <td>Caldera Brewing Company</td>\n",
       "      <td>American Double / Imperial IPA</td>\n",
       "      <td>7.7</td>\n",
       "      <td>johnmichaelsen</td>\n",
       "      <td>1293735206</td>\n",
       "      <td>4.0</td>\n",
       "      <td>4.5</td>\n",
       "      <td>4.0</td>\n",
       "      <td>4.0</td>\n",
       "      <td>4.5</td>\n",
       "    </tr>\n",
       "  </tbody>\n",
       "</table>\n",
       "</div>"
      ],
      "text/plain": [
       "   beer_beerid               beer_name  brewery_id             brewery_name   \n",
       "0        47986            Sausa Weizen       10325          Vecchio Birraio  \\\n",
       "1        48213                Red Moon       10325          Vecchio Birraio   \n",
       "2        48215  Black Horse Black Beer       10325          Vecchio Birraio   \n",
       "3        47969              Sausa Pils       10325          Vecchio Birraio   \n",
       "4        64883           Cauldron DIPA        1075  Caldera Brewing Company   \n",
       "\n",
       "                       beer_style  beer_abv review_profilename  review_time   \n",
       "0                      Hefeweizen       5.0            stcules   1234817823  \\\n",
       "1              English Strong Ale       6.2            stcules   1235915097   \n",
       "2          Foreign / Export Stout       6.5            stcules   1235916604   \n",
       "3                 German Pilsener       5.0            stcules   1234725145   \n",
       "4  American Double / Imperial IPA       7.7     johnmichaelsen   1293735206   \n",
       "\n",
       "   review_overall  review_aroma  review_appearance  review_palate   \n",
       "0             1.5           2.0                2.5            1.5  \\\n",
       "1             3.0           2.5                3.0            3.0   \n",
       "2             3.0           2.5                3.0            3.0   \n",
       "3             3.0           3.0                3.5            2.5   \n",
       "4             4.0           4.5                4.0            4.0   \n",
       "\n",
       "   review_taste  \n",
       "0           1.5  \n",
       "1           3.0  \n",
       "2           3.0  \n",
       "3           3.0  \n",
       "4           4.5  "
      ]
     },
     "execution_count": 3,
     "metadata": {},
     "output_type": "execute_result"
    }
   ],
   "source": [
    "file_dataset_inicial = directorio_data + 'beer_reviews.csv'\n",
    "\n",
    "df = pd.read_csv(file_dataset_inicial)\n",
    "df.drop(columns=['index'], inplace=True)\n",
    "df = df.loc[:, ['beer_beerid','beer_name', 'brewery_id','brewery_name', 'beer_style','beer_abv', 'review_profilename','review_time','review_overall','review_aroma','review_appearance','review_palate','review_taste']]\n",
    "df.head(5)"
   ]
  },
  {
   "cell_type": "markdown",
   "id": "1d8aa904-1af9-4a5f-91d4-29dc69e95082",
   "metadata": {},
   "source": [
    "## Entendiendo nuestros datos"
   ]
  },
  {
   "cell_type": "markdown",
   "id": "54d58d42-689e-4cba-9367-0124bc47961f",
   "metadata": {},
   "source": [
    "#### ¿Qué significa cada campo?\n",
    "\n",
    "(https://www.singingboysbrewing.com/blog/tasting-and-evaluating-your-beer-an-introduction)\n",
    "\n",
    "1. **beer_beerid** a unique ID indicating the beer reviewed\n",
    "\n",
    "1. **beer_name** name of the beer\n",
    "\n",
    "1. **brewery_id** a unique ID indicating the brewery\n",
    "\n",
    "1. **brewery_name** the brewery name\n",
    "\n",
    "1. **beer_style** the style of the beer\n",
    "\n",
    "1. **beer_abv** the alcohol by volume of the beer\n",
    "\n",
    "1. **review_profilename** profile name of the user\n",
    "\n",
    "1. **review_time** the date/time of the review\n",
    "\n",
    "1. **review_aroma** <br> Smell first - there are volatile compounds that may quickly dissipate. Plus, aroma helps set up our sense of taste. You can help concentrate the aromas by covering the top of the glass with your hand and gently swirling the beer. Short, quick sniffs are most effective, usually. Look for: <br>\n",
    "    1. malt and grain aromas (bread, caramel, biscuit, toast, chocolate, roasted, coffee)\n",
    "    1. hop aromas (earthiness, citrus, spice, pine, floral, herbal)\n",
    "    1. esters (pit fruits, plums, cherries, apples, pears)\n",
    "    1. other (spices like pepperiness or other additions like fruit the brewer may have used)\n",
    "\n",
    "\n",
    "    Aromas trigger memories - linger on those memories, use them to help you describe the aroma. \n",
    "\n",
    "1. **review_appearance** <br> The color of the beer, the clarity of the beer, and the color/size/retention of the head.\n",
    "\n",
    "1. **review_palate** <br> Take a sip of the beer and hold it in your mouth for a moment before swallowing. Just as you did when evaluating the aroma, look for malt, grain and hop flavors. <br> In addition to hop flavors, hops also add bitterness and, when tasting the beer, you can note the level of bitterness and its quality.  Another component of flavor is the balance between malt flavors and bitterness. Look for the balance of the flavors, whether the beer is malt-forward or dominated by a strong bracing bitterness, or in balance. Look for both components of hops – bitterness and flavor, they are different. <br> Similar to ester aromas, you should note esters in the flavors, which often arise from yeast and fermentation.  Other yeast and fermentation character can also present, such as spices like black pepper or coriander. <br> Some beers will have purposeful tartness or sourness. Acidity plays an important role in beer flavor. Is the beer dry or sweet? Some flavors hit your palate first and fade, others last throughout the finish and aftertaste. <br> As you taste, try a technique called 'aspiration' - either hold some of the beer in your mouth as you breathe in and out over it or immediately after swallowing the beer, breathe out through your nose. Aspiration gets aroma molecules up into your nose, which enhances your perception of flavors, as aroma and flavor are interconnected. \n",
    "\n",
    "1. **review_taste** (mouthfeel) <br> While tasting the beer, pay attention to its character and qualities on your tongue. Is the beer full-, medium-, or light-bodied? Is the carbonation effervescent, medium or low? Is there astringency or a creaminess to the beer? Alcohol warmth?\n",
    "\n",
    "1. **review_overall** <br> After you’ve looked at all the individual elements, you need to see if the components come together into an enjoyable, harmonious whole.  Were there any significant flaws or off-flavors in the beer (plastic, medicinal, unintended sourness, oxidation, etc.)?  How would this beer pair with different foods? In what contexts would you enjoy this beer - sipping by the fire on a cold winter's night or drinking by the pint on the back porch on a warm summer day?  In a competition, does the beer fit within the style?  Also, this is where you might offer a suggestion on how the brewer might improve the beer or address a flaw. "
   ]
  },
  {
   "cell_type": "markdown",
   "id": "2bed7b73-703a-4f0b-b041-c80642b0378a",
   "metadata": {
    "tags": []
   },
   "source": [
    "#### Número de reseñas"
   ]
  },
  {
   "cell_type": "code",
   "execution_count": 4,
   "id": "7f1af5ff-c95b-481b-a1ac-49e10e13dd02",
   "metadata": {
    "tags": []
   },
   "outputs": [
    {
     "data": {
      "text/plain": [
       "1586614"
      ]
     },
     "execution_count": 4,
     "metadata": {},
     "output_type": "execute_result"
    }
   ],
   "source": [
    "total_resenias = len(df)\n",
    "total_resenias"
   ]
  },
  {
   "cell_type": "markdown",
   "id": "d793bbd4-7b74-4010-b5c6-740104ba5051",
   "metadata": {},
   "source": [
    "## Trabajando con múltiples reseñas"
   ]
  },
  {
   "cell_type": "markdown",
   "id": "e074d9b7-84ff-4bd1-910f-d93c6db63690",
   "metadata": {},
   "source": [
    "#### ¿Existen usuarios que hayan hecho más de un review a una misma cerveza?"
   ]
  },
  {
   "cell_type": "code",
   "execution_count": 5,
   "id": "4ba3e5ef-f6e7-4a74-b33e-02ab2761261d",
   "metadata": {
    "tags": []
   },
   "outputs": [
    {
     "data": {
      "text/html": [
       "<div>\n",
       "<style scoped>\n",
       "    .dataframe tbody tr th:only-of-type {\n",
       "        vertical-align: middle;\n",
       "    }\n",
       "\n",
       "    .dataframe tbody tr th {\n",
       "        vertical-align: top;\n",
       "    }\n",
       "\n",
       "    .dataframe thead th {\n",
       "        text-align: right;\n",
       "    }\n",
       "</style>\n",
       "<table border=\"1\" class=\"dataframe\">\n",
       "  <thead>\n",
       "    <tr style=\"text-align: right;\">\n",
       "      <th></th>\n",
       "      <th>beer_beerid</th>\n",
       "      <th>review_profilename</th>\n",
       "      <th>counts</th>\n",
       "    </tr>\n",
       "  </thead>\n",
       "  <tbody>\n",
       "    <tr>\n",
       "      <th>1259360</th>\n",
       "      <td>44713</td>\n",
       "      <td>AgentMunky</td>\n",
       "      <td>4</td>\n",
       "    </tr>\n",
       "    <tr>\n",
       "      <th>808899</th>\n",
       "      <td>15881</td>\n",
       "      <td>Kegatron</td>\n",
       "      <td>4</td>\n",
       "    </tr>\n",
       "    <tr>\n",
       "      <th>773428</th>\n",
       "      <td>12896</td>\n",
       "      <td>BretSikkink</td>\n",
       "      <td>4</td>\n",
       "    </tr>\n",
       "    <tr>\n",
       "      <th>809231</th>\n",
       "      <td>15881</td>\n",
       "      <td>Tucquan</td>\n",
       "      <td>4</td>\n",
       "    </tr>\n",
       "    <tr>\n",
       "      <th>356604</th>\n",
       "      <td>1543</td>\n",
       "      <td>glid02</td>\n",
       "      <td>4</td>\n",
       "    </tr>\n",
       "    <tr>\n",
       "      <th>...</th>\n",
       "      <td>...</td>\n",
       "      <td>...</td>\n",
       "      <td>...</td>\n",
       "    </tr>\n",
       "    <tr>\n",
       "      <th>526952</th>\n",
       "      <td>3123</td>\n",
       "      <td>sketchpunx</td>\n",
       "      <td>1</td>\n",
       "    </tr>\n",
       "    <tr>\n",
       "      <th>526951</th>\n",
       "      <td>3123</td>\n",
       "      <td>scootny</td>\n",
       "      <td>1</td>\n",
       "    </tr>\n",
       "    <tr>\n",
       "      <th>526950</th>\n",
       "      <td>3123</td>\n",
       "      <td>santoslhalper</td>\n",
       "      <td>1</td>\n",
       "    </tr>\n",
       "    <tr>\n",
       "      <th>526949</th>\n",
       "      <td>3123</td>\n",
       "      <td>saccro</td>\n",
       "      <td>1</td>\n",
       "    </tr>\n",
       "    <tr>\n",
       "      <th>1571479</th>\n",
       "      <td>77317</td>\n",
       "      <td>seanwhite</td>\n",
       "      <td>1</td>\n",
       "    </tr>\n",
       "  </tbody>\n",
       "</table>\n",
       "<p>1571480 rows × 3 columns</p>\n",
       "</div>"
      ],
      "text/plain": [
       "         beer_beerid review_profilename  counts\n",
       "1259360        44713         AgentMunky       4\n",
       "808899         15881           Kegatron       4\n",
       "773428         12896        BretSikkink       4\n",
       "809231         15881            Tucquan       4\n",
       "356604          1543             glid02       4\n",
       "...              ...                ...     ...\n",
       "526952          3123         sketchpunx       1\n",
       "526951          3123            scootny       1\n",
       "526950          3123      santoslhalper       1\n",
       "526949          3123             saccro       1\n",
       "1571479        77317          seanwhite       1\n",
       "\n",
       "[1571480 rows x 3 columns]"
      ]
     },
     "execution_count": 5,
     "metadata": {},
     "output_type": "execute_result"
    }
   ],
   "source": [
    "df_resenias = df[['beer_beerid', 'review_profilename', 'review_time']].copy().drop_duplicates()\n",
    "df_resenias.groupby(['beer_beerid', 'review_profilename'])['review_time'].size().reset_index(name='counts').sort_values(by=['counts'], ascending=False)"
   ]
  },
  {
   "cell_type": "markdown",
   "id": "f638e1a8-c4e7-4f0a-bf38-7f0de46e751e",
   "metadata": {},
   "source": [
    "#### ¿Qué hacemos cuando un usuario realiza más de una reseña? ¿Qué estrategias podemos utilizar?"
   ]
  },
  {
   "cell_type": "markdown",
   "id": "a16e8c56-95ec-4478-af25-f59c5d658b06",
   "metadata": {},
   "source": [
    "1. ¿Nos quedamos con todas las reseña que hizo?\n",
    "1. ¿Generamos un promedio sobre las reseña que hizo?\n",
    "1. ¿Nos quedamos con la primera reseña?\n",
    "1. ¿Nos quedamos con la última reseña?\n",
    "1. ¿Descartamos todas las reseñas que un catador hizo sobre una misma cerveza?\n",
    "\n",
    "¿Cuál son los pros y los contras de cada estrategia?"
   ]
  },
  {
   "cell_type": "markdown",
   "id": "192463c7-e5fd-4b30-81c3-32be7c67c043",
   "metadata": {},
   "source": [
    "#### Estrategia elegida: quedarnos con la última reseña de cada usuario"
   ]
  },
  {
   "cell_type": "code",
   "execution_count": 6,
   "id": "b25856bb-77e2-44f2-916b-ee2e6fbc8118",
   "metadata": {
    "tags": []
   },
   "outputs": [
    {
     "data": {
      "text/html": [
       "<div>\n",
       "<style scoped>\n",
       "    .dataframe tbody tr th:only-of-type {\n",
       "        vertical-align: middle;\n",
       "    }\n",
       "\n",
       "    .dataframe tbody tr th {\n",
       "        vertical-align: top;\n",
       "    }\n",
       "\n",
       "    .dataframe thead th {\n",
       "        text-align: right;\n",
       "    }\n",
       "</style>\n",
       "<table border=\"1\" class=\"dataframe\">\n",
       "  <thead>\n",
       "    <tr style=\"text-align: right;\">\n",
       "      <th></th>\n",
       "      <th>beer_beerid</th>\n",
       "      <th>beer_name</th>\n",
       "      <th>brewery_id</th>\n",
       "      <th>brewery_name</th>\n",
       "      <th>beer_style</th>\n",
       "      <th>beer_abv</th>\n",
       "      <th>review_profilename</th>\n",
       "      <th>review_time</th>\n",
       "      <th>review_overall</th>\n",
       "      <th>review_aroma</th>\n",
       "      <th>review_appearance</th>\n",
       "      <th>review_palate</th>\n",
       "      <th>review_taste</th>\n",
       "    </tr>\n",
       "  </thead>\n",
       "  <tbody>\n",
       "    <tr>\n",
       "      <th>0</th>\n",
       "      <td>47986</td>\n",
       "      <td>Sausa Weizen</td>\n",
       "      <td>10325</td>\n",
       "      <td>Vecchio Birraio</td>\n",
       "      <td>Hefeweizen</td>\n",
       "      <td>5.0</td>\n",
       "      <td>stcules</td>\n",
       "      <td>1234817823</td>\n",
       "      <td>1.5</td>\n",
       "      <td>2.0</td>\n",
       "      <td>2.5</td>\n",
       "      <td>1.5</td>\n",
       "      <td>1.5</td>\n",
       "    </tr>\n",
       "    <tr>\n",
       "      <th>1</th>\n",
       "      <td>48213</td>\n",
       "      <td>Red Moon</td>\n",
       "      <td>10325</td>\n",
       "      <td>Vecchio Birraio</td>\n",
       "      <td>English Strong Ale</td>\n",
       "      <td>6.2</td>\n",
       "      <td>stcules</td>\n",
       "      <td>1235915097</td>\n",
       "      <td>3.0</td>\n",
       "      <td>2.5</td>\n",
       "      <td>3.0</td>\n",
       "      <td>3.0</td>\n",
       "      <td>3.0</td>\n",
       "    </tr>\n",
       "    <tr>\n",
       "      <th>2</th>\n",
       "      <td>48215</td>\n",
       "      <td>Black Horse Black Beer</td>\n",
       "      <td>10325</td>\n",
       "      <td>Vecchio Birraio</td>\n",
       "      <td>Foreign / Export Stout</td>\n",
       "      <td>6.5</td>\n",
       "      <td>stcules</td>\n",
       "      <td>1235916604</td>\n",
       "      <td>3.0</td>\n",
       "      <td>2.5</td>\n",
       "      <td>3.0</td>\n",
       "      <td>3.0</td>\n",
       "      <td>3.0</td>\n",
       "    </tr>\n",
       "    <tr>\n",
       "      <th>3</th>\n",
       "      <td>47969</td>\n",
       "      <td>Sausa Pils</td>\n",
       "      <td>10325</td>\n",
       "      <td>Vecchio Birraio</td>\n",
       "      <td>German Pilsener</td>\n",
       "      <td>5.0</td>\n",
       "      <td>stcules</td>\n",
       "      <td>1234725145</td>\n",
       "      <td>3.0</td>\n",
       "      <td>3.0</td>\n",
       "      <td>3.5</td>\n",
       "      <td>2.5</td>\n",
       "      <td>3.0</td>\n",
       "    </tr>\n",
       "    <tr>\n",
       "      <th>4</th>\n",
       "      <td>64883</td>\n",
       "      <td>Cauldron DIPA</td>\n",
       "      <td>1075</td>\n",
       "      <td>Caldera Brewing Company</td>\n",
       "      <td>American Double / Imperial IPA</td>\n",
       "      <td>7.7</td>\n",
       "      <td>johnmichaelsen</td>\n",
       "      <td>1293735206</td>\n",
       "      <td>4.0</td>\n",
       "      <td>4.5</td>\n",
       "      <td>4.0</td>\n",
       "      <td>4.0</td>\n",
       "      <td>4.5</td>\n",
       "    </tr>\n",
       "  </tbody>\n",
       "</table>\n",
       "</div>"
      ],
      "text/plain": [
       "   beer_beerid               beer_name  brewery_id             brewery_name   \n",
       "0        47986            Sausa Weizen       10325          Vecchio Birraio  \\\n",
       "1        48213                Red Moon       10325          Vecchio Birraio   \n",
       "2        48215  Black Horse Black Beer       10325          Vecchio Birraio   \n",
       "3        47969              Sausa Pils       10325          Vecchio Birraio   \n",
       "4        64883           Cauldron DIPA        1075  Caldera Brewing Company   \n",
       "\n",
       "                       beer_style  beer_abv review_profilename  review_time   \n",
       "0                      Hefeweizen       5.0            stcules   1234817823  \\\n",
       "1              English Strong Ale       6.2            stcules   1235915097   \n",
       "2          Foreign / Export Stout       6.5            stcules   1235916604   \n",
       "3                 German Pilsener       5.0            stcules   1234725145   \n",
       "4  American Double / Imperial IPA       7.7     johnmichaelsen   1293735206   \n",
       "\n",
       "   review_overall  review_aroma  review_appearance  review_palate   \n",
       "0             1.5           2.0                2.5            1.5  \\\n",
       "1             3.0           2.5                3.0            3.0   \n",
       "2             3.0           2.5                3.0            3.0   \n",
       "3             3.0           3.0                3.5            2.5   \n",
       "4             4.0           4.5                4.0            4.0   \n",
       "\n",
       "   review_taste  \n",
       "0           1.5  \n",
       "1           3.0  \n",
       "2           3.0  \n",
       "3           3.0  \n",
       "4           4.5  "
      ]
     },
     "execution_count": 6,
     "metadata": {},
     "output_type": "execute_result"
    }
   ],
   "source": [
    "idx = df.groupby(['beer_beerid', 'review_profilename'])['review_time'].transform(max) == df['review_time']\n",
    "df_resenias_unicas = df[idx]\n",
    "df_resenias_unicas.head(5)"
   ]
  },
  {
   "cell_type": "markdown",
   "id": "cc5ef153-5203-452f-a0f3-db5777b7590f",
   "metadata": {},
   "source": [
    "#### ¿Cómo afecta al dataset quedarnos con una única reseña por usuario?"
   ]
  },
  {
   "cell_type": "code",
   "execution_count": 7,
   "id": "328d4315-551e-4eb2-a8c8-c6ed1b0ff2d8",
   "metadata": {
    "tags": []
   },
   "outputs": [
    {
     "data": {
      "image/png": "[encoded data removed]",
      "text/plain": [
       "<Figure size 640x480 with 1 Axes>"
      ]
     },
     "metadata": {},
     "output_type": "display_data"
    }
   ],
   "source": [
    "resenias_unicas = len (df_resenias_unicas)\n",
    "resenias_duplicadas = total_resenias - resenias_unicas\n",
    "\n",
    "data = [resenias_unicas, resenias_duplicadas]\n",
    "labels = ['Reseñas únicas', 'Reseñas duplicadas']\n",
    "\n",
    "y=np.array(data)\n",
    "porcent = 100.*y/y.sum()\n",
    "\n",
    "labels = ['{0} - ({2:,}) {1:1.2f} %'.format(i,j,h) for i,j,h in zip(labels, porcent, data)]\n",
    "\n",
    "colors = sns.color_palette('pastel')[0:5]\n",
    "plt.title('Distribución de reseñas')\n",
    "plt.pie(data, colors = colors, startangle=90)\n",
    "plt.legend(labels, loc='lower left', bbox_to_anchor=(-0.1, 0.1), fontsize=8)\n",
    "plt.show()"
   ]
  },
  {
   "cell_type": "markdown",
   "id": "b94f4be6-596c-49db-8499-9c4731985021",
   "metadata": {},
   "source": [
    "#### Guardamos el nuevo dataset"
   ]
  },
  {
   "cell_type": "code",
   "execution_count": 8,
   "id": "481e9b83-fa2f-4090-96ac-c90b0c339992",
   "metadata": {
    "tags": []
   },
   "outputs": [],
   "source": [
    "file_resenias_unicas = directorio_data + 'cervezas_resenias_unicas.csv'\n",
    "\n",
    "df_resenias_unicas.to_csv(file_resenias_unicas, index=False)"
   ]
  },
  {
   "cell_type": "code",
   "execution_count": 9,
   "id": "550037a9-f758-4cf2-9f69-25661e653453",
   "metadata": {
    "tags": []
   },
   "outputs": [
    {
     "data": {
      "text/html": [
       "<div>\n",
       "<style scoped>\n",
       "    .dataframe tbody tr th:only-of-type {\n",
       "        vertical-align: middle;\n",
       "    }\n",
       "\n",
       "    .dataframe tbody tr th {\n",
       "        vertical-align: top;\n",
       "    }\n",
       "\n",
       "    .dataframe thead th {\n",
       "        text-align: right;\n",
       "    }\n",
       "</style>\n",
       "<table border=\"1\" class=\"dataframe\">\n",
       "  <thead>\n",
       "    <tr style=\"text-align: right;\">\n",
       "      <th></th>\n",
       "      <th>beer_beerid</th>\n",
       "      <th>beer_name</th>\n",
       "      <th>brewery_id</th>\n",
       "      <th>brewery_name</th>\n",
       "      <th>beer_style</th>\n",
       "      <th>beer_abv</th>\n",
       "      <th>review_profilename</th>\n",
       "      <th>review_time</th>\n",
       "      <th>review_overall</th>\n",
       "      <th>review_aroma</th>\n",
       "      <th>review_appearance</th>\n",
       "      <th>review_palate</th>\n",
       "      <th>review_taste</th>\n",
       "    </tr>\n",
       "  </thead>\n",
       "  <tbody>\n",
       "    <tr>\n",
       "      <th>0</th>\n",
       "      <td>47986</td>\n",
       "      <td>Sausa Weizen</td>\n",
       "      <td>10325</td>\n",
       "      <td>Vecchio Birraio</td>\n",
       "      <td>Hefeweizen</td>\n",
       "      <td>5.0</td>\n",
       "      <td>stcules</td>\n",
       "      <td>1234817823</td>\n",
       "      <td>1.5</td>\n",
       "      <td>2.0</td>\n",
       "      <td>2.5</td>\n",
       "      <td>1.5</td>\n",
       "      <td>1.5</td>\n",
       "    </tr>\n",
       "    <tr>\n",
       "      <th>1</th>\n",
       "      <td>48213</td>\n",
       "      <td>Red Moon</td>\n",
       "      <td>10325</td>\n",
       "      <td>Vecchio Birraio</td>\n",
       "      <td>English Strong Ale</td>\n",
       "      <td>6.2</td>\n",
       "      <td>stcules</td>\n",
       "      <td>1235915097</td>\n",
       "      <td>3.0</td>\n",
       "      <td>2.5</td>\n",
       "      <td>3.0</td>\n",
       "      <td>3.0</td>\n",
       "      <td>3.0</td>\n",
       "    </tr>\n",
       "    <tr>\n",
       "      <th>2</th>\n",
       "      <td>48215</td>\n",
       "      <td>Black Horse Black Beer</td>\n",
       "      <td>10325</td>\n",
       "      <td>Vecchio Birraio</td>\n",
       "      <td>Foreign / Export Stout</td>\n",
       "      <td>6.5</td>\n",
       "      <td>stcules</td>\n",
       "      <td>1235916604</td>\n",
       "      <td>3.0</td>\n",
       "      <td>2.5</td>\n",
       "      <td>3.0</td>\n",
       "      <td>3.0</td>\n",
       "      <td>3.0</td>\n",
       "    </tr>\n",
       "    <tr>\n",
       "      <th>3</th>\n",
       "      <td>47969</td>\n",
       "      <td>Sausa Pils</td>\n",
       "      <td>10325</td>\n",
       "      <td>Vecchio Birraio</td>\n",
       "      <td>German Pilsener</td>\n",
       "      <td>5.0</td>\n",
       "      <td>stcules</td>\n",
       "      <td>1234725145</td>\n",
       "      <td>3.0</td>\n",
       "      <td>3.0</td>\n",
       "      <td>3.5</td>\n",
       "      <td>2.5</td>\n",
       "      <td>3.0</td>\n",
       "    </tr>\n",
       "    <tr>\n",
       "      <th>4</th>\n",
       "      <td>64883</td>\n",
       "      <td>Cauldron DIPA</td>\n",
       "      <td>1075</td>\n",
       "      <td>Caldera Brewing Company</td>\n",
       "      <td>American Double / Imperial IPA</td>\n",
       "      <td>7.7</td>\n",
       "      <td>johnmichaelsen</td>\n",
       "      <td>1293735206</td>\n",
       "      <td>4.0</td>\n",
       "      <td>4.5</td>\n",
       "      <td>4.0</td>\n",
       "      <td>4.0</td>\n",
       "      <td>4.5</td>\n",
       "    </tr>\n",
       "  </tbody>\n",
       "</table>\n",
       "</div>"
      ],
      "text/plain": [
       "   beer_beerid               beer_name  brewery_id             brewery_name   \n",
       "0        47986            Sausa Weizen       10325          Vecchio Birraio  \\\n",
       "1        48213                Red Moon       10325          Vecchio Birraio   \n",
       "2        48215  Black Horse Black Beer       10325          Vecchio Birraio   \n",
       "3        47969              Sausa Pils       10325          Vecchio Birraio   \n",
       "4        64883           Cauldron DIPA        1075  Caldera Brewing Company   \n",
       "\n",
       "                       beer_style  beer_abv review_profilename  review_time   \n",
       "0                      Hefeweizen       5.0            stcules   1234817823  \\\n",
       "1              English Strong Ale       6.2            stcules   1235915097   \n",
       "2          Foreign / Export Stout       6.5            stcules   1235916604   \n",
       "3                 German Pilsener       5.0            stcules   1234725145   \n",
       "4  American Double / Imperial IPA       7.7     johnmichaelsen   1293735206   \n",
       "\n",
       "   review_overall  review_aroma  review_appearance  review_palate   \n",
       "0             1.5           2.0                2.5            1.5  \\\n",
       "1             3.0           2.5                3.0            3.0   \n",
       "2             3.0           2.5                3.0            3.0   \n",
       "3             3.0           3.0                3.5            2.5   \n",
       "4             4.0           4.5                4.0            4.0   \n",
       "\n",
       "   review_taste  \n",
       "0           1.5  \n",
       "1           3.0  \n",
       "2           3.0  \n",
       "3           3.0  \n",
       "4           4.5  "
      ]
     },
     "execution_count": 9,
     "metadata": {},
     "output_type": "execute_result"
    }
   ],
   "source": [
    "df = pd.read_csv(file_resenias_unicas)\n",
    "df.head(5)"
   ]
  },
  {
   "cell_type": "markdown",
   "id": "1903518c-88ee-4b99-ae40-2010be6b6d3a",
   "metadata": {},
   "source": [
    "## Valores nulos"
   ]
  },
  {
   "cell_type": "markdown",
   "id": "a92a5c12-80ba-4bfe-94da-0a9e12dddc93",
   "metadata": {},
   "source": [
    "### ¿Existen valores nulos?"
   ]
  },
  {
   "cell_type": "code",
   "execution_count": 10,
   "id": "7ce78cb2-b5c6-47f8-aa82-46aa893698d0",
   "metadata": {
    "tags": []
   },
   "outputs": [
    {
     "data": {
      "text/plain": [
       "review_overall           0\n",
       "review_aroma             0\n",
       "review_appearance        0\n",
       "review_palate            0\n",
       "review_taste             0\n",
       "beer_abv             67429\n",
       "dtype: int64"
      ]
     },
     "execution_count": 10,
     "metadata": {},
     "output_type": "execute_result"
    }
   ],
   "source": [
    "df.loc[:, ['review_overall', 'review_aroma', 'review_appearance', 'review_palate', 'review_taste', 'beer_abv']].isna().sum()"
   ]
  },
  {
   "cell_type": "markdown",
   "id": "c0bcda47-a4c6-432b-b9dc-79fd6d104b03",
   "metadata": {},
   "source": [
    "#### ¿Qué estrategias tenemos disponibles?\n",
    "\n",
    "1. Interpolar: Estimar valores faltanes en función de los valores observados en las filas cercanas\n",
    "1. Rellenar: \n",
    "    1. Valor por fijo por defecto.\n",
    "    1. Valor calculado (p.e. media)\n",
    "1. Imputar (un algoritmo que prediga el valor faltante)\n",
    "1. Eliminar el registro\n",
    "\n",
    "Pros y contras de cada estrategia\n"
   ]
  },
  {
   "cell_type": "markdown",
   "id": "6c736d2b-8ec6-4cb5-872d-624b010914ae",
   "metadata": {},
   "source": [
    "1. eliminar registro = volumnen de los registros\n",
    "1. promedios = mala inferencia de\n",
    "1. eliminar columna"
   ]
  },
  {
   "cell_type": "markdown",
   "id": "d14440f1-9a40-42ef-8726-e711e16a7924",
   "metadata": {},
   "source": [
    "#### Nuestra estrategia: eliminar si la cantidad de registros eliminados no es significativa"
   ]
  },
  {
   "cell_type": "code",
   "execution_count": 11,
   "id": "36023705-a59b-4536-bddf-c9da5b96952b",
   "metadata": {
    "tags": []
   },
   "outputs": [
    {
     "data": {
      "text/plain": [
       "review_overall           0\n",
       "review_aroma             0\n",
       "review_appearance        0\n",
       "review_palate            0\n",
       "review_taste             0\n",
       "beer_abv             67429\n",
       "dtype: int64"
      ]
     },
     "execution_count": 11,
     "metadata": {},
     "output_type": "execute_result"
    }
   ],
   "source": [
    "df.loc[:, ['review_overall', 'review_aroma', 'review_appearance', 'review_palate', 'review_taste', 'beer_abv']].isna().sum()"
   ]
  },
  {
   "cell_type": "code",
   "execution_count": 12,
   "id": "ad97b872-e7b2-4964-8afd-b4e92c0d3023",
   "metadata": {
    "tags": []
   },
   "outputs": [
    {
     "data": {
      "text/plain": [
       "1571487"
      ]
     },
     "execution_count": 12,
     "metadata": {},
     "output_type": "execute_result"
    }
   ],
   "source": [
    "resenias_unicas"
   ]
  },
  {
   "cell_type": "markdown",
   "id": "6ecd1eaf-a43d-46a1-811f-aad6b104ced1",
   "metadata": {},
   "source": [
    "Porcentaje perdido de registros\n",
    "\n",
    "67429 / 1571487 * 100 = 4.29%"
   ]
  },
  {
   "cell_type": "markdown",
   "id": "1fc97298-964d-4b1c-b8b0-438f9ac8897a",
   "metadata": {},
   "source": [
    "#### Marcamos los registros que se deben eliminar"
   ]
  },
  {
   "cell_type": "code",
   "execution_count": 13,
   "id": "cc2da950-20e0-4633-aa66-580caca06ede",
   "metadata": {
    "tags": []
   },
   "outputs": [],
   "source": [
    "df['eliminar'] = 'NO'"
   ]
  },
  {
   "cell_type": "code",
   "execution_count": 14,
   "id": "a0ccce11-e260-4dc8-a30f-ba8e91d5e3ab",
   "metadata": {
    "tags": []
   },
   "outputs": [],
   "source": [
    "df.loc[df['beer_abv'].isnull(), ('eliminar')] = 'SI'"
   ]
  },
  {
   "cell_type": "code",
   "execution_count": 15,
   "id": "4661386a-1f92-40d3-826a-2c2b0a006c2d",
   "metadata": {
    "tags": []
   },
   "outputs": [
    {
     "data": {
      "text/plain": [
       "eliminar\n",
       "NO    1504058\n",
       "SI      67429\n",
       "Name: eliminar, dtype: int64"
      ]
     },
     "execution_count": 15,
     "metadata": {},
     "output_type": "execute_result"
    }
   ],
   "source": [
    "df.groupby(['eliminar'])['eliminar'].count()"
   ]
  },
  {
   "cell_type": "markdown",
   "id": "3b87471e-28e1-4cd0-ad8a-e55801d3c6ae",
   "metadata": {
    "tags": []
   },
   "source": [
    "review fuera de rango (0-5) review <0 review >5\n",
    "review not integer\n",
    "muy alejando\n"
   ]
  },
  {
   "cell_type": "markdown",
   "id": "36f7e1f9-2b18-4055-84c3-e2effdbac6a4",
   "metadata": {},
   "source": [
    "## Valores atipicos"
   ]
  },
  {
   "cell_type": "markdown",
   "id": "403f2ac6-ce89-4492-a58a-1c35deceab92",
   "metadata": {},
   "source": [
    "#### ¿Qué es un valor atípico?"
   ]
  },
  {
   "cell_type": "markdown",
   "id": "6280ad0b-8c2d-4298-a1a6-ea51b0f542a7",
   "metadata": {},
   "source": [
    "(tomado de wikipedia sin permiso)\n",
    "\n",
    "En estadística, tales como muestras estratificadas, un valor atípico (en inglés outlier) es una observación que es numéricamente distante del resto de los datos"
   ]
  },
  {
   "cell_type": "markdown",
   "id": "0b84a4f8-c924-4fd7-b430-3fefdcad7341",
   "metadata": {},
   "source": [
    "Los valores atípicos son en ocasiones una cuestión subjetiva, y existen numerosos métodos para clasificarlos. El método más impartido académicamente por su sencillez y resultados es el test de Tukey, que toma como referencia la diferencia entre el primer cuartil y el tercer cuartil, o rango intercuartílico. En un diagrama de caja se considera un valor atípico el que se encuentra 1,5 veces esa distancia de uno de esos cuartiles (atípico leve) o a 3 veces esa distancia (atípico extremo)."
   ]
  },
  {
   "cell_type": "markdown",
   "id": "e633a403-77ab-4e9d-aa1b-14c59311e724",
   "metadata": {},
   "source": [
    "#### ¿Está bien o mal que haya valores atípicos?\n",
    "\n",
    "1. Edades\n",
    "1. Pesos\n",
    "1. Temperaturas"
   ]
  },
  {
   "cell_type": "markdown",
   "id": "a0b43132-ef8d-4847-8ba2-f1d0ca99ae9a",
   "metadata": {},
   "source": [
    "#### Ejemplo de cálculo de valores atípicos o outliers"
   ]
  },
  {
   "cell_type": "code",
   "execution_count": 16,
   "id": "0ce610ac-ecde-4b07-b4a0-f2365f47812d",
   "metadata": {
    "tags": []
   },
   "outputs": [],
   "source": [
    "tmp_data = np.array([\n",
    "    1,                #1\n",
    "    4,                #2\n",
    "    5,                #3\n",
    "    7,                #4   <= (Q1)\n",
    "    20,               #5\n",
    "    25,               #6\n",
    "    26,               #7   <= mediana (Q2)\n",
    "    30,               #8\n",
    "    35,               #9\n",
    "    37,               #10  <= (Q3)\n",
    "    39,               #11\n",
    "    145,              #12\n",
    "    320              #13\n",
    "])"
   ]
  },
  {
   "cell_type": "code",
   "execution_count": 17,
   "id": "eb7304f2-3fb4-41b5-810e-d123c0fb65c7",
   "metadata": {
    "tags": []
   },
   "outputs": [
    {
     "data": {
      "text/plain": [
       "7.0"
      ]
     },
     "execution_count": 17,
     "metadata": {},
     "output_type": "execute_result"
    }
   ],
   "source": [
    "pos_q2 = np.ceil(50*len(tmp_data)/100)\n",
    "pos_q2"
   ]
  },
  {
   "cell_type": "code",
   "execution_count": 18,
   "id": "77e5cc7a-c365-4e82-8b65-ec4e1b758d2f",
   "metadata": {
    "tags": []
   },
   "outputs": [
    {
     "data": {
      "text/plain": [
       "4.0"
      ]
     },
     "execution_count": 18,
     "metadata": {},
     "output_type": "execute_result"
    }
   ],
   "source": [
    "pos_q1 = np.ceil(25*len(tmp_data)/100)\n",
    "pos_q1"
   ]
  },
  {
   "cell_type": "code",
   "execution_count": 19,
   "id": "83f4411b-cfc2-4932-a4a0-472fb215243f",
   "metadata": {
    "tags": []
   },
   "outputs": [
    {
     "data": {
      "text/plain": [
       "10.0"
      ]
     },
     "execution_count": 19,
     "metadata": {},
     "output_type": "execute_result"
    }
   ],
   "source": [
    "pos_q3 = np.ceil(75*len(tmp_data)/100)\n",
    "pos_q3"
   ]
  },
  {
   "cell_type": "markdown",
   "id": "c30510e0-c44a-4663-b7b0-a6a6729a4a85",
   "metadata": {},
   "source": [
    "#### Q1: cuartil 1 (25% de los datos)"
   ]
  },
  {
   "cell_type": "code",
   "execution_count": 20,
   "id": "54f39718-9823-4d8f-a7c5-2735870b2a07",
   "metadata": {
    "tags": []
   },
   "outputs": [
    {
     "data": {
      "text/plain": [
       "7.0"
      ]
     },
     "execution_count": 20,
     "metadata": {},
     "output_type": "execute_result"
    }
   ],
   "source": [
    "q1 = np.quantile(tmp_data, 0.25, method='midpoint')\n",
    "q1"
   ]
  },
  {
   "cell_type": "markdown",
   "id": "d775ff3b-5db7-44cf-b631-0b88861747a8",
   "metadata": {},
   "source": [
    "#### Q2: cuartil 2 (50% de los datos, tambien llamado mediana)"
   ]
  },
  {
   "cell_type": "code",
   "execution_count": 21,
   "id": "f23cd47a-1541-4d73-9ae1-0d7a838b196c",
   "metadata": {
    "tags": []
   },
   "outputs": [
    {
     "data": {
      "text/plain": [
       "26.0"
      ]
     },
     "execution_count": 21,
     "metadata": {},
     "output_type": "execute_result"
    }
   ],
   "source": [
    "q2 = np.quantile(tmp_data, 0.5)\n",
    "q2"
   ]
  },
  {
   "cell_type": "markdown",
   "id": "bbe17b88-08dc-42dc-9697-f7551ff03160",
   "metadata": {},
   "source": [
    "#### Q3: cuartil 3 (75% de los datos)"
   ]
  },
  {
   "cell_type": "code",
   "execution_count": 22,
   "id": "edabe54a-f71d-40c4-806a-e1d47f1d2058",
   "metadata": {
    "tags": []
   },
   "outputs": [
    {
     "data": {
      "text/plain": [
       "37.0"
      ]
     },
     "execution_count": 22,
     "metadata": {},
     "output_type": "execute_result"
    }
   ],
   "source": [
    "q3 = np.quantile(tmp_data, 0.75, method='midpoint')\n",
    "q3"
   ]
  },
  {
   "cell_type": "markdown",
   "id": "74a8ecc2-426a-4a21-b745-32f308a3e568",
   "metadata": {},
   "source": [
    "#### Rango intercuartílico (Q3 - Q1)"
   ]
  },
  {
   "cell_type": "code",
   "execution_count": 23,
   "id": "0f572d6d-2d7b-49f3-9184-b70776c2a8df",
   "metadata": {
    "tags": []
   },
   "outputs": [
    {
     "data": {
      "text/plain": [
       "30.0"
      ]
     },
     "execution_count": 23,
     "metadata": {},
     "output_type": "execute_result"
    }
   ],
   "source": [
    "ri = q3 - q1\n",
    "ri"
   ]
  },
  {
   "cell_type": "markdown",
   "id": "0459185a-dfa2-4e92-9461-b110f7de3208",
   "metadata": {},
   "source": [
    "#### Valores atipicos leves (valores entre  Q1 - 1.5*ri)"
   ]
  },
  {
   "cell_type": "code",
   "execution_count": 24,
   "id": "6ed6cfb6-69c9-47ba-83dd-064c692d6b56",
   "metadata": {
    "tags": []
   },
   "outputs": [
    {
     "data": {
      "text/plain": [
       "-38.0"
      ]
     },
     "execution_count": 24,
     "metadata": {},
     "output_type": "execute_result"
    }
   ],
   "source": [
    "q1 - 1.5*ri"
   ]
  },
  {
   "cell_type": "code",
   "execution_count": 25,
   "id": "9da60202-2481-4eb8-ac4b-49737e8db597",
   "metadata": {
    "tags": []
   },
   "outputs": [
    {
     "data": {
      "text/plain": [
       "1"
      ]
     },
     "execution_count": 25,
     "metadata": {},
     "output_type": "execute_result"
    }
   ],
   "source": [
    "min(tmp_data[tmp_data >= -38])"
   ]
  },
  {
   "cell_type": "markdown",
   "id": "0b1c009a-68a1-4cc4-abf3-0856af9ce9ee",
   "metadata": {},
   "source": [
    "#### Bigote superior (valores superiores a  Q3 - 1.5*ri )"
   ]
  },
  {
   "cell_type": "code",
   "execution_count": 26,
   "id": "c5e3757f-3a72-4eba-a587-d9fd39f88b6e",
   "metadata": {
    "tags": []
   },
   "outputs": [
    {
     "data": {
      "text/plain": [
       "82.0"
      ]
     },
     "execution_count": 26,
     "metadata": {},
     "output_type": "execute_result"
    }
   ],
   "source": [
    "q3 + 1.5*ri"
   ]
  },
  {
   "cell_type": "code",
   "execution_count": 27,
   "id": "651ab250-9022-4952-b399-fbfe21f481ff",
   "metadata": {
    "tags": []
   },
   "outputs": [
    {
     "data": {
      "text/plain": [
       "39"
      ]
     },
     "execution_count": 27,
     "metadata": {},
     "output_type": "execute_result"
    }
   ],
   "source": [
    "max(tmp_data[tmp_data <= 82])"
   ]
  },
  {
   "cell_type": "code",
   "execution_count": 28,
   "id": "e09ba17e-cf62-444e-b4a3-e540aa9cd62c",
   "metadata": {
    "tags": []
   },
   "outputs": [
    {
     "data": {
      "text/plain": [
       "array([145, 320])"
      ]
     },
     "execution_count": 28,
     "metadata": {},
     "output_type": "execute_result"
    }
   ],
   "source": [
    "tmp_data[np.where(tmp_data > q3 + 1.5*ri)]"
   ]
  },
  {
   "cell_type": "code",
   "execution_count": 29,
   "id": "98518aaa-84bd-407a-874a-b85693381760",
   "metadata": {
    "tags": []
   },
   "outputs": [
    {
     "data": {
      "image/png": "[encoded data removed]",
      "text/plain": [
       "<Figure size 640x480 with 1 Axes>"
      ]
     },
     "metadata": {},
     "output_type": "display_data"
    }
   ],
   "source": [
    "data = tmp_data\n",
    "titulo = 'Datos de prueba'\n",
    "g1 = sns.boxplot(data=data, orient='h')\n",
    "g1.set(title=titulo)\n",
    "plt.show()"
   ]
  },
  {
   "cell_type": "markdown",
   "id": "7e5e7d4e-8b1b-449c-9e54-7db149122c51",
   "metadata": {},
   "source": [
    "#### Review overall"
   ]
  },
  {
   "cell_type": "code",
   "execution_count": 30,
   "id": "5e4741b1-a056-4fbb-8148-062d4ed21b59",
   "metadata": {
    "tags": []
   },
   "outputs": [
    {
     "data": {
      "image/png": "[encoded data removed]",
      "text/plain": [
       "<Figure size 640x480 with 1 Axes>"
      ]
     },
     "metadata": {},
     "output_type": "display_data"
    }
   ],
   "source": [
    "data = df['review_overall']\n",
    "titulo = 'Review overall'\n",
    "g1 = sns.boxplot(data=data, orient='h')\n",
    "g1.set(title=titulo)\n",
    "plt.show()"
   ]
  },
  {
   "cell_type": "markdown",
   "id": "686b5597-1aa3-4837-b414-d130d64b0d8c",
   "metadata": {},
   "source": [
    "#### Review aroma"
   ]
  },
  {
   "cell_type": "code",
   "execution_count": 31,
   "id": "f7efa636-dbc5-4bdd-9fb6-5e73151174cb",
   "metadata": {
    "tags": []
   },
   "outputs": [
    {
     "data": {
      "image/png": "[encoded data removed]",
      "text/plain": [
       "<Figure size 640x480 with 1 Axes>"
      ]
     },
     "metadata": {},
     "output_type": "display_data"
    }
   ],
   "source": [
    "data = df['review_aroma']\n",
    "titulo = 'Review aroma'\n",
    "g1 = sns.boxplot(data=data, orient='h')\n",
    "g1.set(title=titulo)\n",
    "plt.show()"
   ]
  },
  {
   "cell_type": "markdown",
   "id": "851b1b19-2428-4ce1-8a7f-ae4fd62c1473",
   "metadata": {},
   "source": [
    "#### Review appearance"
   ]
  },
  {
   "cell_type": "code",
   "execution_count": 32,
   "id": "d62623ff-1d5c-4c51-88af-c04e8e79bdc4",
   "metadata": {
    "tags": []
   },
   "outputs": [
    {
     "data": {
      "image/png": "[encoded data removed]",
      "text/plain": [
       "<Figure size 640x480 with 1 Axes>"
      ]
     },
     "metadata": {},
     "output_type": "display_data"
    }
   ],
   "source": [
    "data = df['review_appearance']\n",
    "titulo = 'Review appearance'\n",
    "g1 = sns.boxplot(data=data, orient='h')\n",
    "g1.set(title=titulo)\n",
    "plt.show()"
   ]
  },
  {
   "cell_type": "markdown",
   "id": "267b6114-7135-4327-9977-8e89d211fa05",
   "metadata": {},
   "source": [
    "#### Review palate"
   ]
  },
  {
   "cell_type": "code",
   "execution_count": 33,
   "id": "066b90d6-0d2d-4220-a3d7-3a9bd2392a9c",
   "metadata": {
    "tags": []
   },
   "outputs": [
    {
     "data": {
      "image/png": "[encoded data removed]",
      "text/plain": [
       "<Figure size 640x480 with 1 Axes>"
      ]
     },
     "metadata": {},
     "output_type": "display_data"
    }
   ],
   "source": [
    "data = df['review_palate']\n",
    "titulo = 'Review palate'\n",
    "g1 = sns.boxplot(data=data, orient='h')\n",
    "g1.set(title=titulo)\n",
    "plt.show()"
   ]
  },
  {
   "cell_type": "markdown",
   "id": "3a3b5d83-760e-4741-8a6b-3a3b18eea8fe",
   "metadata": {},
   "source": [
    "#### Review taste"
   ]
  },
  {
   "cell_type": "code",
   "execution_count": 34,
   "id": "cef53e0f-0c6f-4f86-a91e-824a4ecac9fc",
   "metadata": {
    "tags": []
   },
   "outputs": [
    {
     "data": {
      "image/png": "[encoded data removed]",
      "text/plain": [
       "<Figure size 640x480 with 1 Axes>"
      ]
     },
     "metadata": {},
     "output_type": "display_data"
    }
   ],
   "source": [
    "data = df['review_taste']\n",
    "titulo = 'Review taste'\n",
    "g1 = sns.boxplot(data=data, orient='h')\n",
    "g1.set(title=titulo)\n",
    "plt.show()"
   ]
  },
  {
   "cell_type": "markdown",
   "id": "e5cf121b-6762-4a1e-9f28-592e7709bb74",
   "metadata": {},
   "source": [
    "#### Review abv"
   ]
  },
  {
   "cell_type": "code",
   "execution_count": 35,
   "id": "75db6df9-2e3a-46b9-8630-bee31141a946",
   "metadata": {
    "tags": []
   },
   "outputs": [
    {
     "data": {
      "image/png": "[encoded data removed]",
      "text/plain": [
       "<Figure size 640x480 with 1 Axes>"
      ]
     },
     "metadata": {},
     "output_type": "display_data"
    }
   ],
   "source": [
    "data = df.loc[:, ('beer_beerid', 'beer_abv')].drop_duplicates()['beer_abv']\n",
    "titulo = 'Alcohol by volume'\n",
    "g1 = sns.boxplot(data=data, orient='h')\n",
    "g1.set(title=titulo)\n",
    "plt.show()"
   ]
  },
  {
   "cell_type": "code",
   "execution_count": 36,
   "id": "4c2ed956",
   "metadata": {},
   "outputs": [
    {
     "data": {
      "text/plain": [
       "array([5. , 5.7, 7.2])"
      ]
     },
     "execution_count": 36,
     "metadata": {},
     "output_type": "execute_result"
    }
   ],
   "source": [
    "data_sin_nan = data[np.logical_not(np.isnan(data))]\n",
    "q_1_2_3 = np.quantile(data_sin_nan, [0.25, 0.5, 0.75])\n",
    "q_1_2_3"
   ]
  },
  {
   "cell_type": "code",
   "execution_count": 37,
   "id": "0027d866",
   "metadata": {},
   "outputs": [
    {
     "data": {
      "text/plain": [
       "2.2"
      ]
     },
     "execution_count": 37,
     "metadata": {},
     "output_type": "execute_result"
    }
   ],
   "source": [
    "ri = q_1_2_3[2] - q_1_2_3[0]\n",
    "ri"
   ]
  },
  {
   "cell_type": "code",
   "execution_count": 38,
   "id": "e2b33fb1",
   "metadata": {},
   "outputs": [
    {
     "data": {
      "text/plain": [
       "10.5"
      ]
     },
     "execution_count": 38,
     "metadata": {},
     "output_type": "execute_result"
    }
   ],
   "source": [
    "outliers_superiores = q_1_2_3[2] + 1.5*ri\n",
    "outliers_superiores"
   ]
  },
  {
   "cell_type": "code",
   "execution_count": 39,
   "id": "2ea7a71c",
   "metadata": {},
   "outputs": [
    {
     "data": {
      "text/plain": [
       "1857       12.0\n",
       "2207       10.9\n",
       "2587       11.1\n",
       "2632       11.0\n",
       "3346       11.3\n",
       "           ... \n",
       "1570314    11.0\n",
       "1570360    12.0\n",
       "1570470    11.1\n",
       "1570836    12.0\n",
       "1571372    15.0\n",
       "Name: beer_abv, Length: 1630, dtype: float64"
      ]
     },
     "execution_count": 39,
     "metadata": {},
     "output_type": "execute_result"
    }
   ],
   "source": [
    "data_sin_nan[data_sin_nan > outliers_superiores]"
   ]
  },
  {
   "cell_type": "code",
   "execution_count": 40,
   "id": "a6c6eeaa",
   "metadata": {},
   "outputs": [
    {
     "data": {
      "text/html": [
       "<div>\n",
       "<style scoped>\n",
       "    .dataframe tbody tr th:only-of-type {\n",
       "        vertical-align: middle;\n",
       "    }\n",
       "\n",
       "    .dataframe tbody tr th {\n",
       "        vertical-align: top;\n",
       "    }\n",
       "\n",
       "    .dataframe thead th {\n",
       "        text-align: right;\n",
       "    }\n",
       "</style>\n",
       "<table border=\"1\" class=\"dataframe\">\n",
       "  <thead>\n",
       "    <tr style=\"text-align: right;\">\n",
       "      <th></th>\n",
       "      <th>beer_beerid</th>\n",
       "      <th>beer_name</th>\n",
       "      <th>brewery_id</th>\n",
       "      <th>brewery_name</th>\n",
       "      <th>beer_style</th>\n",
       "      <th>beer_abv</th>\n",
       "    </tr>\n",
       "  </thead>\n",
       "  <tbody>\n",
       "    <tr>\n",
       "      <th>12831</th>\n",
       "      <td>73368</td>\n",
       "      <td>Schorschbräu Schorschbock 57%</td>\n",
       "      <td>6513</td>\n",
       "      <td>Schorschbräu</td>\n",
       "      <td>Eisbock</td>\n",
       "      <td>57.70</td>\n",
       "    </tr>\n",
       "    <tr>\n",
       "      <th>12851</th>\n",
       "      <td>57856</td>\n",
       "      <td>Schorschbräu Schorschbock 43%</td>\n",
       "      <td>6513</td>\n",
       "      <td>Schorschbräu</td>\n",
       "      <td>Eisbock</td>\n",
       "      <td>43.00</td>\n",
       "    </tr>\n",
       "    <tr>\n",
       "      <th>739299</th>\n",
       "      <td>57015</td>\n",
       "      <td>Sink The Bismarck!</td>\n",
       "      <td>16315</td>\n",
       "      <td>BrewDog</td>\n",
       "      <td>American Double / Imperial IPA</td>\n",
       "      <td>41.00</td>\n",
       "    </tr>\n",
       "    <tr>\n",
       "      <th>12846</th>\n",
       "      <td>55712</td>\n",
       "      <td>Schorschbräu Schorschbock 40%</td>\n",
       "      <td>6513</td>\n",
       "      <td>Schorschbräu</td>\n",
       "      <td>Eisbock</td>\n",
       "      <td>39.44</td>\n",
       "    </tr>\n",
       "    <tr>\n",
       "      <th>986708</th>\n",
       "      <td>70633</td>\n",
       "      <td>Black Damnation VI - Messy</td>\n",
       "      <td>15237</td>\n",
       "      <td>De Struise Brouwers</td>\n",
       "      <td>American Double / Imperial Stout</td>\n",
       "      <td>39.00</td>\n",
       "    </tr>\n",
       "    <tr>\n",
       "      <th>...</th>\n",
       "      <td>...</td>\n",
       "      <td>...</td>\n",
       "      <td>...</td>\n",
       "      <td>...</td>\n",
       "      <td>...</td>\n",
       "      <td>...</td>\n",
       "    </tr>\n",
       "    <tr>\n",
       "      <th>1274381</th>\n",
       "      <td>68800</td>\n",
       "      <td>Papsø 15K Belgisk Quadrupel</td>\n",
       "      <td>23295</td>\n",
       "      <td>Søkildegaard</td>\n",
       "      <td>Quadrupel (Quad)</td>\n",
       "      <td>10.60</td>\n",
       "    </tr>\n",
       "    <tr>\n",
       "      <th>1360980</th>\n",
       "      <td>4351</td>\n",
       "      <td>Carlsberg Master Brew</td>\n",
       "      <td>721</td>\n",
       "      <td>Carlsberg Danmark A/S</td>\n",
       "      <td>Euro Strong Lager</td>\n",
       "      <td>10.60</td>\n",
       "    </tr>\n",
       "    <tr>\n",
       "      <th>1125536</th>\n",
       "      <td>46467</td>\n",
       "      <td>Cascade Vlad The Imp Aler</td>\n",
       "      <td>2391</td>\n",
       "      <td>Cascade Brewing / Raccoon Lodge &amp; Brewpub</td>\n",
       "      <td>American Wild Ale</td>\n",
       "      <td>10.60</td>\n",
       "    </tr>\n",
       "    <tr>\n",
       "      <th>1367643</th>\n",
       "      <td>13874</td>\n",
       "      <td>Devil's Milk</td>\n",
       "      <td>1924</td>\n",
       "      <td>DuClaw Brewing Company</td>\n",
       "      <td>American Barleywine</td>\n",
       "      <td>10.60</td>\n",
       "    </tr>\n",
       "    <tr>\n",
       "      <th>882227</th>\n",
       "      <td>34470</td>\n",
       "      <td>Stone Old Guardian Barley Wine Style Ale 1999</td>\n",
       "      <td>147</td>\n",
       "      <td>Stone Brewing Co.</td>\n",
       "      <td>American Barleywine</td>\n",
       "      <td>10.58</td>\n",
       "    </tr>\n",
       "  </tbody>\n",
       "</table>\n",
       "<p>1630 rows × 6 columns</p>\n",
       "</div>"
      ],
      "text/plain": [
       "         beer_beerid                                      beer_name   \n",
       "12831          73368                  Schorschbräu Schorschbock 57%  \\\n",
       "12851          57856                  Schorschbräu Schorschbock 43%   \n",
       "739299         57015                             Sink The Bismarck!   \n",
       "12846          55712                  Schorschbräu Schorschbock 40%   \n",
       "986708         70633                     Black Damnation VI - Messy   \n",
       "...              ...                                            ...   \n",
       "1274381        68800                    Papsø 15K Belgisk Quadrupel   \n",
       "1360980         4351                          Carlsberg Master Brew   \n",
       "1125536        46467                      Cascade Vlad The Imp Aler   \n",
       "1367643        13874                                   Devil's Milk   \n",
       "882227         34470  Stone Old Guardian Barley Wine Style Ale 1999   \n",
       "\n",
       "         brewery_id                               brewery_name   \n",
       "12831          6513                               Schorschbräu  \\\n",
       "12851          6513                               Schorschbräu   \n",
       "739299        16315                                    BrewDog   \n",
       "12846          6513                               Schorschbräu   \n",
       "986708        15237                        De Struise Brouwers   \n",
       "...             ...                                        ...   \n",
       "1274381       23295                               Søkildegaard   \n",
       "1360980         721                      Carlsberg Danmark A/S   \n",
       "1125536        2391  Cascade Brewing / Raccoon Lodge & Brewpub   \n",
       "1367643        1924                     DuClaw Brewing Company   \n",
       "882227          147                          Stone Brewing Co.   \n",
       "\n",
       "                               beer_style  beer_abv  \n",
       "12831                             Eisbock     57.70  \n",
       "12851                             Eisbock     43.00  \n",
       "739299     American Double / Imperial IPA     41.00  \n",
       "12846                             Eisbock     39.44  \n",
       "986708   American Double / Imperial Stout     39.00  \n",
       "...                                   ...       ...  \n",
       "1274381                  Quadrupel (Quad)     10.60  \n",
       "1360980                 Euro Strong Lager     10.60  \n",
       "1125536                 American Wild Ale     10.60  \n",
       "1367643               American Barleywine     10.60  \n",
       "882227                American Barleywine     10.58  \n",
       "\n",
       "[1630 rows x 6 columns]"
      ]
     },
     "execution_count": 40,
     "metadata": {},
     "output_type": "execute_result"
    }
   ],
   "source": [
    "tmp_data = df[['beer_beerid', 'beer_name', 'brewery_id', 'brewery_name', 'beer_style', 'beer_abv']].drop_duplicates()\n",
    "\n",
    "tmp_data[(~tmp_data['beer_abv'].isnull()) & (tmp_data['beer_abv']>outliers_superiores)].sort_values(by=['beer_abv'], ascending=False)"
   ]
  },
  {
   "cell_type": "markdown",
   "id": "a4d412b9-b675-4af3-a31b-2b641a36e4ce",
   "metadata": {},
   "source": [
    "### Definiendo la popularidad"
   ]
  },
  {
   "cell_type": "markdown",
   "id": "c38fbe59",
   "metadata": {},
   "source": [
    "#### Numero de catadores"
   ]
  },
  {
   "cell_type": "code",
   "execution_count": 41,
   "id": "b71295d5",
   "metadata": {},
   "outputs": [
    {
     "data": {
      "text/plain": [
       "33387"
      ]
     },
     "execution_count": 41,
     "metadata": {},
     "output_type": "execute_result"
    }
   ],
   "source": [
    "numero_de_catadores = len(pd.unique(df['review_profilename']))\n",
    "numero_de_catadores"
   ]
  },
  {
   "cell_type": "markdown",
   "id": "a78c6313",
   "metadata": {},
   "source": [
    "  #### Nos quedamos solo con las cervezas que no hay que eliminar"
   ]
  },
  {
   "cell_type": "code",
   "execution_count": 42,
   "id": "08167ba7-f50b-4cd9-8262-259cb82b53d5",
   "metadata": {
    "tags": []
   },
   "outputs": [
    {
     "data": {
      "text/html": [
       "<div>\n",
       "<style scoped>\n",
       "    .dataframe tbody tr th:only-of-type {\n",
       "        vertical-align: middle;\n",
       "    }\n",
       "\n",
       "    .dataframe tbody tr th {\n",
       "        vertical-align: top;\n",
       "    }\n",
       "\n",
       "    .dataframe thead th {\n",
       "        text-align: right;\n",
       "    }\n",
       "</style>\n",
       "<table border=\"1\" class=\"dataframe\">\n",
       "  <thead>\n",
       "    <tr style=\"text-align: right;\">\n",
       "      <th></th>\n",
       "      <th>beer_beerid</th>\n",
       "      <th>beer_name</th>\n",
       "      <th>brewery_id</th>\n",
       "      <th>brewery_name</th>\n",
       "      <th>beer_style</th>\n",
       "      <th>beer_abv</th>\n",
       "      <th>review_profilename</th>\n",
       "      <th>review_time</th>\n",
       "      <th>review_overall</th>\n",
       "      <th>review_aroma</th>\n",
       "      <th>review_appearance</th>\n",
       "      <th>review_palate</th>\n",
       "      <th>review_taste</th>\n",
       "    </tr>\n",
       "  </thead>\n",
       "  <tbody>\n",
       "    <tr>\n",
       "      <th>0</th>\n",
       "      <td>47986</td>\n",
       "      <td>Sausa Weizen</td>\n",
       "      <td>10325</td>\n",
       "      <td>Vecchio Birraio</td>\n",
       "      <td>Hefeweizen</td>\n",
       "      <td>5.0</td>\n",
       "      <td>stcules</td>\n",
       "      <td>1234817823</td>\n",
       "      <td>1.5</td>\n",
       "      <td>2.0</td>\n",
       "      <td>2.5</td>\n",
       "      <td>1.5</td>\n",
       "      <td>1.5</td>\n",
       "    </tr>\n",
       "    <tr>\n",
       "      <th>1</th>\n",
       "      <td>48213</td>\n",
       "      <td>Red Moon</td>\n",
       "      <td>10325</td>\n",
       "      <td>Vecchio Birraio</td>\n",
       "      <td>English Strong Ale</td>\n",
       "      <td>6.2</td>\n",
       "      <td>stcules</td>\n",
       "      <td>1235915097</td>\n",
       "      <td>3.0</td>\n",
       "      <td>2.5</td>\n",
       "      <td>3.0</td>\n",
       "      <td>3.0</td>\n",
       "      <td>3.0</td>\n",
       "    </tr>\n",
       "    <tr>\n",
       "      <th>2</th>\n",
       "      <td>48215</td>\n",
       "      <td>Black Horse Black Beer</td>\n",
       "      <td>10325</td>\n",
       "      <td>Vecchio Birraio</td>\n",
       "      <td>Foreign / Export Stout</td>\n",
       "      <td>6.5</td>\n",
       "      <td>stcules</td>\n",
       "      <td>1235916604</td>\n",
       "      <td>3.0</td>\n",
       "      <td>2.5</td>\n",
       "      <td>3.0</td>\n",
       "      <td>3.0</td>\n",
       "      <td>3.0</td>\n",
       "    </tr>\n",
       "    <tr>\n",
       "      <th>3</th>\n",
       "      <td>47969</td>\n",
       "      <td>Sausa Pils</td>\n",
       "      <td>10325</td>\n",
       "      <td>Vecchio Birraio</td>\n",
       "      <td>German Pilsener</td>\n",
       "      <td>5.0</td>\n",
       "      <td>stcules</td>\n",
       "      <td>1234725145</td>\n",
       "      <td>3.0</td>\n",
       "      <td>3.0</td>\n",
       "      <td>3.5</td>\n",
       "      <td>2.5</td>\n",
       "      <td>3.0</td>\n",
       "    </tr>\n",
       "    <tr>\n",
       "      <th>4</th>\n",
       "      <td>64883</td>\n",
       "      <td>Cauldron DIPA</td>\n",
       "      <td>1075</td>\n",
       "      <td>Caldera Brewing Company</td>\n",
       "      <td>American Double / Imperial IPA</td>\n",
       "      <td>7.7</td>\n",
       "      <td>johnmichaelsen</td>\n",
       "      <td>1293735206</td>\n",
       "      <td>4.0</td>\n",
       "      <td>4.5</td>\n",
       "      <td>4.0</td>\n",
       "      <td>4.0</td>\n",
       "      <td>4.5</td>\n",
       "    </tr>\n",
       "    <tr>\n",
       "      <th>...</th>\n",
       "      <td>...</td>\n",
       "      <td>...</td>\n",
       "      <td>...</td>\n",
       "      <td>...</td>\n",
       "      <td>...</td>\n",
       "      <td>...</td>\n",
       "      <td>...</td>\n",
       "      <td>...</td>\n",
       "      <td>...</td>\n",
       "      <td>...</td>\n",
       "      <td>...</td>\n",
       "      <td>...</td>\n",
       "      <td>...</td>\n",
       "    </tr>\n",
       "    <tr>\n",
       "      <th>1571482</th>\n",
       "      <td>33061</td>\n",
       "      <td>The Horseman's Ale</td>\n",
       "      <td>14359</td>\n",
       "      <td>The Defiant Brewing Company</td>\n",
       "      <td>Pumpkin Ale</td>\n",
       "      <td>5.2</td>\n",
       "      <td>maddogruss</td>\n",
       "      <td>1162684892</td>\n",
       "      <td>5.0</td>\n",
       "      <td>4.0</td>\n",
       "      <td>3.5</td>\n",
       "      <td>4.0</td>\n",
       "      <td>4.0</td>\n",
       "    </tr>\n",
       "    <tr>\n",
       "      <th>1571483</th>\n",
       "      <td>33061</td>\n",
       "      <td>The Horseman's Ale</td>\n",
       "      <td>14359</td>\n",
       "      <td>The Defiant Brewing Company</td>\n",
       "      <td>Pumpkin Ale</td>\n",
       "      <td>5.2</td>\n",
       "      <td>yelterdow</td>\n",
       "      <td>1161048566</td>\n",
       "      <td>4.0</td>\n",
       "      <td>5.0</td>\n",
       "      <td>2.5</td>\n",
       "      <td>2.0</td>\n",
       "      <td>4.0</td>\n",
       "    </tr>\n",
       "    <tr>\n",
       "      <th>1571484</th>\n",
       "      <td>33061</td>\n",
       "      <td>The Horseman's Ale</td>\n",
       "      <td>14359</td>\n",
       "      <td>The Defiant Brewing Company</td>\n",
       "      <td>Pumpkin Ale</td>\n",
       "      <td>5.2</td>\n",
       "      <td>TongoRad</td>\n",
       "      <td>1160702513</td>\n",
       "      <td>4.5</td>\n",
       "      <td>3.5</td>\n",
       "      <td>3.0</td>\n",
       "      <td>3.5</td>\n",
       "      <td>4.0</td>\n",
       "    </tr>\n",
       "    <tr>\n",
       "      <th>1571485</th>\n",
       "      <td>33061</td>\n",
       "      <td>The Horseman's Ale</td>\n",
       "      <td>14359</td>\n",
       "      <td>The Defiant Brewing Company</td>\n",
       "      <td>Pumpkin Ale</td>\n",
       "      <td>5.2</td>\n",
       "      <td>dherling</td>\n",
       "      <td>1160023044</td>\n",
       "      <td>4.0</td>\n",
       "      <td>4.5</td>\n",
       "      <td>4.5</td>\n",
       "      <td>4.5</td>\n",
       "      <td>4.5</td>\n",
       "    </tr>\n",
       "    <tr>\n",
       "      <th>1571486</th>\n",
       "      <td>33061</td>\n",
       "      <td>The Horseman's Ale</td>\n",
       "      <td>14359</td>\n",
       "      <td>The Defiant Brewing Company</td>\n",
       "      <td>Pumpkin Ale</td>\n",
       "      <td>5.2</td>\n",
       "      <td>cbl2</td>\n",
       "      <td>1160005319</td>\n",
       "      <td>5.0</td>\n",
       "      <td>4.5</td>\n",
       "      <td>4.5</td>\n",
       "      <td>4.5</td>\n",
       "      <td>4.5</td>\n",
       "    </tr>\n",
       "  </tbody>\n",
       "</table>\n",
       "<p>1504058 rows × 13 columns</p>\n",
       "</div>"
      ],
      "text/plain": [
       "         beer_beerid               beer_name  brewery_id   \n",
       "0              47986            Sausa Weizen       10325  \\\n",
       "1              48213                Red Moon       10325   \n",
       "2              48215  Black Horse Black Beer       10325   \n",
       "3              47969              Sausa Pils       10325   \n",
       "4              64883           Cauldron DIPA        1075   \n",
       "...              ...                     ...         ...   \n",
       "1571482        33061      The Horseman's Ale       14359   \n",
       "1571483        33061      The Horseman's Ale       14359   \n",
       "1571484        33061      The Horseman's Ale       14359   \n",
       "1571485        33061      The Horseman's Ale       14359   \n",
       "1571486        33061      The Horseman's Ale       14359   \n",
       "\n",
       "                        brewery_name                      beer_style   \n",
       "0                    Vecchio Birraio                      Hefeweizen  \\\n",
       "1                    Vecchio Birraio              English Strong Ale   \n",
       "2                    Vecchio Birraio          Foreign / Export Stout   \n",
       "3                    Vecchio Birraio                 German Pilsener   \n",
       "4            Caldera Brewing Company  American Double / Imperial IPA   \n",
       "...                              ...                             ...   \n",
       "1571482  The Defiant Brewing Company                     Pumpkin Ale   \n",
       "1571483  The Defiant Brewing Company                     Pumpkin Ale   \n",
       "1571484  The Defiant Brewing Company                     Pumpkin Ale   \n",
       "1571485  The Defiant Brewing Company                     Pumpkin Ale   \n",
       "1571486  The Defiant Brewing Company                     Pumpkin Ale   \n",
       "\n",
       "         beer_abv review_profilename  review_time  review_overall   \n",
       "0             5.0            stcules   1234817823             1.5  \\\n",
       "1             6.2            stcules   1235915097             3.0   \n",
       "2             6.5            stcules   1235916604             3.0   \n",
       "3             5.0            stcules   1234725145             3.0   \n",
       "4             7.7     johnmichaelsen   1293735206             4.0   \n",
       "...           ...                ...          ...             ...   \n",
       "1571482       5.2         maddogruss   1162684892             5.0   \n",
       "1571483       5.2          yelterdow   1161048566             4.0   \n",
       "1571484       5.2           TongoRad   1160702513             4.5   \n",
       "1571485       5.2           dherling   1160023044             4.0   \n",
       "1571486       5.2               cbl2   1160005319             5.0   \n",
       "\n",
       "         review_aroma  review_appearance  review_palate  review_taste  \n",
       "0                 2.0                2.5            1.5           1.5  \n",
       "1                 2.5                3.0            3.0           3.0  \n",
       "2                 2.5                3.0            3.0           3.0  \n",
       "3                 3.0                3.5            2.5           3.0  \n",
       "4                 4.5                4.0            4.0           4.5  \n",
       "...               ...                ...            ...           ...  \n",
       "1571482           4.0                3.5            4.0           4.0  \n",
       "1571483           5.0                2.5            2.0           4.0  \n",
       "1571484           3.5                3.0            3.5           4.0  \n",
       "1571485           4.5                4.5            4.5           4.5  \n",
       "1571486           4.5                4.5            4.5           4.5  \n",
       "\n",
       "[1504058 rows x 13 columns]"
      ]
     },
     "execution_count": 42,
     "metadata": {},
     "output_type": "execute_result"
    }
   ],
   "source": [
    "df2 = df[df['eliminar'] == 'NO'].copy().drop(['eliminar'], axis=1)\n",
    "df2"
   ]
  },
  {
   "cell_type": "markdown",
   "id": "e85c8099",
   "metadata": {},
   "source": [
    "#### Agrupamos por cerveza para obtener la cantidad de puntuaciones y calculo de promedios en las puntuaciones"
   ]
  },
  {
   "cell_type": "code",
   "execution_count": 43,
   "id": "05e3094f",
   "metadata": {},
   "outputs": [
    {
     "data": {
      "text/html": [
       "<div>\n",
       "<style scoped>\n",
       "    .dataframe tbody tr th:only-of-type {\n",
       "        vertical-align: middle;\n",
       "    }\n",
       "\n",
       "    .dataframe tbody tr th {\n",
       "        vertical-align: top;\n",
       "    }\n",
       "\n",
       "    .dataframe thead th {\n",
       "        text-align: right;\n",
       "    }\n",
       "</style>\n",
       "<table border=\"1\" class=\"dataframe\">\n",
       "  <thead>\n",
       "    <tr style=\"text-align: right;\">\n",
       "      <th></th>\n",
       "      <th>beer_beerid</th>\n",
       "      <th>beer_name</th>\n",
       "      <th>brewery_id</th>\n",
       "      <th>brewery_name</th>\n",
       "      <th>beer_style</th>\n",
       "      <th>beer_abv</th>\n",
       "      <th>votaciones</th>\n",
       "      <th>review_overall</th>\n",
       "      <th>review_aroma</th>\n",
       "      <th>review_appearance</th>\n",
       "      <th>review_palate</th>\n",
       "      <th>review_taste</th>\n",
       "      <th>porcentaje_catadores</th>\n",
       "    </tr>\n",
       "  </thead>\n",
       "  <tbody>\n",
       "    <tr>\n",
       "      <th>1376</th>\n",
       "      <td>2093</td>\n",
       "      <td>90 Minute IPA</td>\n",
       "      <td>10099</td>\n",
       "      <td>Dogfish Head Brewery</td>\n",
       "      <td>American Double / Imperial IPA</td>\n",
       "      <td>9.0</td>\n",
       "      <td>3206</td>\n",
       "      <td>4.146912</td>\n",
       "      <td>4.213818</td>\n",
       "      <td>4.191672</td>\n",
       "      <td>4.179975</td>\n",
       "      <td>4.327667</td>\n",
       "      <td>9.602540</td>\n",
       "    </tr>\n",
       "    <tr>\n",
       "      <th>298</th>\n",
       "      <td>412</td>\n",
       "      <td>Old Rasputin Russian Imperial Stout</td>\n",
       "      <td>112</td>\n",
       "      <td>North Coast Brewing Co.</td>\n",
       "      <td>Russian Imperial Stout</td>\n",
       "      <td>9.0</td>\n",
       "      <td>3038</td>\n",
       "      <td>4.173963</td>\n",
       "      <td>4.199144</td>\n",
       "      <td>4.372120</td>\n",
       "      <td>4.229427</td>\n",
       "      <td>4.342495</td>\n",
       "      <td>9.099350</td>\n",
       "    </tr>\n",
       "    <tr>\n",
       "      <th>1255</th>\n",
       "      <td>1904</td>\n",
       "      <td>Sierra Nevada Celebration Ale</td>\n",
       "      <td>140</td>\n",
       "      <td>Sierra Nevada Brewing Co.</td>\n",
       "      <td>American IPA</td>\n",
       "      <td>6.8</td>\n",
       "      <td>2929</td>\n",
       "      <td>4.167805</td>\n",
       "      <td>4.081427</td>\n",
       "      <td>4.224821</td>\n",
       "      <td>4.074599</td>\n",
       "      <td>4.187948</td>\n",
       "      <td>8.772876</td>\n",
       "    </tr>\n",
       "    <tr>\n",
       "      <th>2594</th>\n",
       "      <td>4083</td>\n",
       "      <td>Stone Ruination IPA</td>\n",
       "      <td>147</td>\n",
       "      <td>Stone Brewing Co.</td>\n",
       "      <td>American Double / Imperial IPA</td>\n",
       "      <td>7.7</td>\n",
       "      <td>2644</td>\n",
       "      <td>4.163389</td>\n",
       "      <td>4.342852</td>\n",
       "      <td>4.180598</td>\n",
       "      <td>4.183245</td>\n",
       "      <td>4.350983</td>\n",
       "      <td>7.919250</td>\n",
       "    </tr>\n",
       "    <tr>\n",
       "      <th>66</th>\n",
       "      <td>92</td>\n",
       "      <td>Arrogant Bastard Ale</td>\n",
       "      <td>147</td>\n",
       "      <td>Stone Brewing Co.</td>\n",
       "      <td>American Strong Ale</td>\n",
       "      <td>7.2</td>\n",
       "      <td>2633</td>\n",
       "      <td>4.079947</td>\n",
       "      <td>4.119445</td>\n",
       "      <td>4.295480</td>\n",
       "      <td>4.144132</td>\n",
       "      <td>4.279719</td>\n",
       "      <td>7.886303</td>\n",
       "    </tr>\n",
       "    <tr>\n",
       "      <th>...</th>\n",
       "      <td>...</td>\n",
       "      <td>...</td>\n",
       "      <td>...</td>\n",
       "      <td>...</td>\n",
       "      <td>...</td>\n",
       "      <td>...</td>\n",
       "      <td>...</td>\n",
       "      <td>...</td>\n",
       "      <td>...</td>\n",
       "      <td>...</td>\n",
       "      <td>...</td>\n",
       "      <td>...</td>\n",
       "      <td>...</td>\n",
       "    </tr>\n",
       "    <tr>\n",
       "      <th>27522</th>\n",
       "      <td>46542</td>\n",
       "      <td>Flanders Red</td>\n",
       "      <td>2391</td>\n",
       "      <td>Cascade Brewing / Raccoon Lodge &amp; Brewpub</td>\n",
       "      <td>Flanders Red Ale</td>\n",
       "      <td>6.3</td>\n",
       "      <td>1</td>\n",
       "      <td>4.500000</td>\n",
       "      <td>4.500000</td>\n",
       "      <td>4.000000</td>\n",
       "      <td>4.000000</td>\n",
       "      <td>4.000000</td>\n",
       "      <td>0.002995</td>\n",
       "    </tr>\n",
       "    <tr>\n",
       "      <th>27517</th>\n",
       "      <td>46535</td>\n",
       "      <td>Gråskägg</td>\n",
       "      <td>17975</td>\n",
       "      <td>Strömsholms Brygghus &amp; Pub</td>\n",
       "      <td>Winter Warmer</td>\n",
       "      <td>5.2</td>\n",
       "      <td>1</td>\n",
       "      <td>3.500000</td>\n",
       "      <td>4.000000</td>\n",
       "      <td>3.500000</td>\n",
       "      <td>3.500000</td>\n",
       "      <td>4.000000</td>\n",
       "      <td>0.002995</td>\n",
       "    </tr>\n",
       "    <tr>\n",
       "      <th>27515</th>\n",
       "      <td>46533</td>\n",
       "      <td>Kleen</td>\n",
       "      <td>17975</td>\n",
       "      <td>Strömsholms Brygghus &amp; Pub</td>\n",
       "      <td>English Dark Mild Ale</td>\n",
       "      <td>3.3</td>\n",
       "      <td>1</td>\n",
       "      <td>3.000000</td>\n",
       "      <td>3.500000</td>\n",
       "      <td>4.000000</td>\n",
       "      <td>3.500000</td>\n",
       "      <td>3.500000</td>\n",
       "      <td>0.002995</td>\n",
       "    </tr>\n",
       "    <tr>\n",
       "      <th>27513</th>\n",
       "      <td>46530</td>\n",
       "      <td>Bonnie Jean's Scottish Ale</td>\n",
       "      <td>4712</td>\n",
       "      <td>Brewhouse, The</td>\n",
       "      <td>Scotch Ale / Wee Heavy</td>\n",
       "      <td>10.3</td>\n",
       "      <td>1</td>\n",
       "      <td>4.000000</td>\n",
       "      <td>3.500000</td>\n",
       "      <td>3.000000</td>\n",
       "      <td>4.000000</td>\n",
       "      <td>4.000000</td>\n",
       "      <td>0.002995</td>\n",
       "    </tr>\n",
       "    <tr>\n",
       "      <th>48999</th>\n",
       "      <td>77316</td>\n",
       "      <td>Crank Yanker IPA</td>\n",
       "      <td>20330</td>\n",
       "      <td>Eddyline Restaurant &amp; Brewery</td>\n",
       "      <td>American IPA</td>\n",
       "      <td>7.8</td>\n",
       "      <td>1</td>\n",
       "      <td>3.500000</td>\n",
       "      <td>3.500000</td>\n",
       "      <td>3.500000</td>\n",
       "      <td>3.500000</td>\n",
       "      <td>3.500000</td>\n",
       "      <td>0.002995</td>\n",
       "    </tr>\n",
       "  </tbody>\n",
       "</table>\n",
       "<p>49000 rows × 13 columns</p>\n",
       "</div>"
      ],
      "text/plain": [
       "       beer_beerid                            beer_name  brewery_id   \n",
       "1376          2093                        90 Minute IPA       10099  \\\n",
       "298            412  Old Rasputin Russian Imperial Stout         112   \n",
       "1255          1904        Sierra Nevada Celebration Ale         140   \n",
       "2594          4083                  Stone Ruination IPA         147   \n",
       "66              92                 Arrogant Bastard Ale         147   \n",
       "...            ...                                  ...         ...   \n",
       "27522        46542                         Flanders Red        2391   \n",
       "27517        46535                             Gråskägg       17975   \n",
       "27515        46533                                Kleen       17975   \n",
       "27513        46530           Bonnie Jean's Scottish Ale        4712   \n",
       "48999        77316                     Crank Yanker IPA       20330   \n",
       "\n",
       "                                    brewery_name   \n",
       "1376                        Dogfish Head Brewery  \\\n",
       "298                      North Coast Brewing Co.   \n",
       "1255                   Sierra Nevada Brewing Co.   \n",
       "2594                           Stone Brewing Co.   \n",
       "66                             Stone Brewing Co.   \n",
       "...                                          ...   \n",
       "27522  Cascade Brewing / Raccoon Lodge & Brewpub   \n",
       "27517                 Strömsholms Brygghus & Pub   \n",
       "27515                 Strömsholms Brygghus & Pub   \n",
       "27513                             Brewhouse, The   \n",
       "48999              Eddyline Restaurant & Brewery   \n",
       "\n",
       "                           beer_style  beer_abv  votaciones  review_overall   \n",
       "1376   American Double / Imperial IPA       9.0        3206        4.146912  \\\n",
       "298            Russian Imperial Stout       9.0        3038        4.173963   \n",
       "1255                     American IPA       6.8        2929        4.167805   \n",
       "2594   American Double / Imperial IPA       7.7        2644        4.163389   \n",
       "66                American Strong Ale       7.2        2633        4.079947   \n",
       "...                               ...       ...         ...             ...   \n",
       "27522                Flanders Red Ale       6.3           1        4.500000   \n",
       "27517                   Winter Warmer       5.2           1        3.500000   \n",
       "27515           English Dark Mild Ale       3.3           1        3.000000   \n",
       "27513          Scotch Ale / Wee Heavy      10.3           1        4.000000   \n",
       "48999                    American IPA       7.8           1        3.500000   \n",
       "\n",
       "       review_aroma  review_appearance  review_palate  review_taste   \n",
       "1376       4.213818           4.191672       4.179975      4.327667  \\\n",
       "298        4.199144           4.372120       4.229427      4.342495   \n",
       "1255       4.081427           4.224821       4.074599      4.187948   \n",
       "2594       4.342852           4.180598       4.183245      4.350983   \n",
       "66         4.119445           4.295480       4.144132      4.279719   \n",
       "...             ...                ...            ...           ...   \n",
       "27522      4.500000           4.000000       4.000000      4.000000   \n",
       "27517      4.000000           3.500000       3.500000      4.000000   \n",
       "27515      3.500000           4.000000       3.500000      3.500000   \n",
       "27513      3.500000           3.000000       4.000000      4.000000   \n",
       "48999      3.500000           3.500000       3.500000      3.500000   \n",
       "\n",
       "       porcentaje_catadores  \n",
       "1376               9.602540  \n",
       "298                9.099350  \n",
       "1255               8.772876  \n",
       "2594               7.919250  \n",
       "66                 7.886303  \n",
       "...                     ...  \n",
       "27522              0.002995  \n",
       "27517              0.002995  \n",
       "27515              0.002995  \n",
       "27513              0.002995  \n",
       "48999              0.002995  \n",
       "\n",
       "[49000 rows x 13 columns]"
      ]
     },
     "execution_count": 43,
     "metadata": {},
     "output_type": "execute_result"
    }
   ],
   "source": [
    "df = df2.groupby(['beer_beerid', 'beer_name', 'brewery_id', 'brewery_name', 'beer_style', 'beer_abv']).agg(\n",
    "    votaciones = pd.NamedAgg(column='review_profilename', aggfunc='count'),\n",
    "    review_overall = pd.NamedAgg(column='review_overall', aggfunc='mean'),\n",
    "    review_aroma = pd.NamedAgg(column='review_aroma', aggfunc='mean'),\n",
    "    review_appearance = pd.NamedAgg(column='review_appearance', aggfunc='mean'),\n",
    "    review_palate = pd.NamedAgg(column='review_palate', aggfunc='mean'),\n",
    "    review_taste = pd.NamedAgg(column='review_taste', aggfunc='mean'),\n",
    ")\n",
    "\n",
    "df['porcentaje_catadores'] = df['votaciones'] / numero_de_catadores * 100\n",
    "df.drop(['votaciones'], axis=1)\n",
    "df = df.reset_index()\n",
    "df.sort_values(by=['porcentaje_catadores'], ascending=False)"
   ]
  },
  {
   "cell_type": "code",
   "execution_count": 44,
   "id": "47096ca2",
   "metadata": {},
   "outputs": [
    {
     "data": {
      "text/plain": [
       "49000"
      ]
     },
     "execution_count": 44,
     "metadata": {},
     "output_type": "execute_result"
    }
   ],
   "source": [
    "total_de_cervezas =len(df)\n",
    "total_de_cervezas"
   ]
  },
  {
   "cell_type": "code",
   "execution_count": 45,
   "id": "91402cc5",
   "metadata": {},
   "outputs": [
    {
     "name": "stdout",
     "output_type": "stream",
     "text": [
      "0.0000% de cervezas fueron probadas por al menos el 10.000% de los catadores\n",
      "0.0020% de cervezas fueron probadas por al menos el 9.500% de los catadores\n",
      "0.0041% de cervezas fueron probadas por al menos el 9.000% de los catadores\n",
      "0.0061% de cervezas fueron probadas por al menos el 8.500% de los catadores\n",
      "0.0061% de cervezas fueron probadas por al menos el 8.000% de los catadores\n",
      "0.0163% de cervezas fueron probadas por al menos el 7.500% de los catadores\n",
      "0.0367% de cervezas fueron probadas por al menos el 7.000% de los catadores\n",
      "0.0449% de cervezas fueron probadas por al menos el 6.500% de los catadores\n",
      "0.0571% de cervezas fueron probadas por al menos el 6.000% de los catadores\n",
      "0.0776% de cervezas fueron probadas por al menos el 5.500% de los catadores\n",
      "0.1082% de cervezas fueron probadas por al menos el 5.000% de los catadores\n",
      "0.1388% de cervezas fueron probadas por al menos el 4.500% de los catadores\n",
      "0.2020% de cervezas fueron probadas por al menos el 4.000% de los catadores\n",
      "0.2776% de cervezas fueron probadas por al menos el 3.500% de los catadores\n",
      "0.3918% de cervezas fueron probadas por al menos el 3.000% de los catadores\n",
      "0.5327% de cervezas fueron probadas por al menos el 2.500% de los catadores\n",
      "0.7837% de cervezas fueron probadas por al menos el 2.000% de los catadores\n",
      "1.1918% de cervezas fueron probadas por al menos el 1.500% de los catadores\n",
      "2.0367% de cervezas fueron probadas por al menos el 1.000% de los catadores\n",
      "2.3551% de cervezas fueron probadas por al menos el 0.900% de los catadores\n",
      "2.6633% de cervezas fueron probadas por al menos el 0.800% de los catadores\n",
      "3.0531% de cervezas fueron probadas por al menos el 0.700% de los catadores\n",
      "3.5102% de cervezas fueron probadas por al menos el 0.600% de los catadores\n",
      "4.1347% de cervezas fueron probadas por al menos el 0.500% de los catadores\n",
      "5.0184% de cervezas fueron probadas por al menos el 0.400% de los catadores\n",
      "6.2102% de cervezas fueron probadas por al menos el 0.300% de los catadores\n",
      "8.3408% de cervezas fueron probadas por al menos el 0.200% de los catadores\n",
      "12.9735% de cervezas fueron probadas por al menos el 0.100% de los catadores\n",
      "19.3184% de cervezas fueron probadas por al menos el 0.050% de los catadores\n",
      "21.6490% de cervezas fueron probadas por al menos el 0.040% de los catadores\n",
      "24.8082% de cervezas fueron probadas por al menos el 0.030% de los catadores\n",
      "32.0816% de cervezas fueron probadas por al menos el 0.020% de los catadores\n",
      "44.7510% de cervezas fueron probadas por al menos el 0.010% de los catadores\n",
      "68.0245% de cervezas fueron probadas por al menos el 0.005% de los catadores\n",
      "68.0245% de cervezas fueron probadas por al menos el 0.004% de los catadores\n",
      "68.0245% de cervezas fueron probadas por al menos el 0.003% de los catadores\n",
      "100.0000% de cervezas fueron probadas por al menos el 0.002% de los catadores\n"
     ]
    }
   ],
   "source": [
    "txt = \"{porcentaje_de_cervezas:.4f}% de cervezas fueron probadas por al menos el {porcentaje_catadores:.3f}% de los catadores\"\n",
    "\n",
    "for porcentaje_de_cata in [10,9.5,9,8.5,8,7.5,7,6.5,6,5.5,5,4.5,4,3.5,3,2.5,2,1.5,1,0.9,0.8,0.7,0.6,0.5,0.4,0.3,0.2,0.1,0.05,0.04,0.03,0.02,0.01,0.005,0.004,0.003,0.002]:\n",
    "    porcentaje_de_cervezas =len(df[df['porcentaje_catadores'] > porcentaje_de_cata]) / total_de_cervezas * 100\n",
    "    print(txt.format(porcentaje_catadores = porcentaje_de_cata, porcentaje_de_cervezas = porcentaje_de_cervezas))"
   ]
  },
  {
   "cell_type": "code",
   "execution_count": 46,
   "id": "8b52c520",
   "metadata": {},
   "outputs": [
    {
     "data": {
      "text/html": [
       "<div>\n",
       "<style scoped>\n",
       "    .dataframe tbody tr th:only-of-type {\n",
       "        vertical-align: middle;\n",
       "    }\n",
       "\n",
       "    .dataframe tbody tr th {\n",
       "        vertical-align: top;\n",
       "    }\n",
       "\n",
       "    .dataframe thead th {\n",
       "        text-align: right;\n",
       "    }\n",
       "</style>\n",
       "<table border=\"1\" class=\"dataframe\">\n",
       "  <thead>\n",
       "    <tr style=\"text-align: right;\">\n",
       "      <th></th>\n",
       "      <th>POPULAR</th>\n",
       "      <th>counts</th>\n",
       "    </tr>\n",
       "  </thead>\n",
       "  <tbody>\n",
       "    <tr>\n",
       "      <th>0</th>\n",
       "      <td>NO</td>\n",
       "      <td>48002</td>\n",
       "    </tr>\n",
       "    <tr>\n",
       "      <th>1</th>\n",
       "      <td>SI</td>\n",
       "      <td>998</td>\n",
       "    </tr>\n",
       "  </tbody>\n",
       "</table>\n",
       "</div>"
      ],
      "text/plain": [
       "  POPULAR  counts\n",
       "0      NO   48002\n",
       "1      SI     998"
      ]
     },
     "execution_count": 46,
     "metadata": {},
     "output_type": "execute_result"
    }
   ],
   "source": [
    "porcentaje_de_cata = 1\n",
    "\n",
    "df['POPULAR'] = 'NO'\n",
    "df.loc[df['porcentaje_catadores']>porcentaje_de_cata, 'POPULAR'] = 'SI'\n",
    "\n",
    "df.groupby(['POPULAR'])['POPULAR'].size().reset_index(name='counts').sort_values(by=['counts'], ascending=False)"
   ]
  },
  {
   "cell_type": "code",
   "execution_count": 47,
   "id": "35966228",
   "metadata": {
    "tags": []
   },
   "outputs": [
    {
     "data": {
      "text/html": [
       "<div>\n",
       "<style scoped>\n",
       "    .dataframe tbody tr th:only-of-type {\n",
       "        vertical-align: middle;\n",
       "    }\n",
       "\n",
       "    .dataframe tbody tr th {\n",
       "        vertical-align: top;\n",
       "    }\n",
       "\n",
       "    .dataframe thead th {\n",
       "        text-align: right;\n",
       "    }\n",
       "</style>\n",
       "<table border=\"1\" class=\"dataframe\">\n",
       "  <thead>\n",
       "    <tr style=\"text-align: right;\">\n",
       "      <th></th>\n",
       "      <th>beer_beerid</th>\n",
       "      <th>beer_name</th>\n",
       "      <th>brewery_id</th>\n",
       "      <th>brewery_name</th>\n",
       "      <th>beer_style</th>\n",
       "      <th>beer_abv</th>\n",
       "      <th>votaciones</th>\n",
       "      <th>review_overall</th>\n",
       "      <th>review_aroma</th>\n",
       "      <th>review_appearance</th>\n",
       "      <th>review_palate</th>\n",
       "      <th>review_taste</th>\n",
       "      <th>porcentaje_catadores</th>\n",
       "      <th>POPULAR</th>\n",
       "    </tr>\n",
       "  </thead>\n",
       "  <tbody>\n",
       "    <tr>\n",
       "      <th>0</th>\n",
       "      <td>5</td>\n",
       "      <td>Amber</td>\n",
       "      <td>3</td>\n",
       "      <td>Abita Brewing Co.</td>\n",
       "      <td>Vienna Lager</td>\n",
       "      <td>4.5</td>\n",
       "      <td>420</td>\n",
       "      <td>3.554762</td>\n",
       "      <td>3.208333</td>\n",
       "      <td>3.488095</td>\n",
       "      <td>3.323810</td>\n",
       "      <td>3.342857</td>\n",
       "      <td>1.257975</td>\n",
       "      <td>SI</td>\n",
       "    </tr>\n",
       "    <tr>\n",
       "      <th>1</th>\n",
       "      <td>6</td>\n",
       "      <td>Turbodog</td>\n",
       "      <td>3</td>\n",
       "      <td>Abita Brewing Co.</td>\n",
       "      <td>English Brown Ale</td>\n",
       "      <td>5.6</td>\n",
       "      <td>871</td>\n",
       "      <td>3.707807</td>\n",
       "      <td>3.515499</td>\n",
       "      <td>3.839839</td>\n",
       "      <td>3.513777</td>\n",
       "      <td>3.644087</td>\n",
       "      <td>2.608800</td>\n",
       "      <td>SI</td>\n",
       "    </tr>\n",
       "    <tr>\n",
       "      <th>2</th>\n",
       "      <td>7</td>\n",
       "      <td>Purple Haze</td>\n",
       "      <td>3</td>\n",
       "      <td>Abita Brewing Co.</td>\n",
       "      <td>Fruit / Vegetable Beer</td>\n",
       "      <td>4.2</td>\n",
       "      <td>655</td>\n",
       "      <td>3.269466</td>\n",
       "      <td>3.177099</td>\n",
       "      <td>3.250382</td>\n",
       "      <td>3.107634</td>\n",
       "      <td>3.101527</td>\n",
       "      <td>1.961841</td>\n",
       "      <td>SI</td>\n",
       "    </tr>\n",
       "    <tr>\n",
       "      <th>3</th>\n",
       "      <td>8</td>\n",
       "      <td>Wheat</td>\n",
       "      <td>3</td>\n",
       "      <td>Abita Brewing Co.</td>\n",
       "      <td>American Adjunct Lager</td>\n",
       "      <td>4.2</td>\n",
       "      <td>68</td>\n",
       "      <td>3.647059</td>\n",
       "      <td>3.080882</td>\n",
       "      <td>3.294118</td>\n",
       "      <td>3.301471</td>\n",
       "      <td>3.235294</td>\n",
       "      <td>0.203672</td>\n",
       "      <td>NO</td>\n",
       "    </tr>\n",
       "    <tr>\n",
       "      <th>4</th>\n",
       "      <td>9</td>\n",
       "      <td>Golden</td>\n",
       "      <td>3</td>\n",
       "      <td>Abita Brewing Co.</td>\n",
       "      <td>American Pale Lager</td>\n",
       "      <td>4.2</td>\n",
       "      <td>116</td>\n",
       "      <td>3.400862</td>\n",
       "      <td>2.853448</td>\n",
       "      <td>3.051724</td>\n",
       "      <td>3.103448</td>\n",
       "      <td>3.043103</td>\n",
       "      <td>0.347441</td>\n",
       "      <td>NO</td>\n",
       "    </tr>\n",
       "    <tr>\n",
       "      <th>...</th>\n",
       "      <td>...</td>\n",
       "      <td>...</td>\n",
       "      <td>...</td>\n",
       "      <td>...</td>\n",
       "      <td>...</td>\n",
       "      <td>...</td>\n",
       "      <td>...</td>\n",
       "      <td>...</td>\n",
       "      <td>...</td>\n",
       "      <td>...</td>\n",
       "      <td>...</td>\n",
       "      <td>...</td>\n",
       "      <td>...</td>\n",
       "      <td>...</td>\n",
       "    </tr>\n",
       "    <tr>\n",
       "      <th>48995</th>\n",
       "      <td>77312</td>\n",
       "      <td>White Dog Norwegian Wheat Beer</td>\n",
       "      <td>18604</td>\n",
       "      <td>Lervig Aktiebryggeri AS</td>\n",
       "      <td>Witbier</td>\n",
       "      <td>4.7</td>\n",
       "      <td>1</td>\n",
       "      <td>4.000000</td>\n",
       "      <td>3.000000</td>\n",
       "      <td>4.500000</td>\n",
       "      <td>3.500000</td>\n",
       "      <td>4.500000</td>\n",
       "      <td>0.002995</td>\n",
       "      <td>NO</td>\n",
       "    </tr>\n",
       "    <tr>\n",
       "      <th>48996</th>\n",
       "      <td>77313</td>\n",
       "      <td>Aass Gourmet Pale Ale</td>\n",
       "      <td>185</td>\n",
       "      <td>Aass Brewery</td>\n",
       "      <td>American Blonde Ale</td>\n",
       "      <td>4.7</td>\n",
       "      <td>1</td>\n",
       "      <td>3.000000</td>\n",
       "      <td>3.000000</td>\n",
       "      <td>4.000000</td>\n",
       "      <td>3.000000</td>\n",
       "      <td>3.000000</td>\n",
       "      <td>0.002995</td>\n",
       "      <td>NO</td>\n",
       "    </tr>\n",
       "    <tr>\n",
       "      <th>48997</th>\n",
       "      <td>77314</td>\n",
       "      <td>Betty Brown Norwegian Brwon Ale</td>\n",
       "      <td>18604</td>\n",
       "      <td>Lervig Aktiebryggeri AS</td>\n",
       "      <td>American Brown Ale</td>\n",
       "      <td>4.7</td>\n",
       "      <td>1</td>\n",
       "      <td>3.500000</td>\n",
       "      <td>3.500000</td>\n",
       "      <td>4.000000</td>\n",
       "      <td>3.000000</td>\n",
       "      <td>4.000000</td>\n",
       "      <td>0.002995</td>\n",
       "      <td>NO</td>\n",
       "    </tr>\n",
       "    <tr>\n",
       "      <th>48998</th>\n",
       "      <td>77315</td>\n",
       "      <td>Icelandic White Beer</td>\n",
       "      <td>27839</td>\n",
       "      <td>Einstök Ölgerð</td>\n",
       "      <td>Witbier</td>\n",
       "      <td>5.2</td>\n",
       "      <td>1</td>\n",
       "      <td>3.500000</td>\n",
       "      <td>4.500000</td>\n",
       "      <td>3.000000</td>\n",
       "      <td>3.000000</td>\n",
       "      <td>3.500000</td>\n",
       "      <td>0.002995</td>\n",
       "      <td>NO</td>\n",
       "    </tr>\n",
       "    <tr>\n",
       "      <th>48999</th>\n",
       "      <td>77316</td>\n",
       "      <td>Crank Yanker IPA</td>\n",
       "      <td>20330</td>\n",
       "      <td>Eddyline Restaurant &amp; Brewery</td>\n",
       "      <td>American IPA</td>\n",
       "      <td>7.8</td>\n",
       "      <td>1</td>\n",
       "      <td>3.500000</td>\n",
       "      <td>3.500000</td>\n",
       "      <td>3.500000</td>\n",
       "      <td>3.500000</td>\n",
       "      <td>3.500000</td>\n",
       "      <td>0.002995</td>\n",
       "      <td>NO</td>\n",
       "    </tr>\n",
       "  </tbody>\n",
       "</table>\n",
       "<p>49000 rows × 14 columns</p>\n",
       "</div>"
      ],
      "text/plain": [
       "       beer_beerid                        beer_name  brewery_id   \n",
       "0                5                            Amber           3  \\\n",
       "1                6                         Turbodog           3   \n",
       "2                7                      Purple Haze           3   \n",
       "3                8                            Wheat           3   \n",
       "4                9                           Golden           3   \n",
       "...            ...                              ...         ...   \n",
       "48995        77312   White Dog Norwegian Wheat Beer       18604   \n",
       "48996        77313            Aass Gourmet Pale Ale         185   \n",
       "48997        77314  Betty Brown Norwegian Brwon Ale       18604   \n",
       "48998        77315             Icelandic White Beer       27839   \n",
       "48999        77316                 Crank Yanker IPA       20330   \n",
       "\n",
       "                        brewery_name              beer_style  beer_abv   \n",
       "0                  Abita Brewing Co.            Vienna Lager       4.5  \\\n",
       "1                  Abita Brewing Co.       English Brown Ale       5.6   \n",
       "2                  Abita Brewing Co.  Fruit / Vegetable Beer       4.2   \n",
       "3                  Abita Brewing Co.  American Adjunct Lager       4.2   \n",
       "4                  Abita Brewing Co.     American Pale Lager       4.2   \n",
       "...                              ...                     ...       ...   \n",
       "48995        Lervig Aktiebryggeri AS                 Witbier       4.7   \n",
       "48996                   Aass Brewery     American Blonde Ale       4.7   \n",
       "48997        Lervig Aktiebryggeri AS      American Brown Ale       4.7   \n",
       "48998                 Einstök Ölgerð                 Witbier       5.2   \n",
       "48999  Eddyline Restaurant & Brewery            American IPA       7.8   \n",
       "\n",
       "       votaciones  review_overall  review_aroma  review_appearance   \n",
       "0             420        3.554762      3.208333           3.488095  \\\n",
       "1             871        3.707807      3.515499           3.839839   \n",
       "2             655        3.269466      3.177099           3.250382   \n",
       "3              68        3.647059      3.080882           3.294118   \n",
       "4             116        3.400862      2.853448           3.051724   \n",
       "...           ...             ...           ...                ...   \n",
       "48995           1        4.000000      3.000000           4.500000   \n",
       "48996           1        3.000000      3.000000           4.000000   \n",
       "48997           1        3.500000      3.500000           4.000000   \n",
       "48998           1        3.500000      4.500000           3.000000   \n",
       "48999           1        3.500000      3.500000           3.500000   \n",
       "\n",
       "       review_palate  review_taste  porcentaje_catadores POPULAR  \n",
       "0           3.323810      3.342857              1.257975      SI  \n",
       "1           3.513777      3.644087              2.608800      SI  \n",
       "2           3.107634      3.101527              1.961841      SI  \n",
       "3           3.301471      3.235294              0.203672      NO  \n",
       "4           3.103448      3.043103              0.347441      NO  \n",
       "...              ...           ...                   ...     ...  \n",
       "48995       3.500000      4.500000              0.002995      NO  \n",
       "48996       3.000000      3.000000              0.002995      NO  \n",
       "48997       3.000000      4.000000              0.002995      NO  \n",
       "48998       3.000000      3.500000              0.002995      NO  \n",
       "48999       3.500000      3.500000              0.002995      NO  \n",
       "\n",
       "[49000 rows x 14 columns]"
      ]
     },
     "execution_count": 47,
     "metadata": {},
     "output_type": "execute_result"
    }
   ],
   "source": [
    "file_puntuacion_agrupada = directorio_data + 'cerveza_puntuacion_agrupada_total.csv'\n",
    "\n",
    "df.to_csv(file_puntuacion_agrupada, index=False)\n",
    "df"
   ]
  },
  {
   "cell_type": "markdown",
   "id": "81fdcf02-a409-4d69-a49a-6e58ea348db7",
   "metadata": {},
   "source": [
    "### ¿Qué es training, qué es testing y qué es validación?\n",
    "\n",
    "* Training: un conjunto de datos que utilizamos para generar el modelo\n",
    "* Validation: un conjunto de datos que utilizamos para obtener las métricas de nuestro modelo\n",
    "* Testing: un conjunto de datos del que se desconoce la clase objetivo, generalmente este es el dataset final sobre el que nuestro modelo debe generar las predicciones\n",
    "\n",
    "Usualmente, los términos testing y validación se suelen utilizar indistintamente."
   ]
  },
  {
   "cell_type": "markdown",
   "id": "28d12189-13a0-4e53-b883-86e569dca789",
   "metadata": {},
   "source": [
    "![image info](../img/Sets.png)"
   ]
  },
  {
   "cell_type": "code",
   "execution_count": 48,
   "id": "e7eb0145",
   "metadata": {
    "tags": []
   },
   "outputs": [],
   "source": [
    "X = df[[\"beer_beerid\", \"review_overall\", \"review_aroma\", \"review_appearance\", \"review_palate\", \"review_taste\", \"beer_abv\"]]\n",
    "y = df[\"POPULAR\"]\n",
    "X_training, X_testing, y_traininig, y_testing = train_test_split(X, y, train_size=0.8, stratify=y)\n",
    "\n",
    "x_training_file = directorio_data + 'x_traininig.csv'\n",
    "y_training_file = directorio_data + 'y_traininig.csv'\n",
    "x_testing_file = directorio_data + 'x_testing.csv'\n",
    "y_testing_file = directorio_data + 'y_testing.csv'\n",
    "\n",
    "X_training.to_csv(x_training_file, index=False)\n",
    "y_traininig.to_csv(y_training_file, index=False)\n",
    "\n",
    "X_testing.to_csv(x_testing_file, index=False)\n",
    "y_testing.to_csv(y_testing_file, index=False)"
   ]
  },
  {
   "cell_type": "code",
   "execution_count": 49,
   "id": "7af4559e-85a6-47fc-8041-20b7ec732d70",
   "metadata": {
    "tags": []
   },
   "outputs": [
    {
     "data": {
      "text/plain": [
       "POPULAR\n",
       "NO    0.979643\n",
       "SI    0.020357\n",
       "Name: proportion, dtype: float64"
      ]
     },
     "execution_count": 49,
     "metadata": {},
     "output_type": "execute_result"
    }
   ],
   "source": [
    "y_traininig.value_counts(normalize=True)"
   ]
  },
  {
   "cell_type": "code",
   "execution_count": 50,
   "id": "fcec755e-3756-46c1-afb9-13e7178d9fc2",
   "metadata": {
    "tags": []
   },
   "outputs": [
    {
     "data": {
      "text/plain": [
       "POPULAR\n",
       "NO    0.979592\n",
       "SI    0.020408\n",
       "Name: proportion, dtype: float64"
      ]
     },
     "execution_count": 50,
     "metadata": {},
     "output_type": "execute_result"
    }
   ],
   "source": [
    "y_testing.value_counts(normalize=True)"
   ]
  },
  {
   "cell_type": "code",
   "execution_count": null,
   "id": "80ad07c3-f990-476d-aeac-34be279fabbd",
   "metadata": {},
   "outputs": [],
   "source": []
  }
 ],
 "metadata": {
  "kernelspec": {
   "display_name": "Python 3 (ipykernel)",
   "language": "python",
   "name": "python3"
  },
  "language_info": {
   "codemirror_mode": {
    "name": "ipython",
    "version": 3
   },
   "file_extension": ".py",
   "mimetype": "text/x-python",
   "name": "python",
   "nbconvert_exporter": "python",
   "pygments_lexer": "ipython3",
   "version": "3.9.16"
  }
 },
 "nbformat": 4,
 "nbformat_minor": 5
}
