{
 "cells": [
  {
   "cell_type": "markdown",
   "id": "30e03428-556e-490b-914a-3ef648bad4dd",
   "metadata": {},
   "source": [
    "### A completar por el participante"
   ]
  },
  {
   "cell_type": "code",
   "execution_count": 1,
   "id": "06e768cb-e636-4542-bd62-bba059d43cb7",
   "metadata": {
    "tags": []
   },
   "outputs": [],
   "source": [
    "punto_de_corte = 0.96\n",
    "criterion = \"gini\" #“gini”, “entropy”, “log_loss”\n",
    "max_depth = 100\n",
    "min_samples_split = 15\n",
    "min_samples_leaf = 5\n",
    "max_features = 0.95\n",
    "random_state = 6667"
   ]
  },
  {
   "cell_type": "markdown",
   "id": "da6ecf18-8a7b-4efa-87a1-35a5137a8811",
   "metadata": {},
   "source": [
    "### Importamos los paquetes necesarios"
   ]
  },
  {
   "cell_type": "code",
   "execution_count": 2,
   "id": "621a062c-e8c6-49a3-8fee-0fe10b679107",
   "metadata": {
    "tags": []
   },
   "outputs": [],
   "source": [
    "import pandas as pd\n",
    "import numpy as np\n",
    "\n",
    "import matplotlib.pyplot as plt\n",
    "\n",
    "from sklearn.model_selection import train_test_split\n",
    "from sklearn.metrics import ConfusionMatrixDisplay\n",
    "from sklearn.metrics import confusion_matrix\n",
    "from sklearn import tree\n",
    "\n",
    "from sklearn.tree import DecisionTreeClassifier\n",
    "\n",
    "from IPython.display import Image  \n",
    "\n",
    "from sklearn.metrics import confusion_matrix\n",
    "from sklearn import tree"
   ]
  },
  {
   "cell_type": "markdown",
   "id": "f8465dfb-2944-40a1-b295-69c21ae96aca",
   "metadata": {},
   "source": [
    "### Informacion adicional sobre las cervezas"
   ]
  },
  {
   "cell_type": "code",
   "execution_count": 3,
   "id": "35547b2b-c117-4616-b303-d0845bfaa3ad",
   "metadata": {
    "tags": []
   },
   "outputs": [],
   "source": [
    "directorio_data = '../data/'"
   ]
  },
  {
   "cell_type": "code",
   "execution_count": 5,
   "id": "fbc090ad-87e6-4c40-9984-50b1fd6e144d",
   "metadata": {
    "tags": []
   },
   "outputs": [],
   "source": [
    "dataset_completo_file = directorio_data + 'beer_reviews.csv'\n",
    "df_extra_info_dataset = pd.read_csv(dataset_completo_file)[['beer_beerid', 'review_time', 'beer_abv']]"
   ]
  },
  {
   "cell_type": "code",
   "execution_count": 6,
   "id": "d465d949-81a9-4d9a-9efb-069694d3b12d",
   "metadata": {
    "tags": []
   },
   "outputs": [
    {
     "data": {
      "text/html": [
       "<div>\n",
       "<style scoped>\n",
       "    .dataframe tbody tr th:only-of-type {\n",
       "        vertical-align: middle;\n",
       "    }\n",
       "\n",
       "    .dataframe tbody tr th {\n",
       "        vertical-align: top;\n",
       "    }\n",
       "\n",
       "    .dataframe thead th {\n",
       "        text-align: right;\n",
       "    }\n",
       "</style>\n",
       "<table border=\"1\" class=\"dataframe\">\n",
       "  <thead>\n",
       "    <tr style=\"text-align: right;\">\n",
       "      <th></th>\n",
       "      <th>beer_beerid</th>\n",
       "      <th>review_time</th>\n",
       "      <th>beer_abv</th>\n",
       "      <th>review_date</th>\n",
       "    </tr>\n",
       "  </thead>\n",
       "  <tbody>\n",
       "    <tr>\n",
       "      <th>0</th>\n",
       "      <td>47986</td>\n",
       "      <td>1234817823</td>\n",
       "      <td>5.0</td>\n",
       "      <td>2009-02-16</td>\n",
       "    </tr>\n",
       "    <tr>\n",
       "      <th>1</th>\n",
       "      <td>48213</td>\n",
       "      <td>1235915097</td>\n",
       "      <td>6.2</td>\n",
       "      <td>2009-03-01</td>\n",
       "    </tr>\n",
       "    <tr>\n",
       "      <th>2</th>\n",
       "      <td>48215</td>\n",
       "      <td>1235916604</td>\n",
       "      <td>6.5</td>\n",
       "      <td>2009-03-01</td>\n",
       "    </tr>\n",
       "    <tr>\n",
       "      <th>3</th>\n",
       "      <td>47969</td>\n",
       "      <td>1234725145</td>\n",
       "      <td>5.0</td>\n",
       "      <td>2009-02-15</td>\n",
       "    </tr>\n",
       "    <tr>\n",
       "      <th>4</th>\n",
       "      <td>64883</td>\n",
       "      <td>1293735206</td>\n",
       "      <td>7.7</td>\n",
       "      <td>2010-12-30</td>\n",
       "    </tr>\n",
       "  </tbody>\n",
       "</table>\n",
       "</div>"
      ],
      "text/plain": [
       "   beer_beerid  review_time  beer_abv review_date\n",
       "0        47986   1234817823       5.0  2009-02-16\n",
       "1        48213   1235915097       6.2  2009-03-01\n",
       "2        48215   1235916604       6.5  2009-03-01\n",
       "3        47969   1234725145       5.0  2009-02-15\n",
       "4        64883   1293735206       7.7  2010-12-30"
      ]
     },
     "execution_count": 6,
     "metadata": {},
     "output_type": "execute_result"
    }
   ],
   "source": [
    "df_extra_info_dataset['review_date'] = pd.to_datetime(pd.to_datetime(df_extra_info_dataset['review_time'],unit='s')).dt.date\n",
    "df_extra_info_dataset.head()"
   ]
  },
  {
   "cell_type": "code",
   "execution_count": 7,
   "id": "86b20829-773f-4a0c-bde3-d5f447d6af8c",
   "metadata": {
    "tags": []
   },
   "outputs": [
    {
     "data": {
      "text/html": [
       "<div>\n",
       "<style scoped>\n",
       "    .dataframe tbody tr th:only-of-type {\n",
       "        vertical-align: middle;\n",
       "    }\n",
       "\n",
       "    .dataframe tbody tr th {\n",
       "        vertical-align: top;\n",
       "    }\n",
       "\n",
       "    .dataframe thead th {\n",
       "        text-align: right;\n",
       "    }\n",
       "</style>\n",
       "<table border=\"1\" class=\"dataframe\">\n",
       "  <thead>\n",
       "    <tr style=\"text-align: right;\">\n",
       "      <th></th>\n",
       "      <th>beer_beerid</th>\n",
       "      <th>beer_abv</th>\n",
       "      <th>min_review_date</th>\n",
       "      <th>max_review_date</th>\n",
       "      <th>disponibilidad</th>\n",
       "    </tr>\n",
       "  </thead>\n",
       "  <tbody>\n",
       "    <tr>\n",
       "      <th>0</th>\n",
       "      <td>5</td>\n",
       "      <td>4.5</td>\n",
       "      <td>2001-07-08</td>\n",
       "      <td>2012-01-01</td>\n",
       "      <td>3829.0</td>\n",
       "    </tr>\n",
       "    <tr>\n",
       "      <th>1</th>\n",
       "      <td>6</td>\n",
       "      <td>5.6</td>\n",
       "      <td>2001-03-02</td>\n",
       "      <td>2012-01-02</td>\n",
       "      <td>3958.0</td>\n",
       "    </tr>\n",
       "    <tr>\n",
       "      <th>2</th>\n",
       "      <td>7</td>\n",
       "      <td>4.2</td>\n",
       "      <td>2001-10-19</td>\n",
       "      <td>2011-12-31</td>\n",
       "      <td>3725.0</td>\n",
       "    </tr>\n",
       "    <tr>\n",
       "      <th>3</th>\n",
       "      <td>8</td>\n",
       "      <td>4.2</td>\n",
       "      <td>2002-04-10</td>\n",
       "      <td>2011-06-29</td>\n",
       "      <td>3367.0</td>\n",
       "    </tr>\n",
       "    <tr>\n",
       "      <th>4</th>\n",
       "      <td>9</td>\n",
       "      <td>4.2</td>\n",
       "      <td>2002-03-15</td>\n",
       "      <td>2011-11-03</td>\n",
       "      <td>3520.0</td>\n",
       "    </tr>\n",
       "  </tbody>\n",
       "</table>\n",
       "</div>"
      ],
      "text/plain": [
       "   beer_beerid  beer_abv min_review_date max_review_date  disponibilidad\n",
       "0            5       4.5      2001-07-08      2012-01-01          3829.0\n",
       "1            6       5.6      2001-03-02      2012-01-02          3958.0\n",
       "2            7       4.2      2001-10-19      2011-12-31          3725.0\n",
       "3            8       4.2      2002-04-10      2011-06-29          3367.0\n",
       "4            9       4.2      2002-03-15      2011-11-03          3520.0"
      ]
     },
     "execution_count": 7,
     "metadata": {},
     "output_type": "execute_result"
    }
   ],
   "source": [
    "df_extra_info_dataset_2 = df_extra_info_dataset.groupby(['beer_beerid', 'beer_abv']).agg(\n",
    "    min_review_date = pd.NamedAgg(column='review_date', aggfunc='min'),\n",
    "    max_review_date = pd.NamedAgg(column='review_date', aggfunc='max')\n",
    ").reset_index()\n",
    "\n",
    "df_extra_info_dataset_2['disponibilidad'] = (df_extra_info_dataset_2['max_review_date'] - df_extra_info_dataset_2['min_review_date']) / np.timedelta64(1, 'D')\n",
    "\n",
    "df_extra_info_dataset_2.head()\n"
   ]
  },
  {
   "cell_type": "markdown",
   "id": "1f0dff3c-0a90-477b-af16-c7dc82f53433",
   "metadata": {},
   "source": [
    "## Feature engineering zone"
   ]
  },
  {
   "cell_type": "code",
   "execution_count": 23,
   "id": "da19e240-29c1-42f2-9946-4d575b867d92",
   "metadata": {
    "tags": []
   },
   "outputs": [],
   "source": [
    "#Esta funcion hace un join entre el dataframe enviado como parametro y el dataframe con informacion extra para obtener la disponibilidad, el max_review_date y el min_review_date\n",
    "def feature_engineering_1(df):\n",
    "    df_output = pd.merge(left=df, right=df_extra_info_dataset_2, left_on='beer_beerid', right_on='beer_beerid')\n",
    "    return df_output\n",
    "\n",
    "def feature_engineering_2(df):\n",
    "    df_output = df.copy()\n",
    "    df_output['review_promedio'] = (df['review_overall'] + df['review_aroma'] + df['review_appearance'] + df['review_palate'] + df['review_taste'])/5\n",
    "    df_output['review_total'] = (df['review_overall'] + df['review_aroma'] + df['review_appearance'] + df['review_palate'] + df['review_taste'])\n",
    "    return df_output"
   ]
  },
  {
   "cell_type": "markdown",
   "id": "8165f7f2-7668-4d5b-ab22-5eef8a6b2db0",
   "metadata": {},
   "source": [
    "### Carga de datos"
   ]
  },
  {
   "cell_type": "code",
   "execution_count": 24,
   "id": "03228f9c-25aa-4d59-8836-f894bf8866d0",
   "metadata": {
    "tags": []
   },
   "outputs": [],
   "source": [
    "x_training_file = directorio_data + 'x_traininig.csv'\n",
    "y_training_file = directorio_data + 'y_traininig.csv'\n",
    "\n",
    "x_testing_file = directorio_data + 'x_testing.csv'\n",
    "y_testing_file = directorio_data + 'y_testing.csv'"
   ]
  },
  {
   "cell_type": "code",
   "execution_count": 25,
   "id": "eef1f0e4-99e4-42e7-bec9-5acb1a5b8b56",
   "metadata": {
    "tags": []
   },
   "outputs": [],
   "source": [
    "df_x_training_validacion = pd.read_csv(x_training_file)\n",
    "df_y_training_validacion = pd.read_csv(y_training_file)\n",
    "\n",
    "df_x_testing = pd.read_csv(x_testing_file)\n",
    "df_y_testing = pd.read_csv(y_testing_file)"
   ]
  },
  {
   "cell_type": "markdown",
   "id": "4be4a208-4d6c-4d43-8869-3fd82621f465",
   "metadata": {},
   "source": [
    "### Aplicamos las funciones de feature engineering a los datasets de training y testing"
   ]
  },
  {
   "cell_type": "code",
   "execution_count": 26,
   "id": "98effd2a-bf42-40d1-bb02-e911c030b7d6",
   "metadata": {
    "tags": []
   },
   "outputs": [],
   "source": [
    "funciones = [\n",
    "    \"feature_engineering_1\",\n",
    "    \"feature_engineering_2\"\n",
    "]\n",
    "\n",
    "df_x_training_validacion_tmp = df_x_training_validacion.copy()\n",
    "df_x_testing_tmp = df_x_testing.copy()\n",
    "\n",
    "for funcion in funciones:\n",
    "    df_x_training_validacion_tmp = locals()[funcion](df_x_training_validacion_tmp)\n",
    "    df_x_testing_tmp = locals()[funcion](df_x_testing_tmp)"
   ]
  },
  {
   "cell_type": "code",
   "execution_count": 27,
   "id": "020dc3c6-f4a3-40de-8977-464b885ed222",
   "metadata": {
    "tags": []
   },
   "outputs": [
    {
     "data": {
      "text/html": [
       "<div>\n",
       "<style scoped>\n",
       "    .dataframe tbody tr th:only-of-type {\n",
       "        vertical-align: middle;\n",
       "    }\n",
       "\n",
       "    .dataframe tbody tr th {\n",
       "        vertical-align: top;\n",
       "    }\n",
       "\n",
       "    .dataframe thead th {\n",
       "        text-align: right;\n",
       "    }\n",
       "</style>\n",
       "<table border=\"1\" class=\"dataframe\">\n",
       "  <thead>\n",
       "    <tr style=\"text-align: right;\">\n",
       "      <th></th>\n",
       "      <th>beer_beerid</th>\n",
       "      <th>review_overall</th>\n",
       "      <th>review_aroma</th>\n",
       "      <th>review_appearance</th>\n",
       "      <th>review_palate</th>\n",
       "      <th>review_taste</th>\n",
       "      <th>beer_abv</th>\n",
       "      <th>min_review_date</th>\n",
       "      <th>max_review_date</th>\n",
       "      <th>disponibilidad</th>\n",
       "      <th>review_promedio</th>\n",
       "      <th>review_total</th>\n",
       "    </tr>\n",
       "  </thead>\n",
       "  <tbody>\n",
       "    <tr>\n",
       "      <th>0</th>\n",
       "      <td>24856</td>\n",
       "      <td>2.500000</td>\n",
       "      <td>2.500000</td>\n",
       "      <td>2.500000</td>\n",
       "      <td>3.000000</td>\n",
       "      <td>2.500000</td>\n",
       "      <td>5.0</td>\n",
       "      <td>2005-07-19</td>\n",
       "      <td>2005-07-19</td>\n",
       "      <td>0.0</td>\n",
       "      <td>2.600000</td>\n",
       "      <td>13.000000</td>\n",
       "    </tr>\n",
       "    <tr>\n",
       "      <th>1</th>\n",
       "      <td>15994</td>\n",
       "      <td>4.500000</td>\n",
       "      <td>4.500000</td>\n",
       "      <td>4.000000</td>\n",
       "      <td>4.500000</td>\n",
       "      <td>4.500000</td>\n",
       "      <td>11.0</td>\n",
       "      <td>2004-02-18</td>\n",
       "      <td>2004-02-18</td>\n",
       "      <td>0.0</td>\n",
       "      <td>4.400000</td>\n",
       "      <td>22.000000</td>\n",
       "    </tr>\n",
       "    <tr>\n",
       "      <th>2</th>\n",
       "      <td>77086</td>\n",
       "      <td>4.000000</td>\n",
       "      <td>3.500000</td>\n",
       "      <td>4.000000</td>\n",
       "      <td>4.000000</td>\n",
       "      <td>3.500000</td>\n",
       "      <td>3.7</td>\n",
       "      <td>2012-01-05</td>\n",
       "      <td>2012-01-05</td>\n",
       "      <td>0.0</td>\n",
       "      <td>3.800000</td>\n",
       "      <td>19.000000</td>\n",
       "    </tr>\n",
       "    <tr>\n",
       "      <th>3</th>\n",
       "      <td>6810</td>\n",
       "      <td>3.642857</td>\n",
       "      <td>3.642857</td>\n",
       "      <td>4.071429</td>\n",
       "      <td>3.857143</td>\n",
       "      <td>3.785714</td>\n",
       "      <td>5.5</td>\n",
       "      <td>2002-10-23</td>\n",
       "      <td>2011-11-05</td>\n",
       "      <td>3300.0</td>\n",
       "      <td>3.800000</td>\n",
       "      <td>19.000000</td>\n",
       "    </tr>\n",
       "    <tr>\n",
       "      <th>4</th>\n",
       "      <td>18859</td>\n",
       "      <td>3.977778</td>\n",
       "      <td>3.700000</td>\n",
       "      <td>3.800000</td>\n",
       "      <td>3.988889</td>\n",
       "      <td>3.866667</td>\n",
       "      <td>6.5</td>\n",
       "      <td>2004-07-21</td>\n",
       "      <td>2011-07-28</td>\n",
       "      <td>2563.0</td>\n",
       "      <td>3.866667</td>\n",
       "      <td>19.333333</td>\n",
       "    </tr>\n",
       "  </tbody>\n",
       "</table>\n",
       "</div>"
      ],
      "text/plain": [
       "   beer_beerid  review_overall  review_aroma  review_appearance   \n",
       "0        24856        2.500000      2.500000           2.500000  \\\n",
       "1        15994        4.500000      4.500000           4.000000   \n",
       "2        77086        4.000000      3.500000           4.000000   \n",
       "3         6810        3.642857      3.642857           4.071429   \n",
       "4        18859        3.977778      3.700000           3.800000   \n",
       "\n",
       "   review_palate  review_taste  beer_abv min_review_date max_review_date   \n",
       "0       3.000000      2.500000       5.0      2005-07-19      2005-07-19  \\\n",
       "1       4.500000      4.500000      11.0      2004-02-18      2004-02-18   \n",
       "2       4.000000      3.500000       3.7      2012-01-05      2012-01-05   \n",
       "3       3.857143      3.785714       5.5      2002-10-23      2011-11-05   \n",
       "4       3.988889      3.866667       6.5      2004-07-21      2011-07-28   \n",
       "\n",
       "   disponibilidad  review_promedio  review_total  \n",
       "0             0.0         2.600000     13.000000  \n",
       "1             0.0         4.400000     22.000000  \n",
       "2             0.0         3.800000     19.000000  \n",
       "3          3300.0         3.800000     19.000000  \n",
       "4          2563.0         3.866667     19.333333  "
      ]
     },
     "execution_count": 27,
     "metadata": {},
     "output_type": "execute_result"
    }
   ],
   "source": [
    "df_x_training_validacion_tmp.head()"
   ]
  },
  {
   "cell_type": "code",
   "execution_count": 28,
   "id": "165a762c-839b-4dc8-9ae6-13a285872037",
   "metadata": {
    "tags": []
   },
   "outputs": [
    {
     "data": {
      "text/html": [
       "<div>\n",
       "<style scoped>\n",
       "    .dataframe tbody tr th:only-of-type {\n",
       "        vertical-align: middle;\n",
       "    }\n",
       "\n",
       "    .dataframe tbody tr th {\n",
       "        vertical-align: top;\n",
       "    }\n",
       "\n",
       "    .dataframe thead th {\n",
       "        text-align: right;\n",
       "    }\n",
       "</style>\n",
       "<table border=\"1\" class=\"dataframe\">\n",
       "  <thead>\n",
       "    <tr style=\"text-align: right;\">\n",
       "      <th></th>\n",
       "      <th>beer_beerid</th>\n",
       "      <th>review_overall</th>\n",
       "      <th>review_aroma</th>\n",
       "      <th>review_appearance</th>\n",
       "      <th>review_palate</th>\n",
       "      <th>review_taste</th>\n",
       "      <th>beer_abv</th>\n",
       "      <th>min_review_date</th>\n",
       "      <th>max_review_date</th>\n",
       "      <th>disponibilidad</th>\n",
       "      <th>review_promedio</th>\n",
       "      <th>review_total</th>\n",
       "    </tr>\n",
       "  </thead>\n",
       "  <tbody>\n",
       "    <tr>\n",
       "      <th>0</th>\n",
       "      <td>22297</td>\n",
       "      <td>3.500000</td>\n",
       "      <td>3.500000</td>\n",
       "      <td>4.000000</td>\n",
       "      <td>3.500000</td>\n",
       "      <td>4.000000</td>\n",
       "      <td>5.0</td>\n",
       "      <td>2005-06-04</td>\n",
       "      <td>2005-06-04</td>\n",
       "      <td>0.0</td>\n",
       "      <td>3.700000</td>\n",
       "      <td>18.500000</td>\n",
       "    </tr>\n",
       "    <tr>\n",
       "      <th>1</th>\n",
       "      <td>4351</td>\n",
       "      <td>2.300000</td>\n",
       "      <td>2.450000</td>\n",
       "      <td>2.600000</td>\n",
       "      <td>2.400000</td>\n",
       "      <td>2.250000</td>\n",
       "      <td>10.6</td>\n",
       "      <td>2002-06-15</td>\n",
       "      <td>2011-10-15</td>\n",
       "      <td>3409.0</td>\n",
       "      <td>2.400000</td>\n",
       "      <td>12.000000</td>\n",
       "    </tr>\n",
       "    <tr>\n",
       "      <th>2</th>\n",
       "      <td>984</td>\n",
       "      <td>4.034014</td>\n",
       "      <td>3.710884</td>\n",
       "      <td>3.768707</td>\n",
       "      <td>3.911565</td>\n",
       "      <td>3.894558</td>\n",
       "      <td>6.2</td>\n",
       "      <td>2002-02-28</td>\n",
       "      <td>2011-08-08</td>\n",
       "      <td>3448.0</td>\n",
       "      <td>3.863946</td>\n",
       "      <td>19.319728</td>\n",
       "    </tr>\n",
       "    <tr>\n",
       "      <th>3</th>\n",
       "      <td>71053</td>\n",
       "      <td>2.571429</td>\n",
       "      <td>2.785714</td>\n",
       "      <td>3.285714</td>\n",
       "      <td>3.142857</td>\n",
       "      <td>2.642857</td>\n",
       "      <td>5.0</td>\n",
       "      <td>2011-07-15</td>\n",
       "      <td>2012-01-06</td>\n",
       "      <td>175.0</td>\n",
       "      <td>2.885714</td>\n",
       "      <td>14.428571</td>\n",
       "    </tr>\n",
       "    <tr>\n",
       "      <th>4</th>\n",
       "      <td>64413</td>\n",
       "      <td>4.000000</td>\n",
       "      <td>4.000000</td>\n",
       "      <td>3.750000</td>\n",
       "      <td>4.250000</td>\n",
       "      <td>3.750000</td>\n",
       "      <td>7.7</td>\n",
       "      <td>2010-12-14</td>\n",
       "      <td>2011-01-18</td>\n",
       "      <td>35.0</td>\n",
       "      <td>3.950000</td>\n",
       "      <td>19.750000</td>\n",
       "    </tr>\n",
       "  </tbody>\n",
       "</table>\n",
       "</div>"
      ],
      "text/plain": [
       "   beer_beerid  review_overall  review_aroma  review_appearance   \n",
       "0        22297        3.500000      3.500000           4.000000  \\\n",
       "1         4351        2.300000      2.450000           2.600000   \n",
       "2          984        4.034014      3.710884           3.768707   \n",
       "3        71053        2.571429      2.785714           3.285714   \n",
       "4        64413        4.000000      4.000000           3.750000   \n",
       "\n",
       "   review_palate  review_taste  beer_abv min_review_date max_review_date   \n",
       "0       3.500000      4.000000       5.0      2005-06-04      2005-06-04  \\\n",
       "1       2.400000      2.250000      10.6      2002-06-15      2011-10-15   \n",
       "2       3.911565      3.894558       6.2      2002-02-28      2011-08-08   \n",
       "3       3.142857      2.642857       5.0      2011-07-15      2012-01-06   \n",
       "4       4.250000      3.750000       7.7      2010-12-14      2011-01-18   \n",
       "\n",
       "   disponibilidad  review_promedio  review_total  \n",
       "0             0.0         3.700000     18.500000  \n",
       "1          3409.0         2.400000     12.000000  \n",
       "2          3448.0         3.863946     19.319728  \n",
       "3           175.0         2.885714     14.428571  \n",
       "4            35.0         3.950000     19.750000  "
      ]
     },
     "execution_count": 28,
     "metadata": {},
     "output_type": "execute_result"
    }
   ],
   "source": [
    "df_x_testing_tmp.head()"
   ]
  },
  {
   "cell_type": "markdown",
   "id": "9453a947-5f93-49d9-b86c-13ed0f9e10fb",
   "metadata": {},
   "source": [
    "### Dejamos solo las columnas que queremos"
   ]
  },
  {
   "cell_type": "code",
   "execution_count": 29,
   "id": "0ed194c5-fcf7-48e3-a66b-d616167f4d3b",
   "metadata": {
    "tags": []
   },
   "outputs": [],
   "source": [
    "columnas = [\n",
    "    \"review_overall\",\n",
    "    \"review_aroma\",\n",
    "    \"review_appearance\",\n",
    "    \"review_palate\",\n",
    "    \"review_taste\",\n",
    "    \"beer_abv\",\n",
    "    \"disponibilidad\"\n",
    "]"
   ]
  },
  {
   "cell_type": "code",
   "execution_count": 30,
   "id": "27049edf-27f2-4900-b1a5-198b36f94422",
   "metadata": {
    "tags": []
   },
   "outputs": [],
   "source": [
    "df_x_training_validacion_tmp = df_x_training_validacion_tmp[columnas]\n",
    "df_x_testing_tmp = df_x_testing_tmp[columnas]"
   ]
  },
  {
   "cell_type": "markdown",
   "id": "8d16e9bd-aba6-4e7a-b448-2222861c204c",
   "metadata": {},
   "source": [
    "### Entrenamos el modelo"
   ]
  },
  {
   "cell_type": "code",
   "execution_count": 31,
   "id": "61e13cf6-a1db-4e64-8562-cf3f4509de72",
   "metadata": {
    "tags": []
   },
   "outputs": [],
   "source": [
    "clf = DecisionTreeClassifier(\n",
    "            criterion = criterion,\n",
    "            max_depth = max_depth,\n",
    "            min_samples_split = min_samples_split,\n",
    "            min_samples_leaf = min_samples_leaf,\n",
    "            max_features = max_features,\n",
    "            random_state = random_state\n",
    "        )\n",
    "_ = clf.fit(df_x_training_validacion_tmp, df_y_training_validacion)"
   ]
  },
  {
   "cell_type": "markdown",
   "id": "01adf132-1a55-46b2-86de-4b214ab87704",
   "metadata": {},
   "source": [
    "### Ejecutamos el modelo contra testing"
   ]
  },
  {
   "cell_type": "code",
   "execution_count": 19,
   "id": "e25fa86f-8835-44cd-8a47-208bce4cbd95",
   "metadata": {
    "tags": []
   },
   "outputs": [
    {
     "data": {
      "text/html": [
       "<div>\n",
       "<style scoped>\n",
       "    .dataframe tbody tr th:only-of-type {\n",
       "        vertical-align: middle;\n",
       "    }\n",
       "\n",
       "    .dataframe tbody tr th {\n",
       "        vertical-align: top;\n",
       "    }\n",
       "\n",
       "    .dataframe thead th {\n",
       "        text-align: right;\n",
       "    }\n",
       "</style>\n",
       "<table border=\"1\" class=\"dataframe\">\n",
       "  <thead>\n",
       "    <tr style=\"text-align: right;\">\n",
       "      <th></th>\n",
       "      <th>NO</th>\n",
       "      <th>SI</th>\n",
       "      <th>prediccion</th>\n",
       "    </tr>\n",
       "  </thead>\n",
       "  <tbody>\n",
       "    <tr>\n",
       "      <th>0</th>\n",
       "      <td>1.000000</td>\n",
       "      <td>0.000000</td>\n",
       "      <td>NO</td>\n",
       "    </tr>\n",
       "    <tr>\n",
       "      <th>1</th>\n",
       "      <td>1.000000</td>\n",
       "      <td>0.000000</td>\n",
       "      <td>NO</td>\n",
       "    </tr>\n",
       "    <tr>\n",
       "      <th>2</th>\n",
       "      <td>1.000000</td>\n",
       "      <td>0.000000</td>\n",
       "      <td>NO</td>\n",
       "    </tr>\n",
       "    <tr>\n",
       "      <th>3</th>\n",
       "      <td>1.000000</td>\n",
       "      <td>0.000000</td>\n",
       "      <td>NO</td>\n",
       "    </tr>\n",
       "    <tr>\n",
       "      <th>4</th>\n",
       "      <td>1.000000</td>\n",
       "      <td>0.000000</td>\n",
       "      <td>NO</td>\n",
       "    </tr>\n",
       "    <tr>\n",
       "      <th>...</th>\n",
       "      <td>...</td>\n",
       "      <td>...</td>\n",
       "      <td>...</td>\n",
       "    </tr>\n",
       "    <tr>\n",
       "      <th>9795</th>\n",
       "      <td>1.000000</td>\n",
       "      <td>0.000000</td>\n",
       "      <td>NO</td>\n",
       "    </tr>\n",
       "    <tr>\n",
       "      <th>9796</th>\n",
       "      <td>1.000000</td>\n",
       "      <td>0.000000</td>\n",
       "      <td>NO</td>\n",
       "    </tr>\n",
       "    <tr>\n",
       "      <th>9797</th>\n",
       "      <td>1.000000</td>\n",
       "      <td>0.000000</td>\n",
       "      <td>NO</td>\n",
       "    </tr>\n",
       "    <tr>\n",
       "      <th>9798</th>\n",
       "      <td>0.785714</td>\n",
       "      <td>0.214286</td>\n",
       "      <td>SI</td>\n",
       "    </tr>\n",
       "    <tr>\n",
       "      <th>9799</th>\n",
       "      <td>1.000000</td>\n",
       "      <td>0.000000</td>\n",
       "      <td>NO</td>\n",
       "    </tr>\n",
       "  </tbody>\n",
       "</table>\n",
       "<p>9800 rows × 3 columns</p>\n",
       "</div>"
      ],
      "text/plain": [
       "            NO        SI prediccion\n",
       "0     1.000000  0.000000         NO\n",
       "1     1.000000  0.000000         NO\n",
       "2     1.000000  0.000000         NO\n",
       "3     1.000000  0.000000         NO\n",
       "4     1.000000  0.000000         NO\n",
       "...        ...       ...        ...\n",
       "9795  1.000000  0.000000         NO\n",
       "9796  1.000000  0.000000         NO\n",
       "9797  1.000000  0.000000         NO\n",
       "9798  0.785714  0.214286         SI\n",
       "9799  1.000000  0.000000         NO\n",
       "\n",
       "[9800 rows x 3 columns]"
      ]
     },
     "execution_count": 19,
     "metadata": {},
     "output_type": "execute_result"
    }
   ],
   "source": [
    "y_validacion_pred = clf.predict_proba(df_x_testing_tmp)\n",
    "df_y_validacion_pred_proba = pd.DataFrame(y_validacion_pred, columns = ['NO', 'SI'])\n",
    "df_y_validacion_pred_proba['prediccion'] = 'SI'\n",
    "df_y_validacion_pred_proba.loc[df_y_validacion_pred_proba['NO']>punto_de_corte, 'prediccion'] = 'NO'\n",
    "df_y_validacion_pred_proba"
   ]
  },
  {
   "cell_type": "code",
   "execution_count": 20,
   "id": "63d7bf8d-f50e-462c-bd73-88d360cd09d7",
   "metadata": {
    "tags": []
   },
   "outputs": [
    {
     "data": {
      "image/png": "[encoded data removed]",
      "text/plain": [
       "<Figure size 640x480 with 2 Axes>"
      ]
     },
     "metadata": {},
     "output_type": "display_data"
    }
   ],
   "source": [
    "cm = confusion_matrix(df_y_testing, df_y_validacion_pred_proba['prediccion'], labels=['SI', 'NO'])\n",
    "true_positives = cm[0,0]\n",
    "true_negatives = cm[1,1]\n",
    "false_positives = cm[1, 0]\n",
    "false_negatives = cm[0,1]\n",
    "disp = ConfusionMatrixDisplay(confusion_matrix=cm, display_labels=['SI', 'NO'])\n",
    "disp.plot()\n",
    "plt.xlabel('Predicción')\n",
    "plt.ylabel('Real')\n",
    "plt.show()"
   ]
  },
  {
   "cell_type": "code",
   "execution_count": 21,
   "id": "23acf1e5-8620-45aa-90cf-2677c35adba0",
   "metadata": {
    "tags": []
   },
   "outputs": [
    {
     "data": {
      "text/plain": [
       "1190.0"
      ]
     },
     "execution_count": 21,
     "metadata": {},
     "output_type": "execute_result"
    }
   ],
   "source": [
    "metrica_negocio = ((4000*true_positives) - (500*false_positives))/(true_positives + false_negatives)\n",
    "metrica_negocio"
   ]
  },
  {
   "cell_type": "code",
   "execution_count": null,
   "id": "54f1da78-057e-423b-b5cd-3cae919c005f",
   "metadata": {},
   "outputs": [],
   "source": []
  }
 ],
 "metadata": {
  "kernelspec": {
   "display_name": "Python 3 (ipykernel)",
   "language": "python",
   "name": "python3"
  },
  "language_info": {
   "codemirror_mode": {
    "name": "ipython",
    "version": 3
   },
   "file_extension": ".py",
   "mimetype": "text/x-python",
   "name": "python",
   "nbconvert_exporter": "python",
   "pygments_lexer": "ipython3",
   "version": "3.9.16"
  }
 },
 "nbformat": 4,
 "nbformat_minor": 5
}
