{
 "cells": [
  {
   "cell_type": "markdown",
   "id": "30e03428-556e-490b-914a-3ef648bad4dd",
   "metadata": {},
   "source": [
    "### A completar por el participante"
   ]
  },
  {
   "cell_type": "code",
   "execution_count": 1,
   "id": "06e768cb-e636-4542-bd62-bba059d43cb7",
   "metadata": {
    "tags": []
   },
   "outputs": [],
   "source": [
    "punto_de_corte = 0.11395457979170637\n",
    "criterion = \"gini\" #“gini”, “entropy”, “log_loss”\n",
    "max_depth = 26\n",
    "min_samples_split = 356\n",
    "min_samples_leaf = 375"
   ]
  },
  {
   "cell_type": "code",
   "execution_count": 2,
   "id": "9741de6c-1503-40a0-9dbf-82d25334e0cc",
   "metadata": {
    "tags": []
   },
   "outputs": [],
   "source": [
    "random_state = 777"
   ]
  },
  {
   "cell_type": "markdown",
   "id": "da6ecf18-8a7b-4efa-87a1-35a5137a8811",
   "metadata": {},
   "source": [
    "### Importamos los paquetes necesarios"
   ]
  },
  {
   "cell_type": "code",
   "execution_count": 3,
   "id": "621a062c-e8c6-49a3-8fee-0fe10b679107",
   "metadata": {
    "tags": []
   },
   "outputs": [],
   "source": [
    "import pandas as pd\n",
    "import numpy as np\n",
    "\n",
    "import matplotlib.pyplot as plt\n",
    "\n",
    "from sklearn.model_selection import train_test_split\n",
    "from sklearn.metrics import ConfusionMatrixDisplay\n",
    "from sklearn.metrics import confusion_matrix\n",
    "from sklearn import tree\n",
    "\n",
    "from sklearn.tree import DecisionTreeClassifier\n",
    "\n",
    "from IPython.display import Image  \n",
    "\n",
    "from sklearn.metrics import confusion_matrix\n",
    "from sklearn import tree"
   ]
  },
  {
   "cell_type": "markdown",
   "id": "f8465dfb-2944-40a1-b295-69c21ae96aca",
   "metadata": {},
   "source": [
    "### Carga de datos adicionales sobre las cervezas:\n",
    "* primera fecha de review\n",
    "* ultima fecha de review \n",
    "* contenido alcoholico \n",
    "* disponibilidad (resta, en días, entre la ultima fecha de review y la primera fecha de review)"
   ]
  },
  {
   "cell_type": "code",
   "execution_count": 4,
   "id": "35547b2b-c117-4616-b303-d0845bfaa3ad",
   "metadata": {
    "tags": []
   },
   "outputs": [
    {
     "data": {
      "text/html": [
       "<div>\n",
       "<style scoped>\n",
       "    .dataframe tbody tr th:only-of-type {\n",
       "        vertical-align: middle;\n",
       "    }\n",
       "\n",
       "    .dataframe tbody tr th {\n",
       "        vertical-align: top;\n",
       "    }\n",
       "\n",
       "    .dataframe thead th {\n",
       "        text-align: right;\n",
       "    }\n",
       "</style>\n",
       "<table border=\"1\" class=\"dataframe\">\n",
       "  <thead>\n",
       "    <tr style=\"text-align: right;\">\n",
       "      <th></th>\n",
       "      <th>beer_beerid</th>\n",
       "      <th>min_review_date</th>\n",
       "      <th>max_review_date</th>\n",
       "      <th>disponibilidad</th>\n",
       "    </tr>\n",
       "  </thead>\n",
       "  <tbody>\n",
       "    <tr>\n",
       "      <th>0</th>\n",
       "      <td>3</td>\n",
       "      <td>2002-04-17</td>\n",
       "      <td>2003-03-17</td>\n",
       "      <td>334.0</td>\n",
       "    </tr>\n",
       "    <tr>\n",
       "      <th>1</th>\n",
       "      <td>4</td>\n",
       "      <td>2002-04-05</td>\n",
       "      <td>2005-03-21</td>\n",
       "      <td>1081.0</td>\n",
       "    </tr>\n",
       "    <tr>\n",
       "      <th>2</th>\n",
       "      <td>5</td>\n",
       "      <td>2001-07-08</td>\n",
       "      <td>2012-01-01</td>\n",
       "      <td>3829.0</td>\n",
       "    </tr>\n",
       "    <tr>\n",
       "      <th>3</th>\n",
       "      <td>6</td>\n",
       "      <td>2001-03-02</td>\n",
       "      <td>2012-01-02</td>\n",
       "      <td>3958.0</td>\n",
       "    </tr>\n",
       "    <tr>\n",
       "      <th>4</th>\n",
       "      <td>7</td>\n",
       "      <td>2001-10-19</td>\n",
       "      <td>2011-12-31</td>\n",
       "      <td>3725.0</td>\n",
       "    </tr>\n",
       "  </tbody>\n",
       "</table>\n",
       "</div>"
      ],
      "text/plain": [
       "   beer_beerid min_review_date max_review_date  disponibilidad\n",
       "0            3      2002-04-17      2003-03-17           334.0\n",
       "1            4      2002-04-05      2005-03-21          1081.0\n",
       "2            5      2001-07-08      2012-01-01          3829.0\n",
       "3            6      2001-03-02      2012-01-02          3958.0\n",
       "4            7      2001-10-19      2011-12-31          3725.0"
      ]
     },
     "execution_count": 4,
     "metadata": {},
     "output_type": "execute_result"
    }
   ],
   "source": [
    "directorio_data = '../data/'\n",
    "dataset_completo_file = directorio_data + 'beer_reviews.csv'\n",
    "df_extra_info_dataset = pd.read_csv(dataset_completo_file)[['beer_beerid', 'review_time']]\n",
    "df_extra_info_dataset['review_date'] = pd.to_datetime(pd.to_datetime(df_extra_info_dataset['review_time'],unit='s')).dt.date\n",
    "df_extra_info_dataset.head()\n",
    "df_extra_info_dataset = df_extra_info_dataset.groupby(['beer_beerid']).agg(\n",
    "    min_review_date = pd.NamedAgg(column='review_date', aggfunc='min'),\n",
    "    max_review_date = pd.NamedAgg(column='review_date', aggfunc='max')\n",
    ").reset_index()\n",
    "\n",
    "df_extra_info_dataset['disponibilidad'] = (df_extra_info_dataset['max_review_date'] - df_extra_info_dataset['min_review_date']) / np.timedelta64(1, 'D')\n",
    "\n",
    "df_extra_info_dataset.head()"
   ]
  },
  {
   "cell_type": "markdown",
   "id": "1f0dff3c-0a90-477b-af16-c7dc82f53433",
   "metadata": {},
   "source": [
    "## Zona de Feature engineering y filtrado"
   ]
  },
  {
   "cell_type": "code",
   "execution_count": 5,
   "id": "da19e240-29c1-42f2-9946-4d575b867d92",
   "metadata": {
    "tags": []
   },
   "outputs": [],
   "source": [
    "def feature_engineering_agregar_dispnibilidad(df):\n",
    "    df_output = df.copy()\n",
    "    \n",
    "    df_output = pd.merge(left=df_output, right=df_extra_info_dataset, left_on='beer_beerid', right_on='beer_beerid')\n",
    "    \n",
    "    return df_output\n",
    "\n",
    "def feature_engineering_total(df):\n",
    "    df_output = df.copy()\n",
    "\n",
    "    df_output['review_total'] = (df['review_overall'] + df['review_aroma'] + df['review_appearance'] + df['review_palate'] + df['review_taste'])\n",
    "    \n",
    "    return df_output\n",
    "\n",
    "def feature_engineering_relacion_al_overall(df):\n",
    "    df_output = df.copy()\n",
    "    \n",
    "    df_output['relacion_overall_aroma'] = df_output['review_aroma']/df['review_overall']\n",
    "    df_output['relacion_overall_palate'] = df_output['review_palate']/df['review_overall']\n",
    "    \n",
    "    return df_output\n",
    "\n",
    "def filtering_1(df):\n",
    "    df_output = df\n",
    "    return df_output"
   ]
  },
  {
   "cell_type": "markdown",
   "id": "8165f7f2-7668-4d5b-ab22-5eef8a6b2db0",
   "metadata": {},
   "source": [
    "### Carga de datos"
   ]
  },
  {
   "cell_type": "code",
   "execution_count": 6,
   "id": "03228f9c-25aa-4d59-8836-f894bf8866d0",
   "metadata": {
    "tags": []
   },
   "outputs": [],
   "source": [
    "x_training_file = directorio_data + 'x_traininig.csv'\n",
    "y_training_file = directorio_data + 'y_traininig.csv'\n",
    "\n",
    "x_testing_file = directorio_data + 'x_testing.csv'\n",
    "y_testing_file = directorio_data + 'y_testing.csv'"
   ]
  },
  {
   "cell_type": "code",
   "execution_count": 7,
   "id": "eef1f0e4-99e4-42e7-bec9-5acb1a5b8b56",
   "metadata": {
    "tags": []
   },
   "outputs": [],
   "source": [
    "df_x_training_validacion = pd.read_csv(x_training_file)\n",
    "df_y_training_validacion = pd.read_csv(y_training_file)\n",
    "\n",
    "df_x_testing = pd.read_csv(x_testing_file)\n",
    "df_y_testing = pd.read_csv(y_testing_file)"
   ]
  },
  {
   "cell_type": "markdown",
   "id": "4be4a208-4d6c-4d43-8869-3fd82621f465",
   "metadata": {},
   "source": [
    "### Aplicamos las funciones de feature engineering a los datasets de training y testing"
   ]
  },
  {
   "cell_type": "code",
   "execution_count": 8,
   "id": "98effd2a-bf42-40d1-bb02-e911c030b7d6",
   "metadata": {
    "tags": []
   },
   "outputs": [],
   "source": [
    "funciones = [\n",
    "    \"feature_engineering_agregar_dispnibilidad\",\n",
    "    \"feature_engineering_total\",\n",
    "    \"feature_engineering_relacion_al_overall\"\n",
    "]\n",
    "\n",
    "df_x_training_validacion_fe = df_x_training_validacion.copy()\n",
    "df_x_testing_fe = df_x_testing.copy()\n",
    "\n",
    "for funcion in funciones:\n",
    "    #¿es una función de feature engineering?\n",
    "    if(funcion.startswith('feature_engineering_')):\n",
    "       long_inicial_x_training_fe = len(df_x_training_validacion_fe)\n",
    "       df_x_training_validacion_fe = locals()[funcion](df_x_training_validacion_fe)\n",
    "       long_final_x_training_fe = len(df_x_training_validacion_fe)\n",
    "       if(long_inicial_x_training_fe != long_final_x_training_fe):\n",
    "           raise Exception(\"Se están eliminando registros del dataset de training en una funcion de feature engineering\")\n",
    "       \n",
    "       \n",
    "       long_inicial_x_testing_fe = len(df_x_testing_fe)\n",
    "       df_x_testing_fe = locals()[funcion](df_x_testing_fe)\n",
    "       long_final_x_testing_fe = len(df_x_testing_fe)\n",
    "       if(long_inicial_x_testing_fe != long_final_x_testing_fe):\n",
    "           raise Exception(\"Se están eliminando registros del dataset de testing en una funcion de feature engineering\")\n",
    "        \n",
    "    #¿es una función de filtrado?\n",
    "    elif(funcion.startswith('filtering_')):\n",
    "       df_x_training_validacion_fe = locals()[funcion](df_x_training_validacion_fe)\n",
    "           "
   ]
  },
  {
   "cell_type": "code",
   "execution_count": 9,
   "id": "020dc3c6-f4a3-40de-8977-464b885ed222",
   "metadata": {
    "tags": []
   },
   "outputs": [
    {
     "data": {
      "text/html": [
       "<div>\n",
       "<style scoped>\n",
       "    .dataframe tbody tr th:only-of-type {\n",
       "        vertical-align: middle;\n",
       "    }\n",
       "\n",
       "    .dataframe tbody tr th {\n",
       "        vertical-align: top;\n",
       "    }\n",
       "\n",
       "    .dataframe thead th {\n",
       "        text-align: right;\n",
       "    }\n",
       "</style>\n",
       "<table border=\"1\" class=\"dataframe\">\n",
       "  <thead>\n",
       "    <tr style=\"text-align: right;\">\n",
       "      <th></th>\n",
       "      <th>beer_beerid</th>\n",
       "      <th>review_overall</th>\n",
       "      <th>review_aroma</th>\n",
       "      <th>review_appearance</th>\n",
       "      <th>review_palate</th>\n",
       "      <th>review_taste</th>\n",
       "      <th>beer_abv</th>\n",
       "      <th>min_review_date</th>\n",
       "      <th>max_review_date</th>\n",
       "      <th>disponibilidad</th>\n",
       "      <th>review_total</th>\n",
       "      <th>relacion_overall_aroma</th>\n",
       "      <th>relacion_overall_palate</th>\n",
       "    </tr>\n",
       "  </thead>\n",
       "  <tbody>\n",
       "    <tr>\n",
       "      <th>0</th>\n",
       "      <td>7377</td>\n",
       "      <td>3.250000</td>\n",
       "      <td>3.000</td>\n",
       "      <td>3.000000</td>\n",
       "      <td>3.250000</td>\n",
       "      <td>3.250000</td>\n",
       "      <td>5.2</td>\n",
       "      <td>2003-04-20</td>\n",
       "      <td>2006-02-27</td>\n",
       "      <td>1044.0</td>\n",
       "      <td>15.750000</td>\n",
       "      <td>0.923077</td>\n",
       "      <td>1.000000</td>\n",
       "    </tr>\n",
       "    <tr>\n",
       "      <th>1</th>\n",
       "      <td>21753</td>\n",
       "      <td>4.150000</td>\n",
       "      <td>4.175</td>\n",
       "      <td>4.400000</td>\n",
       "      <td>4.125000</td>\n",
       "      <td>4.125000</td>\n",
       "      <td>4.2</td>\n",
       "      <td>2005-01-30</td>\n",
       "      <td>2011-07-05</td>\n",
       "      <td>2347.0</td>\n",
       "      <td>20.975000</td>\n",
       "      <td>1.006024</td>\n",
       "      <td>0.993976</td>\n",
       "    </tr>\n",
       "    <tr>\n",
       "      <th>2</th>\n",
       "      <td>5330</td>\n",
       "      <td>4.000000</td>\n",
       "      <td>4.000</td>\n",
       "      <td>4.000000</td>\n",
       "      <td>4.000000</td>\n",
       "      <td>4.500000</td>\n",
       "      <td>8.0</td>\n",
       "      <td>2002-08-07</td>\n",
       "      <td>2002-08-07</td>\n",
       "      <td>0.0</td>\n",
       "      <td>20.500000</td>\n",
       "      <td>1.000000</td>\n",
       "      <td>1.000000</td>\n",
       "    </tr>\n",
       "    <tr>\n",
       "      <th>3</th>\n",
       "      <td>67188</td>\n",
       "      <td>4.125000</td>\n",
       "      <td>3.875</td>\n",
       "      <td>3.750000</td>\n",
       "      <td>4.125000</td>\n",
       "      <td>4.000000</td>\n",
       "      <td>6.0</td>\n",
       "      <td>2011-03-14</td>\n",
       "      <td>2011-04-19</td>\n",
       "      <td>36.0</td>\n",
       "      <td>19.875000</td>\n",
       "      <td>0.939394</td>\n",
       "      <td>1.000000</td>\n",
       "    </tr>\n",
       "    <tr>\n",
       "      <th>4</th>\n",
       "      <td>16542</td>\n",
       "      <td>4.208333</td>\n",
       "      <td>3.750</td>\n",
       "      <td>4.333333</td>\n",
       "      <td>4.083333</td>\n",
       "      <td>4.083333</td>\n",
       "      <td>6.7</td>\n",
       "      <td>2004-04-26</td>\n",
       "      <td>2011-01-26</td>\n",
       "      <td>2466.0</td>\n",
       "      <td>20.458333</td>\n",
       "      <td>0.891089</td>\n",
       "      <td>0.970297</td>\n",
       "    </tr>\n",
       "  </tbody>\n",
       "</table>\n",
       "</div>"
      ],
      "text/plain": [
       "   beer_beerid  review_overall  review_aroma  review_appearance   \n",
       "0         7377        3.250000         3.000           3.000000  \\\n",
       "1        21753        4.150000         4.175           4.400000   \n",
       "2         5330        4.000000         4.000           4.000000   \n",
       "3        67188        4.125000         3.875           3.750000   \n",
       "4        16542        4.208333         3.750           4.333333   \n",
       "\n",
       "   review_palate  review_taste  beer_abv min_review_date max_review_date   \n",
       "0       3.250000      3.250000       5.2      2003-04-20      2006-02-27  \\\n",
       "1       4.125000      4.125000       4.2      2005-01-30      2011-07-05   \n",
       "2       4.000000      4.500000       8.0      2002-08-07      2002-08-07   \n",
       "3       4.125000      4.000000       6.0      2011-03-14      2011-04-19   \n",
       "4       4.083333      4.083333       6.7      2004-04-26      2011-01-26   \n",
       "\n",
       "   disponibilidad  review_total  relacion_overall_aroma   \n",
       "0          1044.0     15.750000                0.923077  \\\n",
       "1          2347.0     20.975000                1.006024   \n",
       "2             0.0     20.500000                1.000000   \n",
       "3            36.0     19.875000                0.939394   \n",
       "4          2466.0     20.458333                0.891089   \n",
       "\n",
       "   relacion_overall_palate  \n",
       "0                 1.000000  \n",
       "1                 0.993976  \n",
       "2                 1.000000  \n",
       "3                 1.000000  \n",
       "4                 0.970297  "
      ]
     },
     "execution_count": 9,
     "metadata": {},
     "output_type": "execute_result"
    }
   ],
   "source": [
    "df_x_training_validacion_fe.head()"
   ]
  },
  {
   "cell_type": "code",
   "execution_count": 10,
   "id": "165a762c-839b-4dc8-9ae6-13a285872037",
   "metadata": {
    "tags": []
   },
   "outputs": [
    {
     "data": {
      "text/html": [
       "<div>\n",
       "<style scoped>\n",
       "    .dataframe tbody tr th:only-of-type {\n",
       "        vertical-align: middle;\n",
       "    }\n",
       "\n",
       "    .dataframe tbody tr th {\n",
       "        vertical-align: top;\n",
       "    }\n",
       "\n",
       "    .dataframe thead th {\n",
       "        text-align: right;\n",
       "    }\n",
       "</style>\n",
       "<table border=\"1\" class=\"dataframe\">\n",
       "  <thead>\n",
       "    <tr style=\"text-align: right;\">\n",
       "      <th></th>\n",
       "      <th>beer_beerid</th>\n",
       "      <th>review_overall</th>\n",
       "      <th>review_aroma</th>\n",
       "      <th>review_appearance</th>\n",
       "      <th>review_palate</th>\n",
       "      <th>review_taste</th>\n",
       "      <th>beer_abv</th>\n",
       "      <th>min_review_date</th>\n",
       "      <th>max_review_date</th>\n",
       "      <th>disponibilidad</th>\n",
       "      <th>review_total</th>\n",
       "      <th>relacion_overall_aroma</th>\n",
       "      <th>relacion_overall_palate</th>\n",
       "    </tr>\n",
       "  </thead>\n",
       "  <tbody>\n",
       "    <tr>\n",
       "      <th>0</th>\n",
       "      <td>10364</td>\n",
       "      <td>3.751534</td>\n",
       "      <td>3.030675</td>\n",
       "      <td>3.257669</td>\n",
       "      <td>3.266871</td>\n",
       "      <td>3.401840</td>\n",
       "      <td>4.6</td>\n",
       "      <td>2003-07-04</td>\n",
       "      <td>2012-01-08</td>\n",
       "      <td>3110.0</td>\n",
       "      <td>16.708589</td>\n",
       "      <td>0.807850</td>\n",
       "      <td>0.870809</td>\n",
       "    </tr>\n",
       "    <tr>\n",
       "      <th>1</th>\n",
       "      <td>18518</td>\n",
       "      <td>3.818182</td>\n",
       "      <td>3.727273</td>\n",
       "      <td>3.545455</td>\n",
       "      <td>3.681818</td>\n",
       "      <td>3.818182</td>\n",
       "      <td>7.0</td>\n",
       "      <td>2004-07-05</td>\n",
       "      <td>2011-11-24</td>\n",
       "      <td>2698.0</td>\n",
       "      <td>18.590909</td>\n",
       "      <td>0.976190</td>\n",
       "      <td>0.964286</td>\n",
       "    </tr>\n",
       "    <tr>\n",
       "      <th>2</th>\n",
       "      <td>16278</td>\n",
       "      <td>3.071429</td>\n",
       "      <td>2.928571</td>\n",
       "      <td>3.500000</td>\n",
       "      <td>3.214286</td>\n",
       "      <td>3.142857</td>\n",
       "      <td>4.0</td>\n",
       "      <td>2005-11-04</td>\n",
       "      <td>2009-01-02</td>\n",
       "      <td>1155.0</td>\n",
       "      <td>15.857143</td>\n",
       "      <td>0.953488</td>\n",
       "      <td>1.046512</td>\n",
       "    </tr>\n",
       "    <tr>\n",
       "      <th>3</th>\n",
       "      <td>11087</td>\n",
       "      <td>2.625000</td>\n",
       "      <td>2.750000</td>\n",
       "      <td>3.250000</td>\n",
       "      <td>3.375000</td>\n",
       "      <td>2.750000</td>\n",
       "      <td>5.0</td>\n",
       "      <td>2005-02-21</td>\n",
       "      <td>2006-07-10</td>\n",
       "      <td>504.0</td>\n",
       "      <td>14.750000</td>\n",
       "      <td>1.047619</td>\n",
       "      <td>1.285714</td>\n",
       "    </tr>\n",
       "    <tr>\n",
       "      <th>4</th>\n",
       "      <td>17042</td>\n",
       "      <td>4.000000</td>\n",
       "      <td>3.500000</td>\n",
       "      <td>3.000000</td>\n",
       "      <td>4.000000</td>\n",
       "      <td>4.000000</td>\n",
       "      <td>4.8</td>\n",
       "      <td>2004-04-10</td>\n",
       "      <td>2004-04-10</td>\n",
       "      <td>0.0</td>\n",
       "      <td>18.500000</td>\n",
       "      <td>0.875000</td>\n",
       "      <td>1.000000</td>\n",
       "    </tr>\n",
       "  </tbody>\n",
       "</table>\n",
       "</div>"
      ],
      "text/plain": [
       "   beer_beerid  review_overall  review_aroma  review_appearance   \n",
       "0        10364        3.751534      3.030675           3.257669  \\\n",
       "1        18518        3.818182      3.727273           3.545455   \n",
       "2        16278        3.071429      2.928571           3.500000   \n",
       "3        11087        2.625000      2.750000           3.250000   \n",
       "4        17042        4.000000      3.500000           3.000000   \n",
       "\n",
       "   review_palate  review_taste  beer_abv min_review_date max_review_date   \n",
       "0       3.266871      3.401840       4.6      2003-07-04      2012-01-08  \\\n",
       "1       3.681818      3.818182       7.0      2004-07-05      2011-11-24   \n",
       "2       3.214286      3.142857       4.0      2005-11-04      2009-01-02   \n",
       "3       3.375000      2.750000       5.0      2005-02-21      2006-07-10   \n",
       "4       4.000000      4.000000       4.8      2004-04-10      2004-04-10   \n",
       "\n",
       "   disponibilidad  review_total  relacion_overall_aroma   \n",
       "0          3110.0     16.708589                0.807850  \\\n",
       "1          2698.0     18.590909                0.976190   \n",
       "2          1155.0     15.857143                0.953488   \n",
       "3           504.0     14.750000                1.047619   \n",
       "4             0.0     18.500000                0.875000   \n",
       "\n",
       "   relacion_overall_palate  \n",
       "0                 0.870809  \n",
       "1                 0.964286  \n",
       "2                 1.046512  \n",
       "3                 1.285714  \n",
       "4                 1.000000  "
      ]
     },
     "execution_count": 10,
     "metadata": {},
     "output_type": "execute_result"
    }
   ],
   "source": [
    "df_x_testing_fe.head()"
   ]
  },
  {
   "cell_type": "markdown",
   "id": "9453a947-5f93-49d9-b86c-13ed0f9e10fb",
   "metadata": {},
   "source": [
    "### Dejamos solo las columnas que queremos"
   ]
  },
  {
   "cell_type": "code",
   "execution_count": 11,
   "id": "0ed194c5-fcf7-48e3-a66b-d616167f4d3b",
   "metadata": {
    "tags": []
   },
   "outputs": [],
   "source": [
    "# Las columnas que deseamos mantener\n",
    "columnas = [\n",
    "    \"review_overall\",\n",
    "    #\"review_aroma\",\n",
    "    #\"review_appearance\",\n",
    "    \"review_palate\",\n",
    "    #\"review_taste\",\n",
    "    \"beer_abv\",\n",
    "    #\"potencia_alcoholica\",\n",
    "    #\"potencia_alcoholica_muy_baja\",\n",
    "    #\"potencia_alcoholica_baja\",\n",
    "    #\"potencia_alcoholica_media\",\n",
    "    #\"potencia_alcoholica_fuerte\",\n",
    "    #\"potencia_alcoholica_muy_fuerte\",\n",
    "    #\"review_promedio\",\n",
    "    \"review_total\",\n",
    "    'relacion_overall_aroma',\n",
    "    #'relacion_overall_appearance',\n",
    "    'relacion_overall_palate',\n",
    "    #'relacion_overall_taste',\n",
    "    'disponibilidad'\n",
    "]"
   ]
  },
  {
   "cell_type": "code",
   "execution_count": 12,
   "id": "27049edf-27f2-4900-b1a5-198b36f94422",
   "metadata": {
    "tags": []
   },
   "outputs": [],
   "source": [
    "df_x_training_validacion_tmp = df_x_training_validacion_fe[columnas]\n",
    "df_x_testing_tmp = df_x_testing_fe[columnas]"
   ]
  },
  {
   "cell_type": "markdown",
   "id": "8d16e9bd-aba6-4e7a-b448-2222861c204c",
   "metadata": {},
   "source": [
    "### Entrenamos el modelo"
   ]
  },
  {
   "cell_type": "code",
   "execution_count": 14,
   "id": "61e13cf6-a1db-4e64-8562-cf3f4509de72",
   "metadata": {
    "tags": []
   },
   "outputs": [],
   "source": [
    "clf = DecisionTreeClassifier(\n",
    "            criterion = criterion,\n",
    "            max_depth = max_depth,\n",
    "            min_samples_split = min_samples_split,\n",
    "            min_samples_leaf = min_samples_leaf,\n",
    "            random_state = random_state\n",
    "        )\n",
    "_ = clf.fit(df_x_training_validacion_tmp, df_y_training_validacion)"
   ]
  },
  {
   "cell_type": "markdown",
   "id": "01adf132-1a55-46b2-86de-4b214ab87704",
   "metadata": {},
   "source": [
    "### Ejecutamos el modelo contra testing"
   ]
  },
  {
   "cell_type": "code",
   "execution_count": 15,
   "id": "e25fa86f-8835-44cd-8a47-208bce4cbd95",
   "metadata": {
    "tags": []
   },
   "outputs": [
    {
     "data": {
      "text/html": [
       "<div>\n",
       "<style scoped>\n",
       "    .dataframe tbody tr th:only-of-type {\n",
       "        vertical-align: middle;\n",
       "    }\n",
       "\n",
       "    .dataframe tbody tr th {\n",
       "        vertical-align: top;\n",
       "    }\n",
       "\n",
       "    .dataframe thead th {\n",
       "        text-align: right;\n",
       "    }\n",
       "</style>\n",
       "<table border=\"1\" class=\"dataframe\">\n",
       "  <thead>\n",
       "    <tr style=\"text-align: right;\">\n",
       "      <th></th>\n",
       "      <th>NO_prob</th>\n",
       "      <th>SI_prob</th>\n",
       "      <th>prediccion</th>\n",
       "    </tr>\n",
       "  </thead>\n",
       "  <tbody>\n",
       "    <tr>\n",
       "      <th>0</th>\n",
       "      <td>0.992537</td>\n",
       "      <td>0.007463</td>\n",
       "      <td>NO</td>\n",
       "    </tr>\n",
       "    <tr>\n",
       "      <th>1</th>\n",
       "      <td>0.963470</td>\n",
       "      <td>0.036530</td>\n",
       "      <td>NO</td>\n",
       "    </tr>\n",
       "    <tr>\n",
       "      <th>2</th>\n",
       "      <td>1.000000</td>\n",
       "      <td>0.000000</td>\n",
       "      <td>NO</td>\n",
       "    </tr>\n",
       "    <tr>\n",
       "      <th>3</th>\n",
       "      <td>1.000000</td>\n",
       "      <td>0.000000</td>\n",
       "      <td>NO</td>\n",
       "    </tr>\n",
       "    <tr>\n",
       "      <th>4</th>\n",
       "      <td>1.000000</td>\n",
       "      <td>0.000000</td>\n",
       "      <td>NO</td>\n",
       "    </tr>\n",
       "    <tr>\n",
       "      <th>...</th>\n",
       "      <td>...</td>\n",
       "      <td>...</td>\n",
       "      <td>...</td>\n",
       "    </tr>\n",
       "    <tr>\n",
       "      <th>9795</th>\n",
       "      <td>1.000000</td>\n",
       "      <td>0.000000</td>\n",
       "      <td>NO</td>\n",
       "    </tr>\n",
       "    <tr>\n",
       "      <th>9796</th>\n",
       "      <td>1.000000</td>\n",
       "      <td>0.000000</td>\n",
       "      <td>NO</td>\n",
       "    </tr>\n",
       "    <tr>\n",
       "      <th>9797</th>\n",
       "      <td>0.962264</td>\n",
       "      <td>0.037736</td>\n",
       "      <td>NO</td>\n",
       "    </tr>\n",
       "    <tr>\n",
       "      <th>9798</th>\n",
       "      <td>1.000000</td>\n",
       "      <td>0.000000</td>\n",
       "      <td>NO</td>\n",
       "    </tr>\n",
       "    <tr>\n",
       "      <th>9799</th>\n",
       "      <td>1.000000</td>\n",
       "      <td>0.000000</td>\n",
       "      <td>NO</td>\n",
       "    </tr>\n",
       "  </tbody>\n",
       "</table>\n",
       "<p>9800 rows × 3 columns</p>\n",
       "</div>"
      ],
      "text/plain": [
       "       NO_prob   SI_prob prediccion\n",
       "0     0.992537  0.007463         NO\n",
       "1     0.963470  0.036530         NO\n",
       "2     1.000000  0.000000         NO\n",
       "3     1.000000  0.000000         NO\n",
       "4     1.000000  0.000000         NO\n",
       "...        ...       ...        ...\n",
       "9795  1.000000  0.000000         NO\n",
       "9796  1.000000  0.000000         NO\n",
       "9797  0.962264  0.037736         NO\n",
       "9798  1.000000  0.000000         NO\n",
       "9799  1.000000  0.000000         NO\n",
       "\n",
       "[9800 rows x 3 columns]"
      ]
     },
     "execution_count": 15,
     "metadata": {},
     "output_type": "execute_result"
    }
   ],
   "source": [
    "y_validacion_pred = clf.predict_proba(df_x_testing_tmp)\n",
    "df_y_validacion_pred_proba = pd.DataFrame(y_validacion_pred, columns = ['NO_prob', 'SI_prob'])\n",
    "df_y_validacion_pred_proba['prediccion'] = 'NO'\n",
    "df_y_validacion_pred_proba.loc[df_y_validacion_pred_proba['SI_prob']>punto_de_corte, 'prediccion'] = 'SI'\n",
    "df_y_validacion_pred_proba"
   ]
  },
  {
   "cell_type": "code",
   "execution_count": 16,
   "id": "63d7bf8d-f50e-462c-bd73-88d360cd09d7",
   "metadata": {
    "tags": []
   },
   "outputs": [
    {
     "data": {
      "image/png": "[encoded data removed]",
      "text/plain": [
       "<Figure size 640x480 with 2 Axes>"
      ]
     },
     "metadata": {},
     "output_type": "display_data"
    }
   ],
   "source": [
    "cm = confusion_matrix(df_y_testing, df_y_validacion_pred_proba['prediccion'], labels=['SI', 'NO'])\n",
    "true_positives = cm[0,0]\n",
    "true_negatives = cm[1,1]\n",
    "false_positives = cm[1, 0]\n",
    "false_negatives = cm[0,1]\n",
    "disp = ConfusionMatrixDisplay(confusion_matrix=cm, display_labels=['SI', 'NO'])\n",
    "disp.plot()\n",
    "plt.xlabel('Predicción')\n",
    "plt.ylabel('Real')\n",
    "plt.show()"
   ]
  },
  {
   "cell_type": "code",
   "execution_count": 17,
   "id": "23acf1e5-8620-45aa-90cf-2677c35adba0",
   "metadata": {
    "tags": []
   },
   "outputs": [
    {
     "data": {
      "text/plain": [
       "1850.0"
      ]
     },
     "execution_count": 17,
     "metadata": {},
     "output_type": "execute_result"
    }
   ],
   "source": [
    "metrica_negocio = ((4000*true_positives) - (500*false_positives))/(true_positives + false_negatives)\n",
    "metrica_negocio"
   ]
  },
  {
   "cell_type": "code",
   "execution_count": null,
   "id": "54f1da78-057e-423b-b5cd-3cae919c005f",
   "metadata": {},
   "outputs": [],
   "source": []
  }
 ],
 "metadata": {
  "kernelspec": {
   "display_name": "Python 3 (ipykernel)",
   "language": "python",
   "name": "python3"
  },
  "language_info": {
   "codemirror_mode": {
    "name": "ipython",
    "version": 3
   },
   "file_extension": ".py",
   "mimetype": "text/x-python",
   "name": "python",
   "nbconvert_exporter": "python",
   "pygments_lexer": "ipython3",
   "version": "3.9.16"
  }
 },
 "nbformat": 4,
 "nbformat_minor": 5
}
